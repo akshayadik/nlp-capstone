{
  "cells": [
    {
      "cell_type": "markdown",
      "metadata": {
        "id": "view-in-github"
      },
      "source": [
        "<a href=\"https://colab.research.google.com/github/akshayadik/nlp-capstone/blob/main/AUTOMATIC_TICKET_ASSIGNMENT-akshay.ipynb\" target=\"_parent\"><img src=\"https://colab.research.google.com/assets/colab-badge.svg\" alt=\"Open In Colab\"/></a>"
      ]
    },
    {
      "cell_type": "markdown",
      "metadata": {
        "id": "2DUz3T1y7t74"
      },
      "source": [
        "## Problem\n",
        "Manual assignment of incidents is time consuming and requires human efforts. There may be mistakes due to human errors and resource consumption is carried out ineffectively because of the misaddressing. On the other hand, manual assignment increases the response and resolution times which result in user satisfaction deterioration / poor customer service."
      ]
    },
    {
      "cell_type": "markdown",
      "metadata": {
        "id": "tLMbrRBo85N6"
      },
      "source": [
        "### 1. Problem interpretation\n",
        "- Understand the data\n",
        "- Make an abstract or an overview based on your approach\n",
        "- Break the problem into smaller tasks\n",
        "- Discuss among your teammates and share responsibilities"
      ]
    },
    {
      "cell_type": "markdown",
      "metadata": {
        "id": "vOh8-xMA879m"
      },
      "source": [
        "# Abstract\n",
        "\n",
        "An attempt at Leveraging Machine Learning and Artifical intelligence to automatically classify tickets and assign them to the right owner in a timely manner to save effort, increase user satifaction and improve throughput in the ticketing pipeline of an organization "
      ]
    },
    {
      "cell_type": "markdown",
      "metadata": {
        "id": "6lLr1g0689px"
      },
      "source": [
        "### 2. Data analysis and preprocessing: Visual displays are powerful when used well, so think carefully about the information the display.\n",
        "- Include any insightful visualization\n",
        "- Share and explain particularly meaningful features, interactions or summary of data\n",
        "- Display examples to input in your model\n",
        "- Explain changes to be incorporated into data so that it becomes ready for the model\n",
        "- Exploring the given Data files\n",
        "- Understanding the structure of data\n",
        "- Missing points in data\n",
        "- Finding inconsistencies in the data\n",
        "- Visualizing different patterns\n",
        "- Visualizing different text features\n",
        "- Dealing with missing values\n",
        "- Text preprocessing\n",
        "- Creating word vocabulary from the corpus of report text data\n",
        "- Creating tokens as required"
      ]
    },
    {
      "cell_type": "code",
      "execution_count": 1,
      "metadata": {
        "id": "8n_4pEXn87EP"
      },
      "outputs": [],
      "source": [
        "# To enable plotting graphs in Jupyter notebook\n",
        "%matplotlib inline\n",
        "\n",
        "# Numerical libraries\n",
        "import numpy as np\n",
        "\n",
        "# to handle data in form of rows and columns \n",
        "import pandas as pd    \n",
        "\n",
        "# importing ploting libraries\n",
        "import matplotlib.pyplot as plt   \n",
        "\n",
        "#importing seaborn for statistical plots\n",
        "import seaborn as sns\n",
        "\n",
        "#importing scipy stats \n",
        "import scipy\n",
        "import scipy.stats as st\n",
        "\n",
        "# Utilities\n",
        "from time import time\n",
        "from PIL import Image\n",
        "from zipfile import ZipFile\n",
        "import os, sys, itertools, re\n",
        "import warnings, pickle, string\n",
        "from wordcloud import WordCloud, STOPWORDS, ImageColorGenerator\n",
        "\n",
        "\n",
        "# Tools & Evaluation metrics\n",
        "from sklearn.metrics import confusion_matrix, classification_report, auc\n",
        "from sklearn.metrics import roc_curve, accuracy_score, precision_recall_curve\n",
        "from sklearn.feature_extraction.text import CountVectorizer\n",
        "from sklearn.model_selection import train_test_split\n",
        "from imblearn.over_sampling import RandomOverSampler\n",
        "\n",
        "# Sequential Modeling\n",
        "import keras.backend as K\n",
        "from keras.datasets import imdb\n",
        "from keras.models import Sequential, Model\n",
        "from keras.layers.merge import Concatenate\n",
        "from keras.layers import Input, Dropout, Flatten, Dense, Embedding, LSTM, GRU\n",
        "from keras.layers import BatchNormalization, TimeDistributed, Conv1D, MaxPooling1D\n",
        "from keras.constraints import max_norm, unit_norm\n",
        "from keras.preprocessing.text import Tokenizer, text_to_word_sequence\n",
        "from keras.preprocessing.sequence import pad_sequences\n",
        "from keras.callbacks import EarlyStopping, ModelCheckpoint\n",
        "\n",
        "# Traditional Modeling\n",
        "from sklearn.naive_bayes import MultinomialNB\n",
        "from sklearn.neighbors import KNeighborsClassifier\n",
        "from sklearn.pipeline import Pipeline\n",
        "from sklearn.feature_extraction.text import CountVectorizer, TfidfVectorizer, TfidfTransformer\n",
        "from sklearn.svm import SVC, LinearSVC\n",
        "from sklearn.tree import DecisionTreeClassifier\n",
        "from sklearn.ensemble import RandomForestClassifier"
      ]
    },
    {
      "cell_type": "code",
      "execution_count": 2,
      "metadata": {
        "colab": {
          "base_uri": "https://localhost:8080/"
        },
        "id": "DN_l7Yi3A5vc",
        "outputId": "9b6fd983-60e3-44e6-fca0-0043ce98d7ca"
      },
      "outputs": [
        {
          "output_type": "stream",
          "name": "stdout",
          "text": [
            "Mounted at /content/drive\n"
          ]
        }
      ],
      "source": [
        "from google.colab import drive\n",
        "drive.mount('/content/drive')"
      ]
    },
    {
      "cell_type": "code",
      "execution_count": 3,
      "metadata": {
        "id": "NHUyd37ABXuQ"
      },
      "outputs": [],
      "source": [
        "#Set your project path \n",
        "import os\n",
        "os.chdir('/content/drive/My Drive/Colab Notebooks/AIML/Capstone Project')"
      ]
    },
    {
      "cell_type": "code",
      "execution_count": 4,
      "metadata": {
        "id": "gVK7PjmADFE4"
      },
      "outputs": [],
      "source": [
        "ticket_df = pd.read_excel('input_data.xlsx')"
      ]
    },
    {
      "cell_type": "markdown",
      "source": [
        "Inspect the data"
      ],
      "metadata": {
        "id": "Ruaf86TUSz4w"
      }
    },
    {
      "cell_type": "code",
      "execution_count": 5,
      "metadata": {
        "colab": {
          "base_uri": "https://localhost:8080/",
          "height": 363
        },
        "id": "Z6Oc7GO6DqfE",
        "outputId": "389ee14e-233d-4ba3-ff95-63f50d6d5789",
        "scrolled": false
      },
      "outputs": [
        {
          "output_type": "execute_result",
          "data": {
            "text/html": [
              "\n",
              "  <div id=\"df-8ab614fc-4ec7-4855-a943-d6410b056fac\">\n",
              "    <div class=\"colab-df-container\">\n",
              "      <div>\n",
              "<style scoped>\n",
              "    .dataframe tbody tr th:only-of-type {\n",
              "        vertical-align: middle;\n",
              "    }\n",
              "\n",
              "    .dataframe tbody tr th {\n",
              "        vertical-align: top;\n",
              "    }\n",
              "\n",
              "    .dataframe thead th {\n",
              "        text-align: right;\n",
              "    }\n",
              "</style>\n",
              "<table border=\"1\" class=\"dataframe\">\n",
              "  <thead>\n",
              "    <tr style=\"text-align: right;\">\n",
              "      <th></th>\n",
              "      <th>Short description</th>\n",
              "      <th>Description</th>\n",
              "      <th>Caller</th>\n",
              "      <th>Assignment group</th>\n",
              "    </tr>\n",
              "  </thead>\n",
              "  <tbody>\n",
              "    <tr>\n",
              "      <th>0</th>\n",
              "      <td>login issue</td>\n",
              "      <td>-verified user details.(employee# &amp; manager na...</td>\n",
              "      <td>spxjnwir pjlcoqds</td>\n",
              "      <td>GRP_0</td>\n",
              "    </tr>\n",
              "    <tr>\n",
              "      <th>1</th>\n",
              "      <td>outlook</td>\n",
              "      <td>\\r\\n\\r\\nreceived from: hmjdrvpb.komuaywn@gmail...</td>\n",
              "      <td>hmjdrvpb komuaywn</td>\n",
              "      <td>GRP_0</td>\n",
              "    </tr>\n",
              "    <tr>\n",
              "      <th>2</th>\n",
              "      <td>cant log in to vpn</td>\n",
              "      <td>\\r\\n\\r\\nreceived from: eylqgodm.ybqkwiam@gmail...</td>\n",
              "      <td>eylqgodm ybqkwiam</td>\n",
              "      <td>GRP_0</td>\n",
              "    </tr>\n",
              "    <tr>\n",
              "      <th>3</th>\n",
              "      <td>unable to access hr_tool page</td>\n",
              "      <td>unable to access hr_tool page</td>\n",
              "      <td>xbkucsvz gcpydteq</td>\n",
              "      <td>GRP_0</td>\n",
              "    </tr>\n",
              "    <tr>\n",
              "      <th>4</th>\n",
              "      <td>skype error</td>\n",
              "      <td>skype error</td>\n",
              "      <td>owlgqjme qhcozdfx</td>\n",
              "      <td>GRP_0</td>\n",
              "    </tr>\n",
              "    <tr>\n",
              "      <th>5</th>\n",
              "      <td>unable to log in to engineering tool and skype</td>\n",
              "      <td>unable to log in to engineering tool and skype</td>\n",
              "      <td>eflahbxn ltdgrvkz</td>\n",
              "      <td>GRP_0</td>\n",
              "    </tr>\n",
              "    <tr>\n",
              "      <th>6</th>\n",
              "      <td>event: critical:HostName_221.company.com the v...</td>\n",
              "      <td>event: critical:HostName_221.company.com the v...</td>\n",
              "      <td>jyoqwxhz clhxsoqy</td>\n",
              "      <td>GRP_1</td>\n",
              "    </tr>\n",
              "    <tr>\n",
              "      <th>7</th>\n",
              "      <td>ticket_no1550391- employment status - new non-...</td>\n",
              "      <td>ticket_no1550391- employment status - new non-...</td>\n",
              "      <td>eqzibjhw ymebpoih</td>\n",
              "      <td>GRP_0</td>\n",
              "    </tr>\n",
              "    <tr>\n",
              "      <th>8</th>\n",
              "      <td>unable to disable add ins on outlook</td>\n",
              "      <td>unable to disable add ins on outlook</td>\n",
              "      <td>mdbegvct dbvichlg</td>\n",
              "      <td>GRP_0</td>\n",
              "    </tr>\n",
              "    <tr>\n",
              "      <th>9</th>\n",
              "      <td>ticket update on inplant_874773</td>\n",
              "      <td>ticket update on inplant_874773</td>\n",
              "      <td>fumkcsji sarmtlhy</td>\n",
              "      <td>GRP_0</td>\n",
              "    </tr>\n",
              "  </tbody>\n",
              "</table>\n",
              "</div>\n",
              "      <button class=\"colab-df-convert\" onclick=\"convertToInteractive('df-8ab614fc-4ec7-4855-a943-d6410b056fac')\"\n",
              "              title=\"Convert this dataframe to an interactive table.\"\n",
              "              style=\"display:none;\">\n",
              "        \n",
              "  <svg xmlns=\"http://www.w3.org/2000/svg\" height=\"24px\"viewBox=\"0 0 24 24\"\n",
              "       width=\"24px\">\n",
              "    <path d=\"M0 0h24v24H0V0z\" fill=\"none\"/>\n",
              "    <path d=\"M18.56 5.44l.94 2.06.94-2.06 2.06-.94-2.06-.94-.94-2.06-.94 2.06-2.06.94zm-11 1L8.5 8.5l.94-2.06 2.06-.94-2.06-.94L8.5 2.5l-.94 2.06-2.06.94zm10 10l.94 2.06.94-2.06 2.06-.94-2.06-.94-.94-2.06-.94 2.06-2.06.94z\"/><path d=\"M17.41 7.96l-1.37-1.37c-.4-.4-.92-.59-1.43-.59-.52 0-1.04.2-1.43.59L10.3 9.45l-7.72 7.72c-.78.78-.78 2.05 0 2.83L4 21.41c.39.39.9.59 1.41.59.51 0 1.02-.2 1.41-.59l7.78-7.78 2.81-2.81c.8-.78.8-2.07 0-2.86zM5.41 20L4 18.59l7.72-7.72 1.47 1.35L5.41 20z\"/>\n",
              "  </svg>\n",
              "      </button>\n",
              "      \n",
              "  <style>\n",
              "    .colab-df-container {\n",
              "      display:flex;\n",
              "      flex-wrap:wrap;\n",
              "      gap: 12px;\n",
              "    }\n",
              "\n",
              "    .colab-df-convert {\n",
              "      background-color: #E8F0FE;\n",
              "      border: none;\n",
              "      border-radius: 50%;\n",
              "      cursor: pointer;\n",
              "      display: none;\n",
              "      fill: #1967D2;\n",
              "      height: 32px;\n",
              "      padding: 0 0 0 0;\n",
              "      width: 32px;\n",
              "    }\n",
              "\n",
              "    .colab-df-convert:hover {\n",
              "      background-color: #E2EBFA;\n",
              "      box-shadow: 0px 1px 2px rgba(60, 64, 67, 0.3), 0px 1px 3px 1px rgba(60, 64, 67, 0.15);\n",
              "      fill: #174EA6;\n",
              "    }\n",
              "\n",
              "    [theme=dark] .colab-df-convert {\n",
              "      background-color: #3B4455;\n",
              "      fill: #D2E3FC;\n",
              "    }\n",
              "\n",
              "    [theme=dark] .colab-df-convert:hover {\n",
              "      background-color: #434B5C;\n",
              "      box-shadow: 0px 1px 3px 1px rgba(0, 0, 0, 0.15);\n",
              "      filter: drop-shadow(0px 1px 2px rgba(0, 0, 0, 0.3));\n",
              "      fill: #FFFFFF;\n",
              "    }\n",
              "  </style>\n",
              "\n",
              "      <script>\n",
              "        const buttonEl =\n",
              "          document.querySelector('#df-8ab614fc-4ec7-4855-a943-d6410b056fac button.colab-df-convert');\n",
              "        buttonEl.style.display =\n",
              "          google.colab.kernel.accessAllowed ? 'block' : 'none';\n",
              "\n",
              "        async function convertToInteractive(key) {\n",
              "          const element = document.querySelector('#df-8ab614fc-4ec7-4855-a943-d6410b056fac');\n",
              "          const dataTable =\n",
              "            await google.colab.kernel.invokeFunction('convertToInteractive',\n",
              "                                                     [key], {});\n",
              "          if (!dataTable) return;\n",
              "\n",
              "          const docLinkHtml = 'Like what you see? Visit the ' +\n",
              "            '<a target=\"_blank\" href=https://colab.research.google.com/notebooks/data_table.ipynb>data table notebook</a>'\n",
              "            + ' to learn more about interactive tables.';\n",
              "          element.innerHTML = '';\n",
              "          dataTable['output_type'] = 'display_data';\n",
              "          await google.colab.output.renderOutput(dataTable, element);\n",
              "          const docLink = document.createElement('div');\n",
              "          docLink.innerHTML = docLinkHtml;\n",
              "          element.appendChild(docLink);\n",
              "        }\n",
              "      </script>\n",
              "    </div>\n",
              "  </div>\n",
              "  "
            ],
            "text/plain": [
              "                                   Short description  ... Assignment group\n",
              "0                                        login issue  ...            GRP_0\n",
              "1                                            outlook  ...            GRP_0\n",
              "2                                 cant log in to vpn  ...            GRP_0\n",
              "3                      unable to access hr_tool page  ...            GRP_0\n",
              "4                                       skype error   ...            GRP_0\n",
              "5     unable to log in to engineering tool and skype  ...            GRP_0\n",
              "6  event: critical:HostName_221.company.com the v...  ...            GRP_1\n",
              "7  ticket_no1550391- employment status - new non-...  ...            GRP_0\n",
              "8               unable to disable add ins on outlook  ...            GRP_0\n",
              "9                    ticket update on inplant_874773  ...            GRP_0\n",
              "\n",
              "[10 rows x 4 columns]"
            ]
          },
          "metadata": {},
          "execution_count": 5
        }
      ],
      "source": [
        "# Check top few records to get a feel of the data structure\n",
        "ticket_df.head(10)"
      ]
    },
    {
      "cell_type": "code",
      "source": [
        "print(f'Size of data is {ticket_df.size} and Shape of data is {ticket_df.shape}')"
      ],
      "metadata": {
        "colab": {
          "base_uri": "https://localhost:8080/"
        },
        "id": "Pzvyy0dQNO3X",
        "outputId": "02f64480-931a-4ef6-bf28-240ee25e5344"
      },
      "execution_count": 6,
      "outputs": [
        {
          "output_type": "stream",
          "name": "stdout",
          "text": [
            "Size of data is 34000 and Shape of data is (8500, 4)\n"
          ]
        }
      ]
    },
    {
      "cell_type": "markdown",
      "source": [
        "Check the data type"
      ],
      "metadata": {
        "id": "FImE3c6GOhe1"
      }
    },
    {
      "cell_type": "code",
      "source": [
        "ticket_df.info()"
      ],
      "metadata": {
        "colab": {
          "base_uri": "https://localhost:8080/"
        },
        "id": "G_BhVsouOPsf",
        "outputId": "6ebefcec-d346-4833-ec84-81313a9b56b9"
      },
      "execution_count": 7,
      "outputs": [
        {
          "output_type": "stream",
          "name": "stdout",
          "text": [
            "<class 'pandas.core.frame.DataFrame'>\n",
            "RangeIndex: 8500 entries, 0 to 8499\n",
            "Data columns (total 4 columns):\n",
            " #   Column             Non-Null Count  Dtype \n",
            "---  ------             --------------  ----- \n",
            " 0   Short description  8492 non-null   object\n",
            " 1   Description        8499 non-null   object\n",
            " 2   Caller             8500 non-null   object\n",
            " 3   Assignment group   8500 non-null   object\n",
            "dtypes: object(4)\n",
            "memory usage: 265.8+ KB\n"
          ]
        }
      ]
    },
    {
      "cell_type": "markdown",
      "source": [
        "Describe the data with summary stats"
      ],
      "metadata": {
        "id": "nXh-9Y1mPPEP"
      }
    },
    {
      "cell_type": "code",
      "source": [
        "ticket_df.describe(include='all').T"
      ],
      "metadata": {
        "colab": {
          "base_uri": "https://localhost:8080/",
          "height": 175
        },
        "id": "WrgLD1a_NxHs",
        "outputId": "80578904-34ab-402a-adcf-3920b0c7f8fb"
      },
      "execution_count": 8,
      "outputs": [
        {
          "output_type": "execute_result",
          "data": {
            "text/html": [
              "\n",
              "  <div id=\"df-d0037afa-8282-4222-8028-724e3cbd0f05\">\n",
              "    <div class=\"colab-df-container\">\n",
              "      <div>\n",
              "<style scoped>\n",
              "    .dataframe tbody tr th:only-of-type {\n",
              "        vertical-align: middle;\n",
              "    }\n",
              "\n",
              "    .dataframe tbody tr th {\n",
              "        vertical-align: top;\n",
              "    }\n",
              "\n",
              "    .dataframe thead th {\n",
              "        text-align: right;\n",
              "    }\n",
              "</style>\n",
              "<table border=\"1\" class=\"dataframe\">\n",
              "  <thead>\n",
              "    <tr style=\"text-align: right;\">\n",
              "      <th></th>\n",
              "      <th>count</th>\n",
              "      <th>unique</th>\n",
              "      <th>top</th>\n",
              "      <th>freq</th>\n",
              "    </tr>\n",
              "  </thead>\n",
              "  <tbody>\n",
              "    <tr>\n",
              "      <th>Short description</th>\n",
              "      <td>8492</td>\n",
              "      <td>7481</td>\n",
              "      <td>password reset</td>\n",
              "      <td>38</td>\n",
              "    </tr>\n",
              "    <tr>\n",
              "      <th>Description</th>\n",
              "      <td>8499</td>\n",
              "      <td>7817</td>\n",
              "      <td>the</td>\n",
              "      <td>56</td>\n",
              "    </tr>\n",
              "    <tr>\n",
              "      <th>Caller</th>\n",
              "      <td>8500</td>\n",
              "      <td>2950</td>\n",
              "      <td>bpctwhsn kzqsbmtp</td>\n",
              "      <td>810</td>\n",
              "    </tr>\n",
              "    <tr>\n",
              "      <th>Assignment group</th>\n",
              "      <td>8500</td>\n",
              "      <td>74</td>\n",
              "      <td>GRP_0</td>\n",
              "      <td>3976</td>\n",
              "    </tr>\n",
              "  </tbody>\n",
              "</table>\n",
              "</div>\n",
              "      <button class=\"colab-df-convert\" onclick=\"convertToInteractive('df-d0037afa-8282-4222-8028-724e3cbd0f05')\"\n",
              "              title=\"Convert this dataframe to an interactive table.\"\n",
              "              style=\"display:none;\">\n",
              "        \n",
              "  <svg xmlns=\"http://www.w3.org/2000/svg\" height=\"24px\"viewBox=\"0 0 24 24\"\n",
              "       width=\"24px\">\n",
              "    <path d=\"M0 0h24v24H0V0z\" fill=\"none\"/>\n",
              "    <path d=\"M18.56 5.44l.94 2.06.94-2.06 2.06-.94-2.06-.94-.94-2.06-.94 2.06-2.06.94zm-11 1L8.5 8.5l.94-2.06 2.06-.94-2.06-.94L8.5 2.5l-.94 2.06-2.06.94zm10 10l.94 2.06.94-2.06 2.06-.94-2.06-.94-.94-2.06-.94 2.06-2.06.94z\"/><path d=\"M17.41 7.96l-1.37-1.37c-.4-.4-.92-.59-1.43-.59-.52 0-1.04.2-1.43.59L10.3 9.45l-7.72 7.72c-.78.78-.78 2.05 0 2.83L4 21.41c.39.39.9.59 1.41.59.51 0 1.02-.2 1.41-.59l7.78-7.78 2.81-2.81c.8-.78.8-2.07 0-2.86zM5.41 20L4 18.59l7.72-7.72 1.47 1.35L5.41 20z\"/>\n",
              "  </svg>\n",
              "      </button>\n",
              "      \n",
              "  <style>\n",
              "    .colab-df-container {\n",
              "      display:flex;\n",
              "      flex-wrap:wrap;\n",
              "      gap: 12px;\n",
              "    }\n",
              "\n",
              "    .colab-df-convert {\n",
              "      background-color: #E8F0FE;\n",
              "      border: none;\n",
              "      border-radius: 50%;\n",
              "      cursor: pointer;\n",
              "      display: none;\n",
              "      fill: #1967D2;\n",
              "      height: 32px;\n",
              "      padding: 0 0 0 0;\n",
              "      width: 32px;\n",
              "    }\n",
              "\n",
              "    .colab-df-convert:hover {\n",
              "      background-color: #E2EBFA;\n",
              "      box-shadow: 0px 1px 2px rgba(60, 64, 67, 0.3), 0px 1px 3px 1px rgba(60, 64, 67, 0.15);\n",
              "      fill: #174EA6;\n",
              "    }\n",
              "\n",
              "    [theme=dark] .colab-df-convert {\n",
              "      background-color: #3B4455;\n",
              "      fill: #D2E3FC;\n",
              "    }\n",
              "\n",
              "    [theme=dark] .colab-df-convert:hover {\n",
              "      background-color: #434B5C;\n",
              "      box-shadow: 0px 1px 3px 1px rgba(0, 0, 0, 0.15);\n",
              "      filter: drop-shadow(0px 1px 2px rgba(0, 0, 0, 0.3));\n",
              "      fill: #FFFFFF;\n",
              "    }\n",
              "  </style>\n",
              "\n",
              "      <script>\n",
              "        const buttonEl =\n",
              "          document.querySelector('#df-d0037afa-8282-4222-8028-724e3cbd0f05 button.colab-df-convert');\n",
              "        buttonEl.style.display =\n",
              "          google.colab.kernel.accessAllowed ? 'block' : 'none';\n",
              "\n",
              "        async function convertToInteractive(key) {\n",
              "          const element = document.querySelector('#df-d0037afa-8282-4222-8028-724e3cbd0f05');\n",
              "          const dataTable =\n",
              "            await google.colab.kernel.invokeFunction('convertToInteractive',\n",
              "                                                     [key], {});\n",
              "          if (!dataTable) return;\n",
              "\n",
              "          const docLinkHtml = 'Like what you see? Visit the ' +\n",
              "            '<a target=\"_blank\" href=https://colab.research.google.com/notebooks/data_table.ipynb>data table notebook</a>'\n",
              "            + ' to learn more about interactive tables.';\n",
              "          element.innerHTML = '';\n",
              "          dataTable['output_type'] = 'display_data';\n",
              "          await google.colab.output.renderOutput(dataTable, element);\n",
              "          const docLink = document.createElement('div');\n",
              "          docLink.innerHTML = docLinkHtml;\n",
              "          element.appendChild(docLink);\n",
              "        }\n",
              "      </script>\n",
              "    </div>\n",
              "  </div>\n",
              "  "
            ],
            "text/plain": [
              "                  count unique                top  freq\n",
              "Short description  8492   7481     password reset    38\n",
              "Description        8499   7817                the    56\n",
              "Caller             8500   2950  bpctwhsn kzqsbmtp   810\n",
              "Assignment group   8500     74              GRP_0  3976"
            ]
          },
          "metadata": {},
          "execution_count": 8
        }
      ]
    },
    {
      "cell_type": "markdown",
      "source": [
        "Dataset contains 8500 rows and 4 columns <br>\n",
        "Short decription and Description column has missing entries <br>\n",
        "Ticket with **password reset** query has highest frequency of 38 <br>\n",
        "3976 tickets has assigned to GRP_0 <br>\n",
        "Description column has **the** words occuring 56 times which looks like incorrect description<br>"
      ],
      "metadata": {
        "id": "6baJK2VCPdx9"
      }
    },
    {
      "cell_type": "markdown",
      "source": [
        "# **Missing Value treatment**"
      ],
      "metadata": {
        "id": "82jAHWKkH_Pp"
      }
    },
    {
      "cell_type": "code",
      "execution_count": 9,
      "metadata": {
        "colab": {
          "base_uri": "https://localhost:8080/"
        },
        "id": "uk-d1PWmm-lm",
        "outputId": "bfb8521f-1a56-4b2d-9c19-c29b3067ede9",
        "scrolled": true
      },
      "outputs": [
        {
          "output_type": "execute_result",
          "data": {
            "text/plain": [
              "Short description    8\n",
              "Description          1\n",
              "Caller               0\n",
              "Assignment group     0\n",
              "dtype: int64"
            ]
          },
          "metadata": {},
          "execution_count": 9
        }
      ],
      "source": [
        "#remove NaNs \n",
        "ticket_df.isna().sum()"
      ]
    },
    {
      "cell_type": "code",
      "source": [
        "ticket_df[pd.isnull(ticket_df).any(axis=1)]"
      ],
      "metadata": {
        "colab": {
          "base_uri": "https://localhost:8080/",
          "height": 332
        },
        "id": "7vputbRIHolV",
        "outputId": "2eec2b73-f2f1-4f68-9549-928572631879"
      },
      "execution_count": 10,
      "outputs": [
        {
          "output_type": "execute_result",
          "data": {
            "text/html": [
              "\n",
              "  <div id=\"df-49322dec-af6d-4cf8-abaf-a8b2e64f9730\">\n",
              "    <div class=\"colab-df-container\">\n",
              "      <div>\n",
              "<style scoped>\n",
              "    .dataframe tbody tr th:only-of-type {\n",
              "        vertical-align: middle;\n",
              "    }\n",
              "\n",
              "    .dataframe tbody tr th {\n",
              "        vertical-align: top;\n",
              "    }\n",
              "\n",
              "    .dataframe thead th {\n",
              "        text-align: right;\n",
              "    }\n",
              "</style>\n",
              "<table border=\"1\" class=\"dataframe\">\n",
              "  <thead>\n",
              "    <tr style=\"text-align: right;\">\n",
              "      <th></th>\n",
              "      <th>Short description</th>\n",
              "      <th>Description</th>\n",
              "      <th>Caller</th>\n",
              "      <th>Assignment group</th>\n",
              "    </tr>\n",
              "  </thead>\n",
              "  <tbody>\n",
              "    <tr>\n",
              "      <th>2604</th>\n",
              "      <td>NaN</td>\n",
              "      <td>\\r\\n\\r\\nreceived from: ohdrnswl.rezuibdt@gmail...</td>\n",
              "      <td>ohdrnswl rezuibdt</td>\n",
              "      <td>GRP_34</td>\n",
              "    </tr>\n",
              "    <tr>\n",
              "      <th>3383</th>\n",
              "      <td>NaN</td>\n",
              "      <td>\\r\\n-connected to the user system using teamvi...</td>\n",
              "      <td>qftpazns fxpnytmk</td>\n",
              "      <td>GRP_0</td>\n",
              "    </tr>\n",
              "    <tr>\n",
              "      <th>3906</th>\n",
              "      <td>NaN</td>\n",
              "      <td>-user unable  tologin to vpn.\\r\\n-connected to...</td>\n",
              "      <td>awpcmsey ctdiuqwe</td>\n",
              "      <td>GRP_0</td>\n",
              "    </tr>\n",
              "    <tr>\n",
              "      <th>3910</th>\n",
              "      <td>NaN</td>\n",
              "      <td>-user unable  tologin to vpn.\\r\\n-connected to...</td>\n",
              "      <td>rhwsmefo tvphyura</td>\n",
              "      <td>GRP_0</td>\n",
              "    </tr>\n",
              "    <tr>\n",
              "      <th>3915</th>\n",
              "      <td>NaN</td>\n",
              "      <td>-user unable  tologin to vpn.\\r\\n-connected to...</td>\n",
              "      <td>hxripljo efzounig</td>\n",
              "      <td>GRP_0</td>\n",
              "    </tr>\n",
              "    <tr>\n",
              "      <th>3921</th>\n",
              "      <td>NaN</td>\n",
              "      <td>-user unable  tologin to vpn.\\r\\n-connected to...</td>\n",
              "      <td>cziadygo veiosxby</td>\n",
              "      <td>GRP_0</td>\n",
              "    </tr>\n",
              "    <tr>\n",
              "      <th>3924</th>\n",
              "      <td>NaN</td>\n",
              "      <td>name:wvqgbdhm fwchqjor\\nlanguage:\\nbrowser:mic...</td>\n",
              "      <td>wvqgbdhm fwchqjor</td>\n",
              "      <td>GRP_0</td>\n",
              "    </tr>\n",
              "    <tr>\n",
              "      <th>4341</th>\n",
              "      <td>NaN</td>\n",
              "      <td>\\r\\n\\r\\nreceived from: eqmuniov.ehxkcbgj@gmail...</td>\n",
              "      <td>eqmuniov ehxkcbgj</td>\n",
              "      <td>GRP_0</td>\n",
              "    </tr>\n",
              "    <tr>\n",
              "      <th>4395</th>\n",
              "      <td>i am locked out of skype</td>\n",
              "      <td>NaN</td>\n",
              "      <td>viyglzfo ajtfzpkb</td>\n",
              "      <td>GRP_0</td>\n",
              "    </tr>\n",
              "  </tbody>\n",
              "</table>\n",
              "</div>\n",
              "      <button class=\"colab-df-convert\" onclick=\"convertToInteractive('df-49322dec-af6d-4cf8-abaf-a8b2e64f9730')\"\n",
              "              title=\"Convert this dataframe to an interactive table.\"\n",
              "              style=\"display:none;\">\n",
              "        \n",
              "  <svg xmlns=\"http://www.w3.org/2000/svg\" height=\"24px\"viewBox=\"0 0 24 24\"\n",
              "       width=\"24px\">\n",
              "    <path d=\"M0 0h24v24H0V0z\" fill=\"none\"/>\n",
              "    <path d=\"M18.56 5.44l.94 2.06.94-2.06 2.06-.94-2.06-.94-.94-2.06-.94 2.06-2.06.94zm-11 1L8.5 8.5l.94-2.06 2.06-.94-2.06-.94L8.5 2.5l-.94 2.06-2.06.94zm10 10l.94 2.06.94-2.06 2.06-.94-2.06-.94-.94-2.06-.94 2.06-2.06.94z\"/><path d=\"M17.41 7.96l-1.37-1.37c-.4-.4-.92-.59-1.43-.59-.52 0-1.04.2-1.43.59L10.3 9.45l-7.72 7.72c-.78.78-.78 2.05 0 2.83L4 21.41c.39.39.9.59 1.41.59.51 0 1.02-.2 1.41-.59l7.78-7.78 2.81-2.81c.8-.78.8-2.07 0-2.86zM5.41 20L4 18.59l7.72-7.72 1.47 1.35L5.41 20z\"/>\n",
              "  </svg>\n",
              "      </button>\n",
              "      \n",
              "  <style>\n",
              "    .colab-df-container {\n",
              "      display:flex;\n",
              "      flex-wrap:wrap;\n",
              "      gap: 12px;\n",
              "    }\n",
              "\n",
              "    .colab-df-convert {\n",
              "      background-color: #E8F0FE;\n",
              "      border: none;\n",
              "      border-radius: 50%;\n",
              "      cursor: pointer;\n",
              "      display: none;\n",
              "      fill: #1967D2;\n",
              "      height: 32px;\n",
              "      padding: 0 0 0 0;\n",
              "      width: 32px;\n",
              "    }\n",
              "\n",
              "    .colab-df-convert:hover {\n",
              "      background-color: #E2EBFA;\n",
              "      box-shadow: 0px 1px 2px rgba(60, 64, 67, 0.3), 0px 1px 3px 1px rgba(60, 64, 67, 0.15);\n",
              "      fill: #174EA6;\n",
              "    }\n",
              "\n",
              "    [theme=dark] .colab-df-convert {\n",
              "      background-color: #3B4455;\n",
              "      fill: #D2E3FC;\n",
              "    }\n",
              "\n",
              "    [theme=dark] .colab-df-convert:hover {\n",
              "      background-color: #434B5C;\n",
              "      box-shadow: 0px 1px 3px 1px rgba(0, 0, 0, 0.15);\n",
              "      filter: drop-shadow(0px 1px 2px rgba(0, 0, 0, 0.3));\n",
              "      fill: #FFFFFF;\n",
              "    }\n",
              "  </style>\n",
              "\n",
              "      <script>\n",
              "        const buttonEl =\n",
              "          document.querySelector('#df-49322dec-af6d-4cf8-abaf-a8b2e64f9730 button.colab-df-convert');\n",
              "        buttonEl.style.display =\n",
              "          google.colab.kernel.accessAllowed ? 'block' : 'none';\n",
              "\n",
              "        async function convertToInteractive(key) {\n",
              "          const element = document.querySelector('#df-49322dec-af6d-4cf8-abaf-a8b2e64f9730');\n",
              "          const dataTable =\n",
              "            await google.colab.kernel.invokeFunction('convertToInteractive',\n",
              "                                                     [key], {});\n",
              "          if (!dataTable) return;\n",
              "\n",
              "          const docLinkHtml = 'Like what you see? Visit the ' +\n",
              "            '<a target=\"_blank\" href=https://colab.research.google.com/notebooks/data_table.ipynb>data table notebook</a>'\n",
              "            + ' to learn more about interactive tables.';\n",
              "          element.innerHTML = '';\n",
              "          dataTable['output_type'] = 'display_data';\n",
              "          await google.colab.output.renderOutput(dataTable, element);\n",
              "          const docLink = document.createElement('div');\n",
              "          docLink.innerHTML = docLinkHtml;\n",
              "          element.appendChild(docLink);\n",
              "        }\n",
              "      </script>\n",
              "    </div>\n",
              "  </div>\n",
              "  "
            ],
            "text/plain": [
              "             Short description  ... Assignment group\n",
              "2604                       NaN  ...           GRP_34\n",
              "3383                       NaN  ...            GRP_0\n",
              "3906                       NaN  ...            GRP_0\n",
              "3910                       NaN  ...            GRP_0\n",
              "3915                       NaN  ...            GRP_0\n",
              "3921                       NaN  ...            GRP_0\n",
              "3924                       NaN  ...            GRP_0\n",
              "4341                       NaN  ...            GRP_0\n",
              "4395  i am locked out of skype  ...            GRP_0\n",
              "\n",
              "[9 rows x 4 columns]"
            ]
          },
          "metadata": {},
          "execution_count": 10
        }
      ]
    },
    {
      "cell_type": "code",
      "source": [
        "ticket_df.fillna(str(), inplace=True)\n",
        "ticket_df[pd.isnull(ticket_df).any(axis=1)]"
      ],
      "metadata": {
        "colab": {
          "base_uri": "https://localhost:8080/",
          "height": 49
        },
        "id": "OjfQ2WRjH2qa",
        "outputId": "6cab6644-88d4-4584-9d67-b248ed3246d1"
      },
      "execution_count": 11,
      "outputs": [
        {
          "output_type": "execute_result",
          "data": {
            "text/html": [
              "\n",
              "  <div id=\"df-d1f2980c-da62-435e-a3c8-5a2d0cb02fa4\">\n",
              "    <div class=\"colab-df-container\">\n",
              "      <div>\n",
              "<style scoped>\n",
              "    .dataframe tbody tr th:only-of-type {\n",
              "        vertical-align: middle;\n",
              "    }\n",
              "\n",
              "    .dataframe tbody tr th {\n",
              "        vertical-align: top;\n",
              "    }\n",
              "\n",
              "    .dataframe thead th {\n",
              "        text-align: right;\n",
              "    }\n",
              "</style>\n",
              "<table border=\"1\" class=\"dataframe\">\n",
              "  <thead>\n",
              "    <tr style=\"text-align: right;\">\n",
              "      <th></th>\n",
              "      <th>Short description</th>\n",
              "      <th>Description</th>\n",
              "      <th>Caller</th>\n",
              "      <th>Assignment group</th>\n",
              "    </tr>\n",
              "  </thead>\n",
              "  <tbody>\n",
              "  </tbody>\n",
              "</table>\n",
              "</div>\n",
              "      <button class=\"colab-df-convert\" onclick=\"convertToInteractive('df-d1f2980c-da62-435e-a3c8-5a2d0cb02fa4')\"\n",
              "              title=\"Convert this dataframe to an interactive table.\"\n",
              "              style=\"display:none;\">\n",
              "        \n",
              "  <svg xmlns=\"http://www.w3.org/2000/svg\" height=\"24px\"viewBox=\"0 0 24 24\"\n",
              "       width=\"24px\">\n",
              "    <path d=\"M0 0h24v24H0V0z\" fill=\"none\"/>\n",
              "    <path d=\"M18.56 5.44l.94 2.06.94-2.06 2.06-.94-2.06-.94-.94-2.06-.94 2.06-2.06.94zm-11 1L8.5 8.5l.94-2.06 2.06-.94-2.06-.94L8.5 2.5l-.94 2.06-2.06.94zm10 10l.94 2.06.94-2.06 2.06-.94-2.06-.94-.94-2.06-.94 2.06-2.06.94z\"/><path d=\"M17.41 7.96l-1.37-1.37c-.4-.4-.92-.59-1.43-.59-.52 0-1.04.2-1.43.59L10.3 9.45l-7.72 7.72c-.78.78-.78 2.05 0 2.83L4 21.41c.39.39.9.59 1.41.59.51 0 1.02-.2 1.41-.59l7.78-7.78 2.81-2.81c.8-.78.8-2.07 0-2.86zM5.41 20L4 18.59l7.72-7.72 1.47 1.35L5.41 20z\"/>\n",
              "  </svg>\n",
              "      </button>\n",
              "      \n",
              "  <style>\n",
              "    .colab-df-container {\n",
              "      display:flex;\n",
              "      flex-wrap:wrap;\n",
              "      gap: 12px;\n",
              "    }\n",
              "\n",
              "    .colab-df-convert {\n",
              "      background-color: #E8F0FE;\n",
              "      border: none;\n",
              "      border-radius: 50%;\n",
              "      cursor: pointer;\n",
              "      display: none;\n",
              "      fill: #1967D2;\n",
              "      height: 32px;\n",
              "      padding: 0 0 0 0;\n",
              "      width: 32px;\n",
              "    }\n",
              "\n",
              "    .colab-df-convert:hover {\n",
              "      background-color: #E2EBFA;\n",
              "      box-shadow: 0px 1px 2px rgba(60, 64, 67, 0.3), 0px 1px 3px 1px rgba(60, 64, 67, 0.15);\n",
              "      fill: #174EA6;\n",
              "    }\n",
              "\n",
              "    [theme=dark] .colab-df-convert {\n",
              "      background-color: #3B4455;\n",
              "      fill: #D2E3FC;\n",
              "    }\n",
              "\n",
              "    [theme=dark] .colab-df-convert:hover {\n",
              "      background-color: #434B5C;\n",
              "      box-shadow: 0px 1px 3px 1px rgba(0, 0, 0, 0.15);\n",
              "      filter: drop-shadow(0px 1px 2px rgba(0, 0, 0, 0.3));\n",
              "      fill: #FFFFFF;\n",
              "    }\n",
              "  </style>\n",
              "\n",
              "      <script>\n",
              "        const buttonEl =\n",
              "          document.querySelector('#df-d1f2980c-da62-435e-a3c8-5a2d0cb02fa4 button.colab-df-convert');\n",
              "        buttonEl.style.display =\n",
              "          google.colab.kernel.accessAllowed ? 'block' : 'none';\n",
              "\n",
              "        async function convertToInteractive(key) {\n",
              "          const element = document.querySelector('#df-d1f2980c-da62-435e-a3c8-5a2d0cb02fa4');\n",
              "          const dataTable =\n",
              "            await google.colab.kernel.invokeFunction('convertToInteractive',\n",
              "                                                     [key], {});\n",
              "          if (!dataTable) return;\n",
              "\n",
              "          const docLinkHtml = 'Like what you see? Visit the ' +\n",
              "            '<a target=\"_blank\" href=https://colab.research.google.com/notebooks/data_table.ipynb>data table notebook</a>'\n",
              "            + ' to learn more about interactive tables.';\n",
              "          element.innerHTML = '';\n",
              "          dataTable['output_type'] = 'display_data';\n",
              "          await google.colab.output.renderOutput(dataTable, element);\n",
              "          const docLink = document.createElement('div');\n",
              "          docLink.innerHTML = docLinkHtml;\n",
              "          element.appendChild(docLink);\n",
              "        }\n",
              "      </script>\n",
              "    </div>\n",
              "  </div>\n",
              "  "
            ],
            "text/plain": [
              "Empty DataFrame\n",
              "Columns: [Short description, Description, Caller, Assignment group]\n",
              "Index: []"
            ]
          },
          "metadata": {},
          "execution_count": 11
        }
      ]
    },
    {
      "cell_type": "code",
      "source": [
        "ticket_df.isnull().sum()"
      ],
      "metadata": {
        "colab": {
          "base_uri": "https://localhost:8080/"
        },
        "id": "jwFGiXq5IJqQ",
        "outputId": "c2efe259-2b07-4da0-8be4-ce9ff8db8efc"
      },
      "execution_count": 12,
      "outputs": [
        {
          "output_type": "execute_result",
          "data": {
            "text/plain": [
              "Short description    0\n",
              "Description          0\n",
              "Caller               0\n",
              "Assignment group     0\n",
              "dtype: int64"
            ]
          },
          "metadata": {},
          "execution_count": 12
        }
      ]
    },
    {
      "cell_type": "markdown",
      "source": [
        "Null value is replaced with empty string"
      ],
      "metadata": {
        "id": "ieDHgWtQJYX2"
      }
    },
    {
      "cell_type": "code",
      "execution_count": 13,
      "metadata": {
        "colab": {
          "base_uri": "https://localhost:8080/"
        },
        "id": "ZgCcPjATm-lp",
        "outputId": "ad2e4356-e02d-45d9-d2a3-84da887d473b"
      },
      "outputs": [
        {
          "output_type": "execute_result",
          "data": {
            "text/plain": [
              "Short description    0\n",
              "Description          0\n",
              "Caller               0\n",
              "Assignment group     0\n",
              "dtype: int64"
            ]
          },
          "metadata": {},
          "execution_count": 13
        }
      ],
      "source": [
        "# NOT REQUIRED\n",
        "ticket_df.dropna(inplace = True)\n",
        "ticket_df.isna().sum()"
      ]
    },
    {
      "cell_type": "markdown",
      "source": [
        "Verify the Data by Group"
      ],
      "metadata": {
        "id": "qsN5rwj9Tp4E"
      }
    },
    {
      "cell_type": "code",
      "source": [
        "ticket_df['Assignment group'].value_counts()"
      ],
      "metadata": {
        "colab": {
          "base_uri": "https://localhost:8080/"
        },
        "id": "NUWre4VgTuJP",
        "outputId": "c034b6c5-7d1e-4a65-e33d-b39a45a3af9a"
      },
      "execution_count": 14,
      "outputs": [
        {
          "output_type": "execute_result",
          "data": {
            "text/plain": [
              "GRP_0     3976\n",
              "GRP_8      661\n",
              "GRP_24     289\n",
              "GRP_12     257\n",
              "GRP_9      252\n",
              "          ... \n",
              "GRP_35       1\n",
              "GRP_61       1\n",
              "GRP_73       1\n",
              "GRP_67       1\n",
              "GRP_64       1\n",
              "Name: Assignment group, Length: 74, dtype: int64"
            ]
          },
          "metadata": {},
          "execution_count": 14
        }
      ]
    },
    {
      "cell_type": "code",
      "source": [
        "plt.subplots(figsize = (15,5))\n",
        "\n",
        "sns.countplot(x='Assignment group', data=ticket_df,order = ticket_df['Assignment group'].value_counts().index)\n",
        "plt.xlabel('Assignment Group') \n",
        "plt.ylabel('Count') \n",
        "plt.xticks(rotation=90)\n",
        "plt.title('Tickets Distribution')\n",
        "\n",
        "plt.show()"
      ],
      "metadata": {
        "colab": {
          "base_uri": "https://localhost:8080/",
          "height": 378
        },
        "id": "zi837CGIGsB1",
        "outputId": "63a7d892-7180-41f0-ed38-b5ec28e6d0d1"
      },
      "execution_count": 15,
      "outputs": [
        {
          "output_type": "display_data",
          "data": {
            "image/png": "[encoded data removed]",
            "text/plain": [
              "<Figure size 1080x360 with 1 Axes>"
            ]
          },
          "metadata": {
            "needs_background": "light"
          }
        }
      ]
    },
    {
      "cell_type": "code",
      "source": [
        "plt.figure(figsize=(10, 10))\n",
        "ax = ticket_df['Assignment group'].value_counts().plot(kind='pie')\n",
        "ax.set_title(\"Distribution of Tickets\")"
      ],
      "metadata": {
        "colab": {
          "base_uri": "https://localhost:8080/",
          "height": 608
        },
        "id": "rOpHSOD0qV_N",
        "outputId": "12d30f73-bfaf-42e6-cadb-f14dc5f3c74b"
      },
      "execution_count": 16,
      "outputs": [
        {
          "output_type": "execute_result",
          "data": {
            "text/plain": [
              "Text(0.5, 1.0, 'Distribution of Tickets')"
            ]
          },
          "metadata": {},
          "execution_count": 16
        },
        {
          "output_type": "display_data",
          "data": {
            "image/png": "[encoded data removed]",
            "text/plain": [
              "<Figure size 720x720 with 1 Axes>"
            ]
          },
          "metadata": {}
        }
      ]
    },
    {
      "cell_type": "markdown",
      "source": [
        "Top 25 Group with highest tickets"
      ],
      "metadata": {
        "id": "peKufOeodVYQ"
      }
    },
    {
      "cell_type": "code",
      "source": [
        " ticket_df['Assignment group'].value_counts().head(25)"
      ],
      "metadata": {
        "colab": {
          "base_uri": "https://localhost:8080/"
        },
        "id": "_VEc0Xxcdn5u",
        "outputId": "cc519cc8-29b7-489f-e6a9-6be4449476ae"
      },
      "execution_count": 17,
      "outputs": [
        {
          "output_type": "execute_result",
          "data": {
            "text/plain": [
              "GRP_0     3976\n",
              "GRP_8      661\n",
              "GRP_24     289\n",
              "GRP_12     257\n",
              "GRP_9      252\n",
              "GRP_2      241\n",
              "GRP_19     215\n",
              "GRP_3      200\n",
              "GRP_6      184\n",
              "GRP_13     145\n",
              "GRP_10     140\n",
              "GRP_5      129\n",
              "GRP_14     118\n",
              "GRP_25     116\n",
              "GRP_33     107\n",
              "GRP_4      100\n",
              "GRP_29      97\n",
              "GRP_18      88\n",
              "GRP_16      85\n",
              "GRP_17      81\n",
              "GRP_31      69\n",
              "GRP_7       68\n",
              "GRP_34      62\n",
              "GRP_26      56\n",
              "GRP_40      45\n",
              "Name: Assignment group, dtype: int64"
            ]
          },
          "metadata": {},
          "execution_count": 17
        }
      ]
    },
    {
      "cell_type": "code",
      "source": [
        "plt.subplots(figsize = (15,5))\n",
        "\n",
        "sns.countplot(x='Assignment group', data=ticket_df,order = ticket_df['Assignment group'].value_counts().head(25).index)\n",
        "plt.xlabel('Assignment Group') \n",
        "plt.ylabel('Count') \n",
        "plt.xticks(rotation=90)\n",
        "plt.title('Tickets Distribution')\n",
        "\n",
        "plt.show()"
      ],
      "metadata": {
        "colab": {
          "base_uri": "https://localhost:8080/",
          "height": 378
        },
        "id": "HULK0xHcdLqX",
        "outputId": "e56fc2cd-51f0-472f-dad9-2dd1a038d473"
      },
      "execution_count": 18,
      "outputs": [
        {
          "output_type": "display_data",
          "data": {
            "image/png": "[encoded data removed]",
            "text/plain": [
              "<Figure size 1080x360 with 1 Axes>"
            ]
          },
          "metadata": {
            "needs_background": "light"
          }
        }
      ]
    },
    {
      "cell_type": "code",
      "source": [
        "#ticket_df.groupby('Assignment group').apply(lambda x: x[x.count() > 10])"
      ],
      "metadata": {
        "id": "KCw22W1Mcu4B"
      },
      "execution_count": 19,
      "outputs": []
    },
    {
      "cell_type": "code",
      "source": [
        "groups = ticket_df['Assignment group'].unique()\n",
        "print(f'Total group count {len(groups)}')\n",
        "print(f'Group Details \\n {groups}')"
      ],
      "metadata": {
        "colab": {
          "base_uri": "https://localhost:8080/"
        },
        "id": "JfH4PByBVEer",
        "outputId": "f82017b1-ef0d-4065-94b4-171dcda0fc74"
      },
      "execution_count": 20,
      "outputs": [
        {
          "output_type": "stream",
          "name": "stdout",
          "text": [
            "Total group count 74\n",
            "Group Details \n",
            " ['GRP_0' 'GRP_1' 'GRP_3' 'GRP_4' 'GRP_5' 'GRP_6' 'GRP_7' 'GRP_8' 'GRP_9'\n",
            " 'GRP_10' 'GRP_11' 'GRP_12' 'GRP_13' 'GRP_14' 'GRP_15' 'GRP_16' 'GRP_17'\n",
            " 'GRP_18' 'GRP_19' 'GRP_2' 'GRP_20' 'GRP_21' 'GRP_22' 'GRP_23' 'GRP_24'\n",
            " 'GRP_25' 'GRP_26' 'GRP_27' 'GRP_28' 'GRP_29' 'GRP_30' 'GRP_31' 'GRP_33'\n",
            " 'GRP_34' 'GRP_35' 'GRP_36' 'GRP_37' 'GRP_38' 'GRP_39' 'GRP_40' 'GRP_41'\n",
            " 'GRP_42' 'GRP_43' 'GRP_44' 'GRP_45' 'GRP_46' 'GRP_47' 'GRP_48' 'GRP_49'\n",
            " 'GRP_50' 'GRP_51' 'GRP_52' 'GRP_53' 'GRP_54' 'GRP_55' 'GRP_56' 'GRP_57'\n",
            " 'GRP_58' 'GRP_59' 'GRP_60' 'GRP_61' 'GRP_32' 'GRP_62' 'GRP_63' 'GRP_64'\n",
            " 'GRP_65' 'GRP_66' 'GRP_67' 'GRP_68' 'GRP_69' 'GRP_70' 'GRP_71' 'GRP_72'\n",
            " 'GRP_73']\n"
          ]
        }
      ]
    },
    {
      "cell_type": "code",
      "source": [
        "def count_ticket_within_group(ticket_count, ticket_df):\n",
        "  group_groupby = ticket_df.groupby('Assignment group')\n",
        "  sample = []\n",
        "  for group in ticket_df['Assignment group'].unique():\n",
        "    if group_groupby.get_group(group).shape[0] <= ticket_count:\n",
        "      sample.append(group)\n",
        "  return len(sample)"
      ],
      "metadata": {
        "id": "qrYXv5u1X0UF"
      },
      "execution_count": 21,
      "outputs": []
    },
    {
      "cell_type": "code",
      "source": [
        "print(f'Total groups having 1 ticket: {count_ticket_within_group(1, ticket_df)}')\n",
        "print(f'Total groups having 5 or less ticket: {count_ticket_within_group(5, ticket_df)}')\n",
        "print(f'Total groups having 10 or less ticket: {count_ticket_within_group(10, ticket_df)}')\n",
        "print(f'Total groups having 15 or less ticket: {count_ticket_within_group(15, ticket_df)}')"
      ],
      "metadata": {
        "colab": {
          "base_uri": "https://localhost:8080/"
        },
        "id": "FxR7ApsRVaBk",
        "outputId": "d968aa03-6a7e-44db-f48d-d0b9143fa83a"
      },
      "execution_count": 22,
      "outputs": [
        {
          "output_type": "stream",
          "name": "stdout",
          "text": [
            "Total groups having 1 ticket: 6\n",
            "Total groups having 5 or less ticket: 19\n",
            "Total groups having 10 or less ticket: 25\n",
            "Total groups having 15 or less ticket: 30\n"
          ]
        }
      ]
    },
    {
      "cell_type": "code",
      "source": [
        "group_df = pd.DataFrame(ticket_df['Assignment group'].value_counts())\n",
        "group_df = group_df.T\n",
        "group_df"
      ],
      "metadata": {
        "colab": {
          "base_uri": "https://localhost:8080/",
          "height": 162
        },
        "id": "Nt63_P12KC7L",
        "outputId": "f04ca41f-c9dc-4ed6-eefc-2380ef6d2f2a"
      },
      "execution_count": 23,
      "outputs": [
        {
          "output_type": "execute_result",
          "data": {
            "text/html": [
              "\n",
              "  <div id=\"df-09013a37-fbbd-4520-86c3-8db0dd2416f4\">\n",
              "    <div class=\"colab-df-container\">\n",
              "      <div>\n",
              "<style scoped>\n",
              "    .dataframe tbody tr th:only-of-type {\n",
              "        vertical-align: middle;\n",
              "    }\n",
              "\n",
              "    .dataframe tbody tr th {\n",
              "        vertical-align: top;\n",
              "    }\n",
              "\n",
              "    .dataframe thead th {\n",
              "        text-align: right;\n",
              "    }\n",
              "</style>\n",
              "<table border=\"1\" class=\"dataframe\">\n",
              "  <thead>\n",
              "    <tr style=\"text-align: right;\">\n",
              "      <th></th>\n",
              "      <th>GRP_0</th>\n",
              "      <th>GRP_8</th>\n",
              "      <th>GRP_24</th>\n",
              "      <th>GRP_12</th>\n",
              "      <th>GRP_9</th>\n",
              "      <th>GRP_2</th>\n",
              "      <th>GRP_19</th>\n",
              "      <th>GRP_3</th>\n",
              "      <th>GRP_6</th>\n",
              "      <th>GRP_13</th>\n",
              "      <th>GRP_10</th>\n",
              "      <th>GRP_5</th>\n",
              "      <th>GRP_14</th>\n",
              "      <th>GRP_25</th>\n",
              "      <th>GRP_33</th>\n",
              "      <th>GRP_4</th>\n",
              "      <th>GRP_29</th>\n",
              "      <th>GRP_18</th>\n",
              "      <th>GRP_16</th>\n",
              "      <th>GRP_17</th>\n",
              "      <th>GRP_31</th>\n",
              "      <th>GRP_7</th>\n",
              "      <th>GRP_34</th>\n",
              "      <th>GRP_26</th>\n",
              "      <th>GRP_40</th>\n",
              "      <th>GRP_28</th>\n",
              "      <th>GRP_41</th>\n",
              "      <th>GRP_30</th>\n",
              "      <th>GRP_15</th>\n",
              "      <th>GRP_42</th>\n",
              "      <th>GRP_20</th>\n",
              "      <th>GRP_45</th>\n",
              "      <th>GRP_1</th>\n",
              "      <th>GRP_22</th>\n",
              "      <th>GRP_11</th>\n",
              "      <th>GRP_21</th>\n",
              "      <th>GRP_47</th>\n",
              "      <th>GRP_62</th>\n",
              "      <th>GRP_48</th>\n",
              "      <th>GRP_23</th>\n",
              "      <th>GRP_60</th>\n",
              "      <th>GRP_39</th>\n",
              "      <th>GRP_27</th>\n",
              "      <th>GRP_37</th>\n",
              "      <th>GRP_36</th>\n",
              "      <th>GRP_44</th>\n",
              "      <th>GRP_50</th>\n",
              "      <th>GRP_65</th>\n",
              "      <th>GRP_53</th>\n",
              "      <th>GRP_52</th>\n",
              "      <th>GRP_55</th>\n",
              "      <th>GRP_51</th>\n",
              "      <th>GRP_59</th>\n",
              "      <th>GRP_46</th>\n",
              "      <th>GRP_49</th>\n",
              "      <th>GRP_43</th>\n",
              "      <th>GRP_66</th>\n",
              "      <th>GRP_32</th>\n",
              "      <th>GRP_38</th>\n",
              "      <th>GRP_63</th>\n",
              "      <th>GRP_56</th>\n",
              "      <th>GRP_58</th>\n",
              "      <th>GRP_68</th>\n",
              "      <th>GRP_71</th>\n",
              "      <th>GRP_54</th>\n",
              "      <th>GRP_57</th>\n",
              "      <th>GRP_69</th>\n",
              "      <th>GRP_72</th>\n",
              "      <th>GRP_70</th>\n",
              "      <th>GRP_35</th>\n",
              "      <th>GRP_61</th>\n",
              "      <th>GRP_73</th>\n",
              "      <th>GRP_67</th>\n",
              "      <th>GRP_64</th>\n",
              "    </tr>\n",
              "  </thead>\n",
              "  <tbody>\n",
              "    <tr>\n",
              "      <th>Assignment group</th>\n",
              "      <td>3976</td>\n",
              "      <td>661</td>\n",
              "      <td>289</td>\n",
              "      <td>257</td>\n",
              "      <td>252</td>\n",
              "      <td>241</td>\n",
              "      <td>215</td>\n",
              "      <td>200</td>\n",
              "      <td>184</td>\n",
              "      <td>145</td>\n",
              "      <td>140</td>\n",
              "      <td>129</td>\n",
              "      <td>118</td>\n",
              "      <td>116</td>\n",
              "      <td>107</td>\n",
              "      <td>100</td>\n",
              "      <td>97</td>\n",
              "      <td>88</td>\n",
              "      <td>85</td>\n",
              "      <td>81</td>\n",
              "      <td>69</td>\n",
              "      <td>68</td>\n",
              "      <td>62</td>\n",
              "      <td>56</td>\n",
              "      <td>45</td>\n",
              "      <td>44</td>\n",
              "      <td>40</td>\n",
              "      <td>39</td>\n",
              "      <td>39</td>\n",
              "      <td>37</td>\n",
              "      <td>36</td>\n",
              "      <td>35</td>\n",
              "      <td>31</td>\n",
              "      <td>31</td>\n",
              "      <td>30</td>\n",
              "      <td>29</td>\n",
              "      <td>27</td>\n",
              "      <td>25</td>\n",
              "      <td>25</td>\n",
              "      <td>25</td>\n",
              "      <td>20</td>\n",
              "      <td>19</td>\n",
              "      <td>18</td>\n",
              "      <td>16</td>\n",
              "      <td>15</td>\n",
              "      <td>15</td>\n",
              "      <td>14</td>\n",
              "      <td>11</td>\n",
              "      <td>11</td>\n",
              "      <td>9</td>\n",
              "      <td>8</td>\n",
              "      <td>8</td>\n",
              "      <td>6</td>\n",
              "      <td>6</td>\n",
              "      <td>6</td>\n",
              "      <td>5</td>\n",
              "      <td>4</td>\n",
              "      <td>4</td>\n",
              "      <td>3</td>\n",
              "      <td>3</td>\n",
              "      <td>3</td>\n",
              "      <td>3</td>\n",
              "      <td>3</td>\n",
              "      <td>2</td>\n",
              "      <td>2</td>\n",
              "      <td>2</td>\n",
              "      <td>2</td>\n",
              "      <td>2</td>\n",
              "      <td>1</td>\n",
              "      <td>1</td>\n",
              "      <td>1</td>\n",
              "      <td>1</td>\n",
              "      <td>1</td>\n",
              "      <td>1</td>\n",
              "    </tr>\n",
              "  </tbody>\n",
              "</table>\n",
              "</div>\n",
              "      <button class=\"colab-df-convert\" onclick=\"convertToInteractive('df-09013a37-fbbd-4520-86c3-8db0dd2416f4')\"\n",
              "              title=\"Convert this dataframe to an interactive table.\"\n",
              "              style=\"display:none;\">\n",
              "        \n",
              "  <svg xmlns=\"http://www.w3.org/2000/svg\" height=\"24px\"viewBox=\"0 0 24 24\"\n",
              "       width=\"24px\">\n",
              "    <path d=\"M0 0h24v24H0V0z\" fill=\"none\"/>\n",
              "    <path d=\"M18.56 5.44l.94 2.06.94-2.06 2.06-.94-2.06-.94-.94-2.06-.94 2.06-2.06.94zm-11 1L8.5 8.5l.94-2.06 2.06-.94-2.06-.94L8.5 2.5l-.94 2.06-2.06.94zm10 10l.94 2.06.94-2.06 2.06-.94-2.06-.94-.94-2.06-.94 2.06-2.06.94z\"/><path d=\"M17.41 7.96l-1.37-1.37c-.4-.4-.92-.59-1.43-.59-.52 0-1.04.2-1.43.59L10.3 9.45l-7.72 7.72c-.78.78-.78 2.05 0 2.83L4 21.41c.39.39.9.59 1.41.59.51 0 1.02-.2 1.41-.59l7.78-7.78 2.81-2.81c.8-.78.8-2.07 0-2.86zM5.41 20L4 18.59l7.72-7.72 1.47 1.35L5.41 20z\"/>\n",
              "  </svg>\n",
              "      </button>\n",
              "      \n",
              "  <style>\n",
              "    .colab-df-container {\n",
              "      display:flex;\n",
              "      flex-wrap:wrap;\n",
              "      gap: 12px;\n",
              "    }\n",
              "\n",
              "    .colab-df-convert {\n",
              "      background-color: #E8F0FE;\n",
              "      border: none;\n",
              "      border-radius: 50%;\n",
              "      cursor: pointer;\n",
              "      display: none;\n",
              "      fill: #1967D2;\n",
              "      height: 32px;\n",
              "      padding: 0 0 0 0;\n",
              "      width: 32px;\n",
              "    }\n",
              "\n",
              "    .colab-df-convert:hover {\n",
              "      background-color: #E2EBFA;\n",
              "      box-shadow: 0px 1px 2px rgba(60, 64, 67, 0.3), 0px 1px 3px 1px rgba(60, 64, 67, 0.15);\n",
              "      fill: #174EA6;\n",
              "    }\n",
              "\n",
              "    [theme=dark] .colab-df-convert {\n",
              "      background-color: #3B4455;\n",
              "      fill: #D2E3FC;\n",
              "    }\n",
              "\n",
              "    [theme=dark] .colab-df-convert:hover {\n",
              "      background-color: #434B5C;\n",
              "      box-shadow: 0px 1px 3px 1px rgba(0, 0, 0, 0.15);\n",
              "      filter: drop-shadow(0px 1px 2px rgba(0, 0, 0, 0.3));\n",
              "      fill: #FFFFFF;\n",
              "    }\n",
              "  </style>\n",
              "\n",
              "      <script>\n",
              "        const buttonEl =\n",
              "          document.querySelector('#df-09013a37-fbbd-4520-86c3-8db0dd2416f4 button.colab-df-convert');\n",
              "        buttonEl.style.display =\n",
              "          google.colab.kernel.accessAllowed ? 'block' : 'none';\n",
              "\n",
              "        async function convertToInteractive(key) {\n",
              "          const element = document.querySelector('#df-09013a37-fbbd-4520-86c3-8db0dd2416f4');\n",
              "          const dataTable =\n",
              "            await google.colab.kernel.invokeFunction('convertToInteractive',\n",
              "                                                     [key], {});\n",
              "          if (!dataTable) return;\n",
              "\n",
              "          const docLinkHtml = 'Like what you see? Visit the ' +\n",
              "            '<a target=\"_blank\" href=https://colab.research.google.com/notebooks/data_table.ipynb>data table notebook</a>'\n",
              "            + ' to learn more about interactive tables.';\n",
              "          element.innerHTML = '';\n",
              "          dataTable['output_type'] = 'display_data';\n",
              "          await google.colab.output.renderOutput(dataTable, element);\n",
              "          const docLink = document.createElement('div');\n",
              "          docLink.innerHTML = docLinkHtml;\n",
              "          element.appendChild(docLink);\n",
              "        }\n",
              "      </script>\n",
              "    </div>\n",
              "  </div>\n",
              "  "
            ],
            "text/plain": [
              "                  GRP_0  GRP_8  GRP_24  GRP_12  ...  GRP_61  GRP_73  GRP_67  GRP_64\n",
              "Assignment group   3976    661     289     257  ...       1       1       1       1\n",
              "\n",
              "[1 rows x 74 columns]"
            ]
          },
          "metadata": {},
          "execution_count": 23
        }
      ]
    },
    {
      "cell_type": "markdown",
      "source": [
        "GRP_0 has highest count <br>\n",
        "Almost 25 groups has less than 10 tickets"
      ],
      "metadata": {
        "id": "IUxtii5AHBuW"
      }
    },
    {
      "cell_type": "code",
      "source": [
        "ticket_df1 = ticket_df.copy()"
      ],
      "metadata": {
        "id": "3m5cxiGs55vi"
      },
      "execution_count": 24,
      "outputs": []
    },
    {
      "cell_type": "code",
      "source": [
        "ticket_df1.tail(10)"
      ],
      "metadata": {
        "colab": {
          "base_uri": "https://localhost:8080/",
          "height": 363
        },
        "id": "5tph6zJb83aE",
        "outputId": "35a1ddc3-a1c3-46f9-a82b-a049146d2831"
      },
      "execution_count": 25,
      "outputs": [
        {
          "output_type": "execute_result",
          "data": {
            "text/html": [
              "\n",
              "  <div id=\"df-b9044786-5a1d-4c4b-9f38-a58f4519cd07\">\n",
              "    <div class=\"colab-df-container\">\n",
              "      <div>\n",
              "<style scoped>\n",
              "    .dataframe tbody tr th:only-of-type {\n",
              "        vertical-align: middle;\n",
              "    }\n",
              "\n",
              "    .dataframe tbody tr th {\n",
              "        vertical-align: top;\n",
              "    }\n",
              "\n",
              "    .dataframe thead th {\n",
              "        text-align: right;\n",
              "    }\n",
              "</style>\n",
              "<table border=\"1\" class=\"dataframe\">\n",
              "  <thead>\n",
              "    <tr style=\"text-align: right;\">\n",
              "      <th></th>\n",
              "      <th>Short description</th>\n",
              "      <th>Description</th>\n",
              "      <th>Caller</th>\n",
              "      <th>Assignment group</th>\n",
              "    </tr>\n",
              "  </thead>\n",
              "  <tbody>\n",
              "    <tr>\n",
              "      <th>8490</th>\n",
              "      <td>check status in purchasing</td>\n",
              "      <td>please contact ed pasgryowski (pasgryo) about ...</td>\n",
              "      <td>mpihysnw wrctgoan</td>\n",
              "      <td>GRP_29</td>\n",
              "    </tr>\n",
              "    <tr>\n",
              "      <th>8491</th>\n",
              "      <td>vpn for laptop</td>\n",
              "      <td>\\n\\nreceived from: jxgobwrm.qkugdipo@gmail.com...</td>\n",
              "      <td>jxgobwrm qkugdipo</td>\n",
              "      <td>GRP_34</td>\n",
              "    </tr>\n",
              "    <tr>\n",
              "      <th>8492</th>\n",
              "      <td>hr_tool etime option not visitble</td>\n",
              "      <td>hr_tool etime option not visitble</td>\n",
              "      <td>tmopbken ibzougsd</td>\n",
              "      <td>GRP_0</td>\n",
              "    </tr>\n",
              "    <tr>\n",
              "      <th>8493</th>\n",
              "      <td>erp fi  - ob09, two accounts to be added</td>\n",
              "      <td>i am sorry, i have another two accounts that n...</td>\n",
              "      <td>ipwjorsc uboapexr</td>\n",
              "      <td>GRP_10</td>\n",
              "    </tr>\n",
              "    <tr>\n",
              "      <th>8494</th>\n",
              "      <td>tablet needs reimaged due to multiple issues w...</td>\n",
              "      <td>tablet needs reimaged due to multiple issues w...</td>\n",
              "      <td>cpmaidhj elbaqmtp</td>\n",
              "      <td>GRP_3</td>\n",
              "    </tr>\n",
              "    <tr>\n",
              "      <th>8495</th>\n",
              "      <td>emails not coming in from zz mail</td>\n",
              "      <td>\\r\\n\\r\\nreceived from: avglmrts.vhqmtiua@gmail...</td>\n",
              "      <td>avglmrts vhqmtiua</td>\n",
              "      <td>GRP_29</td>\n",
              "    </tr>\n",
              "    <tr>\n",
              "      <th>8496</th>\n",
              "      <td>telephony_software issue</td>\n",
              "      <td>telephony_software issue</td>\n",
              "      <td>rbozivdq gmlhrtvp</td>\n",
              "      <td>GRP_0</td>\n",
              "    </tr>\n",
              "    <tr>\n",
              "      <th>8497</th>\n",
              "      <td>vip2: windows password reset for tifpdchb pedx...</td>\n",
              "      <td>vip2: windows password reset for tifpdchb pedx...</td>\n",
              "      <td>oybwdsgx oxyhwrfz</td>\n",
              "      <td>GRP_0</td>\n",
              "    </tr>\n",
              "    <tr>\n",
              "      <th>8498</th>\n",
              "      <td>machine nÃ£o estÃ¡ funcionando</td>\n",
              "      <td>i am unable to access the machine utilities to...</td>\n",
              "      <td>ufawcgob aowhxjky</td>\n",
              "      <td>GRP_62</td>\n",
              "    </tr>\n",
              "    <tr>\n",
              "      <th>8499</th>\n",
              "      <td>an mehreren pc`s lassen sich verschiedene prgr...</td>\n",
              "      <td>an mehreren pc`s lassen sich verschiedene prgr...</td>\n",
              "      <td>kqvbrspl jyzoklfx</td>\n",
              "      <td>GRP_49</td>\n",
              "    </tr>\n",
              "  </tbody>\n",
              "</table>\n",
              "</div>\n",
              "      <button class=\"colab-df-convert\" onclick=\"convertToInteractive('df-b9044786-5a1d-4c4b-9f38-a58f4519cd07')\"\n",
              "              title=\"Convert this dataframe to an interactive table.\"\n",
              "              style=\"display:none;\">\n",
              "        \n",
              "  <svg xmlns=\"http://www.w3.org/2000/svg\" height=\"24px\"viewBox=\"0 0 24 24\"\n",
              "       width=\"24px\">\n",
              "    <path d=\"M0 0h24v24H0V0z\" fill=\"none\"/>\n",
              "    <path d=\"M18.56 5.44l.94 2.06.94-2.06 2.06-.94-2.06-.94-.94-2.06-.94 2.06-2.06.94zm-11 1L8.5 8.5l.94-2.06 2.06-.94-2.06-.94L8.5 2.5l-.94 2.06-2.06.94zm10 10l.94 2.06.94-2.06 2.06-.94-2.06-.94-.94-2.06-.94 2.06-2.06.94z\"/><path d=\"M17.41 7.96l-1.37-1.37c-.4-.4-.92-.59-1.43-.59-.52 0-1.04.2-1.43.59L10.3 9.45l-7.72 7.72c-.78.78-.78 2.05 0 2.83L4 21.41c.39.39.9.59 1.41.59.51 0 1.02-.2 1.41-.59l7.78-7.78 2.81-2.81c.8-.78.8-2.07 0-2.86zM5.41 20L4 18.59l7.72-7.72 1.47 1.35L5.41 20z\"/>\n",
              "  </svg>\n",
              "      </button>\n",
              "      \n",
              "  <style>\n",
              "    .colab-df-container {\n",
              "      display:flex;\n",
              "      flex-wrap:wrap;\n",
              "      gap: 12px;\n",
              "    }\n",
              "\n",
              "    .colab-df-convert {\n",
              "      background-color: #E8F0FE;\n",
              "      border: none;\n",
              "      border-radius: 50%;\n",
              "      cursor: pointer;\n",
              "      display: none;\n",
              "      fill: #1967D2;\n",
              "      height: 32px;\n",
              "      padding: 0 0 0 0;\n",
              "      width: 32px;\n",
              "    }\n",
              "\n",
              "    .colab-df-convert:hover {\n",
              "      background-color: #E2EBFA;\n",
              "      box-shadow: 0px 1px 2px rgba(60, 64, 67, 0.3), 0px 1px 3px 1px rgba(60, 64, 67, 0.15);\n",
              "      fill: #174EA6;\n",
              "    }\n",
              "\n",
              "    [theme=dark] .colab-df-convert {\n",
              "      background-color: #3B4455;\n",
              "      fill: #D2E3FC;\n",
              "    }\n",
              "\n",
              "    [theme=dark] .colab-df-convert:hover {\n",
              "      background-color: #434B5C;\n",
              "      box-shadow: 0px 1px 3px 1px rgba(0, 0, 0, 0.15);\n",
              "      filter: drop-shadow(0px 1px 2px rgba(0, 0, 0, 0.3));\n",
              "      fill: #FFFFFF;\n",
              "    }\n",
              "  </style>\n",
              "\n",
              "      <script>\n",
              "        const buttonEl =\n",
              "          document.querySelector('#df-b9044786-5a1d-4c4b-9f38-a58f4519cd07 button.colab-df-convert');\n",
              "        buttonEl.style.display =\n",
              "          google.colab.kernel.accessAllowed ? 'block' : 'none';\n",
              "\n",
              "        async function convertToInteractive(key) {\n",
              "          const element = document.querySelector('#df-b9044786-5a1d-4c4b-9f38-a58f4519cd07');\n",
              "          const dataTable =\n",
              "            await google.colab.kernel.invokeFunction('convertToInteractive',\n",
              "                                                     [key], {});\n",
              "          if (!dataTable) return;\n",
              "\n",
              "          const docLinkHtml = 'Like what you see? Visit the ' +\n",
              "            '<a target=\"_blank\" href=https://colab.research.google.com/notebooks/data_table.ipynb>data table notebook</a>'\n",
              "            + ' to learn more about interactive tables.';\n",
              "          element.innerHTML = '';\n",
              "          dataTable['output_type'] = 'display_data';\n",
              "          await google.colab.output.renderOutput(dataTable, element);\n",
              "          const docLink = document.createElement('div');\n",
              "          docLink.innerHTML = docLinkHtml;\n",
              "          element.appendChild(docLink);\n",
              "        }\n",
              "      </script>\n",
              "    </div>\n",
              "  </div>\n",
              "  "
            ],
            "text/plain": [
              "                                      Short description  ... Assignment group\n",
              "8490                         check status in purchasing  ...           GRP_29\n",
              "8491                                     vpn for laptop  ...           GRP_34\n",
              "8492                 hr_tool etime option not visitble   ...            GRP_0\n",
              "8493           erp fi  - ob09, two accounts to be added  ...           GRP_10\n",
              "8494  tablet needs reimaged due to multiple issues w...  ...            GRP_3\n",
              "8495                  emails not coming in from zz mail  ...           GRP_29\n",
              "8496                           telephony_software issue  ...            GRP_0\n",
              "8497  vip2: windows password reset for tifpdchb pedx...  ...            GRP_0\n",
              "8498                     machine nÃ£o estÃ¡ funcionando  ...           GRP_62\n",
              "8499  an mehreren pc`s lassen sich verschiedene prgr...  ...           GRP_49\n",
              "\n",
              "[10 rows x 4 columns]"
            ]
          },
          "metadata": {},
          "execution_count": 25
        }
      ]
    },
    {
      "cell_type": "markdown",
      "source": [
        "# **Explore Transform Data**"
      ],
      "metadata": {
        "id": "nRG586DiefUN"
      }
    },
    {
      "cell_type": "code",
      "source": [
        "ticket_df_eda = ticket_df.copy()"
      ],
      "metadata": {
        "id": "X5pj0qhjejos"
      },
      "execution_count": 26,
      "outputs": []
    },
    {
      "cell_type": "code",
      "source": [
        "ticket_df_eda.insert(1, 'sd_len', ticket_df_eda['Short description'].astype(str).apply(len))\n",
        "ticket_df_eda.insert(2, 'sd_word_count', ticket_df_eda['Short description'].apply(lambda x: len(str(x).split())))\n",
        "ticket_df_eda.insert(4, 'desc_len', ticket_df_eda['Description'].astype(str).apply(len))\n",
        "ticket_df_eda.insert(5, 'desc_word_count', ticket_df_eda['Description'].apply(lambda x: len(str(x).split())))\n",
        "ticket_df_eda.head()"
      ],
      "metadata": {
        "colab": {
          "base_uri": "https://localhost:8080/",
          "height": 206
        },
        "id": "UmN_O9T3dvNl",
        "outputId": "88c5bd91-8931-4790-be09-0a9dc727b156"
      },
      "execution_count": 27,
      "outputs": [
        {
          "output_type": "execute_result",
          "data": {
            "text/html": [
              "\n",
              "  <div id=\"df-c9cce651-ccc4-4bca-a478-47db77c3341a\">\n",
              "    <div class=\"colab-df-container\">\n",
              "      <div>\n",
              "<style scoped>\n",
              "    .dataframe tbody tr th:only-of-type {\n",
              "        vertical-align: middle;\n",
              "    }\n",
              "\n",
              "    .dataframe tbody tr th {\n",
              "        vertical-align: top;\n",
              "    }\n",
              "\n",
              "    .dataframe thead th {\n",
              "        text-align: right;\n",
              "    }\n",
              "</style>\n",
              "<table border=\"1\" class=\"dataframe\">\n",
              "  <thead>\n",
              "    <tr style=\"text-align: right;\">\n",
              "      <th></th>\n",
              "      <th>Short description</th>\n",
              "      <th>sd_len</th>\n",
              "      <th>sd_word_count</th>\n",
              "      <th>Description</th>\n",
              "      <th>desc_len</th>\n",
              "      <th>desc_word_count</th>\n",
              "      <th>Caller</th>\n",
              "      <th>Assignment group</th>\n",
              "    </tr>\n",
              "  </thead>\n",
              "  <tbody>\n",
              "    <tr>\n",
              "      <th>0</th>\n",
              "      <td>login issue</td>\n",
              "      <td>11</td>\n",
              "      <td>2</td>\n",
              "      <td>-verified user details.(employee# &amp; manager na...</td>\n",
              "      <td>206</td>\n",
              "      <td>33</td>\n",
              "      <td>spxjnwir pjlcoqds</td>\n",
              "      <td>GRP_0</td>\n",
              "    </tr>\n",
              "    <tr>\n",
              "      <th>1</th>\n",
              "      <td>outlook</td>\n",
              "      <td>7</td>\n",
              "      <td>1</td>\n",
              "      <td>\\r\\n\\r\\nreceived from: hmjdrvpb.komuaywn@gmail...</td>\n",
              "      <td>194</td>\n",
              "      <td>25</td>\n",
              "      <td>hmjdrvpb komuaywn</td>\n",
              "      <td>GRP_0</td>\n",
              "    </tr>\n",
              "    <tr>\n",
              "      <th>2</th>\n",
              "      <td>cant log in to vpn</td>\n",
              "      <td>18</td>\n",
              "      <td>5</td>\n",
              "      <td>\\r\\n\\r\\nreceived from: eylqgodm.ybqkwiam@gmail...</td>\n",
              "      <td>87</td>\n",
              "      <td>11</td>\n",
              "      <td>eylqgodm ybqkwiam</td>\n",
              "      <td>GRP_0</td>\n",
              "    </tr>\n",
              "    <tr>\n",
              "      <th>3</th>\n",
              "      <td>unable to access hr_tool page</td>\n",
              "      <td>29</td>\n",
              "      <td>5</td>\n",
              "      <td>unable to access hr_tool page</td>\n",
              "      <td>29</td>\n",
              "      <td>5</td>\n",
              "      <td>xbkucsvz gcpydteq</td>\n",
              "      <td>GRP_0</td>\n",
              "    </tr>\n",
              "    <tr>\n",
              "      <th>4</th>\n",
              "      <td>skype error</td>\n",
              "      <td>12</td>\n",
              "      <td>2</td>\n",
              "      <td>skype error</td>\n",
              "      <td>12</td>\n",
              "      <td>2</td>\n",
              "      <td>owlgqjme qhcozdfx</td>\n",
              "      <td>GRP_0</td>\n",
              "    </tr>\n",
              "  </tbody>\n",
              "</table>\n",
              "</div>\n",
              "      <button class=\"colab-df-convert\" onclick=\"convertToInteractive('df-c9cce651-ccc4-4bca-a478-47db77c3341a')\"\n",
              "              title=\"Convert this dataframe to an interactive table.\"\n",
              "              style=\"display:none;\">\n",
              "        \n",
              "  <svg xmlns=\"http://www.w3.org/2000/svg\" height=\"24px\"viewBox=\"0 0 24 24\"\n",
              "       width=\"24px\">\n",
              "    <path d=\"M0 0h24v24H0V0z\" fill=\"none\"/>\n",
              "    <path d=\"M18.56 5.44l.94 2.06.94-2.06 2.06-.94-2.06-.94-.94-2.06-.94 2.06-2.06.94zm-11 1L8.5 8.5l.94-2.06 2.06-.94-2.06-.94L8.5 2.5l-.94 2.06-2.06.94zm10 10l.94 2.06.94-2.06 2.06-.94-2.06-.94-.94-2.06-.94 2.06-2.06.94z\"/><path d=\"M17.41 7.96l-1.37-1.37c-.4-.4-.92-.59-1.43-.59-.52 0-1.04.2-1.43.59L10.3 9.45l-7.72 7.72c-.78.78-.78 2.05 0 2.83L4 21.41c.39.39.9.59 1.41.59.51 0 1.02-.2 1.41-.59l7.78-7.78 2.81-2.81c.8-.78.8-2.07 0-2.86zM5.41 20L4 18.59l7.72-7.72 1.47 1.35L5.41 20z\"/>\n",
              "  </svg>\n",
              "      </button>\n",
              "      \n",
              "  <style>\n",
              "    .colab-df-container {\n",
              "      display:flex;\n",
              "      flex-wrap:wrap;\n",
              "      gap: 12px;\n",
              "    }\n",
              "\n",
              "    .colab-df-convert {\n",
              "      background-color: #E8F0FE;\n",
              "      border: none;\n",
              "      border-radius: 50%;\n",
              "      cursor: pointer;\n",
              "      display: none;\n",
              "      fill: #1967D2;\n",
              "      height: 32px;\n",
              "      padding: 0 0 0 0;\n",
              "      width: 32px;\n",
              "    }\n",
              "\n",
              "    .colab-df-convert:hover {\n",
              "      background-color: #E2EBFA;\n",
              "      box-shadow: 0px 1px 2px rgba(60, 64, 67, 0.3), 0px 1px 3px 1px rgba(60, 64, 67, 0.15);\n",
              "      fill: #174EA6;\n",
              "    }\n",
              "\n",
              "    [theme=dark] .colab-df-convert {\n",
              "      background-color: #3B4455;\n",
              "      fill: #D2E3FC;\n",
              "    }\n",
              "\n",
              "    [theme=dark] .colab-df-convert:hover {\n",
              "      background-color: #434B5C;\n",
              "      box-shadow: 0px 1px 3px 1px rgba(0, 0, 0, 0.15);\n",
              "      filter: drop-shadow(0px 1px 2px rgba(0, 0, 0, 0.3));\n",
              "      fill: #FFFFFF;\n",
              "    }\n",
              "  </style>\n",
              "\n",
              "      <script>\n",
              "        const buttonEl =\n",
              "          document.querySelector('#df-c9cce651-ccc4-4bca-a478-47db77c3341a button.colab-df-convert');\n",
              "        buttonEl.style.display =\n",
              "          google.colab.kernel.accessAllowed ? 'block' : 'none';\n",
              "\n",
              "        async function convertToInteractive(key) {\n",
              "          const element = document.querySelector('#df-c9cce651-ccc4-4bca-a478-47db77c3341a');\n",
              "          const dataTable =\n",
              "            await google.colab.kernel.invokeFunction('convertToInteractive',\n",
              "                                                     [key], {});\n",
              "          if (!dataTable) return;\n",
              "\n",
              "          const docLinkHtml = 'Like what you see? Visit the ' +\n",
              "            '<a target=\"_blank\" href=https://colab.research.google.com/notebooks/data_table.ipynb>data table notebook</a>'\n",
              "            + ' to learn more about interactive tables.';\n",
              "          element.innerHTML = '';\n",
              "          dataTable['output_type'] = 'display_data';\n",
              "          await google.colab.output.renderOutput(dataTable, element);\n",
              "          const docLink = document.createElement('div');\n",
              "          docLink.innerHTML = docLinkHtml;\n",
              "          element.appendChild(docLink);\n",
              "        }\n",
              "      </script>\n",
              "    </div>\n",
              "  </div>\n",
              "  "
            ],
            "text/plain": [
              "               Short description  sd_len  ...             Caller Assignment group\n",
              "0                    login issue      11  ...  spxjnwir pjlcoqds            GRP_0\n",
              "1                        outlook       7  ...  hmjdrvpb komuaywn            GRP_0\n",
              "2             cant log in to vpn      18  ...  eylqgodm ybqkwiam            GRP_0\n",
              "3  unable to access hr_tool page      29  ...  xbkucsvz gcpydteq            GRP_0\n",
              "4                   skype error       12  ...  owlgqjme qhcozdfx            GRP_0\n",
              "\n",
              "[5 rows x 8 columns]"
            ]
          },
          "metadata": {},
          "execution_count": 27
        }
      ]
    },
    {
      "cell_type": "code",
      "source": [
        "fig, axes = plt.subplots(2, 2, figsize=(18, 10))\n",
        "\n",
        "axes[0, 0].set_title('Distribution of Short Description Length')\n",
        "sns.histplot(ticket_df_eda['sd_len'], ax=axes[0, 0])\n",
        "\n",
        "sns.histplot(ticket_df_eda['sd_word_count'], ax=axes[0, 1])\n",
        "axes[0, 1].set_title('Distribution of Short Description Word Count')\n",
        "\n",
        "sns.histplot(ticket_df_eda['desc_len'], ax=axes[1, 0])\n",
        "axes[1, 0].set_title('Distribution of Description Length')\n",
        "\n",
        "sns.histplot(ticket_df_eda['desc_word_count'], ax=axes[1, 1])\n",
        "axes[1, 1].set_title('Distribution of Description Word Count')\n",
        "\n",
        "plt.show()"
      ],
      "metadata": {
        "colab": {
          "base_uri": "https://localhost:8080/",
          "height": 622
        },
        "id": "x0rQT8CVnwbu",
        "outputId": "2451d5e7-9290-4a9b-b61b-5f8fdcb76e1f"
      },
      "execution_count": 28,
      "outputs": [
        {
          "output_type": "display_data",
          "data": {
            "image/png": "[encoded data removed]",
            "text/plain": [
              "<Figure size 1296x720 with 4 Axes>"
            ]
          },
          "metadata": {
            "needs_background": "light"
          }
        }
      ]
    },
    {
      "cell_type": "markdown",
      "source": [
        "**Top Caller**"
      ],
      "metadata": {
        "id": "YAG05J1iM-Ej"
      }
    },
    {
      "cell_type": "code",
      "source": [
        "ticket_df_eda['Caller'].value_counts()"
      ],
      "metadata": {
        "colab": {
          "base_uri": "https://localhost:8080/"
        },
        "id": "Hg8A1ROww5jt",
        "outputId": "36948e21-f12b-44c1-896f-d35222c8c209"
      },
      "execution_count": 29,
      "outputs": [
        {
          "output_type": "execute_result",
          "data": {
            "text/plain": [
              "bpctwhsn kzqsbmtp    810\n",
              "ZkBogxib QsEJzdZO    151\n",
              "fumkcsji sarmtlhy    134\n",
              "rbozivdq gmlhrtvp     87\n",
              "rkupnshb gsmzfojw     71\n",
              "                    ... \n",
              "wsimyhro omhnjqbw      1\n",
              "agjzikpf nhfrbxek      1\n",
              "eahkpnbm uptiveok      1\n",
              "rkimfqta oepigwmr      1\n",
              "xtsuifdz wktgzcyl      1\n",
              "Name: Caller, Length: 2950, dtype: int64"
            ]
          },
          "metadata": {},
          "execution_count": 29
        }
      ]
    },
    {
      "cell_type": "code",
      "source": [
        "ticket_df_eda['Caller'].value_counts().head(10)"
      ],
      "metadata": {
        "colab": {
          "base_uri": "https://localhost:8080/"
        },
        "id": "K2J0rELexr5S",
        "outputId": "c4b8875b-a5dd-42ea-be34-6d1bd9a0a3ad"
      },
      "execution_count": 30,
      "outputs": [
        {
          "output_type": "execute_result",
          "data": {
            "text/plain": [
              "bpctwhsn kzqsbmtp    810\n",
              "ZkBogxib QsEJzdZO    151\n",
              "fumkcsji sarmtlhy    134\n",
              "rbozivdq gmlhrtvp     87\n",
              "rkupnshb gsmzfojw     71\n",
              "jloygrwh acvztedi     64\n",
              "spxqmiry zpwgoqju     63\n",
              "oldrctiu bxurpsyi     57\n",
              "olckhmvx pcqobjnd     54\n",
              "jyoqwxhz clhxsoqy     51\n",
              "Name: Caller, dtype: int64"
            ]
          },
          "metadata": {},
          "execution_count": 30
        }
      ]
    },
    {
      "cell_type": "markdown",
      "source": [
        "Top caller has recorded 810 tickets"
      ],
      "metadata": {
        "id": "lgrhhZxWx7Wm"
      }
    },
    {
      "cell_type": "markdown",
      "source": [
        "**Top Caller in each Group**"
      ],
      "metadata": {
        "id": "Ps3dww9BNG4Q"
      }
    },
    {
      "cell_type": "code",
      "source": [
        "top_n = 5\n",
        "s = ticket_df_eda['Caller'].groupby(ticket_df_eda['Assignment group']).value_counts()\n",
        "grp_caller = pd.DataFrame(s.groupby(level=0).nlargest(top_n).reset_index(level=0, drop=True))\n",
        "grp_caller.head(15)"
      ],
      "metadata": {
        "colab": {
          "base_uri": "https://localhost:8080/",
          "height": 551
        },
        "id": "0HF8Nvar1vfK",
        "outputId": "d3f62794-7ad6-4919-a294-b87eeaa6fc2c"
      },
      "execution_count": 31,
      "outputs": [
        {
          "output_type": "execute_result",
          "data": {
            "text/html": [
              "\n",
              "  <div id=\"df-24597bf0-34b1-411c-8965-8916cbff3dc7\">\n",
              "    <div class=\"colab-df-container\">\n",
              "      <div>\n",
              "<style scoped>\n",
              "    .dataframe tbody tr th:only-of-type {\n",
              "        vertical-align: middle;\n",
              "    }\n",
              "\n",
              "    .dataframe tbody tr th {\n",
              "        vertical-align: top;\n",
              "    }\n",
              "\n",
              "    .dataframe thead th {\n",
              "        text-align: right;\n",
              "    }\n",
              "</style>\n",
              "<table border=\"1\" class=\"dataframe\">\n",
              "  <thead>\n",
              "    <tr style=\"text-align: right;\">\n",
              "      <th></th>\n",
              "      <th></th>\n",
              "      <th>Caller</th>\n",
              "    </tr>\n",
              "    <tr>\n",
              "      <th>Assignment group</th>\n",
              "      <th>Caller</th>\n",
              "      <th></th>\n",
              "    </tr>\n",
              "  </thead>\n",
              "  <tbody>\n",
              "    <tr>\n",
              "      <th rowspan=\"5\" valign=\"top\">GRP_0</th>\n",
              "      <th>fumkcsji sarmtlhy</th>\n",
              "      <td>132</td>\n",
              "    </tr>\n",
              "    <tr>\n",
              "      <th>rbozivdq gmlhrtvp</th>\n",
              "      <td>86</td>\n",
              "    </tr>\n",
              "    <tr>\n",
              "      <th>olckhmvx pcqobjnd</th>\n",
              "      <td>54</td>\n",
              "    </tr>\n",
              "    <tr>\n",
              "      <th>efbwiadp dicafxhv</th>\n",
              "      <td>45</td>\n",
              "    </tr>\n",
              "    <tr>\n",
              "      <th>mfeyouli ndobtzpw</th>\n",
              "      <td>13</td>\n",
              "    </tr>\n",
              "    <tr>\n",
              "      <th rowspan=\"5\" valign=\"top\">GRP_1</th>\n",
              "      <th>bpctwhsn kzqsbmtp</th>\n",
              "      <td>6</td>\n",
              "    </tr>\n",
              "    <tr>\n",
              "      <th>jloygrwh acvztedi</th>\n",
              "      <td>4</td>\n",
              "    </tr>\n",
              "    <tr>\n",
              "      <th>jyoqwxhz clhxsoqy</th>\n",
              "      <td>3</td>\n",
              "    </tr>\n",
              "    <tr>\n",
              "      <th>spxqmiry zpwgoqju</th>\n",
              "      <td>3</td>\n",
              "    </tr>\n",
              "    <tr>\n",
              "      <th>kbnfxpsy gehxzayq</th>\n",
              "      <td>2</td>\n",
              "    </tr>\n",
              "    <tr>\n",
              "      <th rowspan=\"5\" valign=\"top\">GRP_10</th>\n",
              "      <th>bpctwhsn kzqsbmtp</th>\n",
              "      <td>60</td>\n",
              "    </tr>\n",
              "    <tr>\n",
              "      <th>ihfkwzjd erbxoyqk</th>\n",
              "      <td>6</td>\n",
              "    </tr>\n",
              "    <tr>\n",
              "      <th>dizquolf hlykecxa</th>\n",
              "      <td>5</td>\n",
              "    </tr>\n",
              "    <tr>\n",
              "      <th>gnasmtvx cwxtsvkm</th>\n",
              "      <td>3</td>\n",
              "    </tr>\n",
              "    <tr>\n",
              "      <th>hlrmufzx qcdzierm</th>\n",
              "      <td>3</td>\n",
              "    </tr>\n",
              "  </tbody>\n",
              "</table>\n",
              "</div>\n",
              "      <button class=\"colab-df-convert\" onclick=\"convertToInteractive('df-24597bf0-34b1-411c-8965-8916cbff3dc7')\"\n",
              "              title=\"Convert this dataframe to an interactive table.\"\n",
              "              style=\"display:none;\">\n",
              "        \n",
              "  <svg xmlns=\"http://www.w3.org/2000/svg\" height=\"24px\"viewBox=\"0 0 24 24\"\n",
              "       width=\"24px\">\n",
              "    <path d=\"M0 0h24v24H0V0z\" fill=\"none\"/>\n",
              "    <path d=\"M18.56 5.44l.94 2.06.94-2.06 2.06-.94-2.06-.94-.94-2.06-.94 2.06-2.06.94zm-11 1L8.5 8.5l.94-2.06 2.06-.94-2.06-.94L8.5 2.5l-.94 2.06-2.06.94zm10 10l.94 2.06.94-2.06 2.06-.94-2.06-.94-.94-2.06-.94 2.06-2.06.94z\"/><path d=\"M17.41 7.96l-1.37-1.37c-.4-.4-.92-.59-1.43-.59-.52 0-1.04.2-1.43.59L10.3 9.45l-7.72 7.72c-.78.78-.78 2.05 0 2.83L4 21.41c.39.39.9.59 1.41.59.51 0 1.02-.2 1.41-.59l7.78-7.78 2.81-2.81c.8-.78.8-2.07 0-2.86zM5.41 20L4 18.59l7.72-7.72 1.47 1.35L5.41 20z\"/>\n",
              "  </svg>\n",
              "      </button>\n",
              "      \n",
              "  <style>\n",
              "    .colab-df-container {\n",
              "      display:flex;\n",
              "      flex-wrap:wrap;\n",
              "      gap: 12px;\n",
              "    }\n",
              "\n",
              "    .colab-df-convert {\n",
              "      background-color: #E8F0FE;\n",
              "      border: none;\n",
              "      border-radius: 50%;\n",
              "      cursor: pointer;\n",
              "      display: none;\n",
              "      fill: #1967D2;\n",
              "      height: 32px;\n",
              "      padding: 0 0 0 0;\n",
              "      width: 32px;\n",
              "    }\n",
              "\n",
              "    .colab-df-convert:hover {\n",
              "      background-color: #E2EBFA;\n",
              "      box-shadow: 0px 1px 2px rgba(60, 64, 67, 0.3), 0px 1px 3px 1px rgba(60, 64, 67, 0.15);\n",
              "      fill: #174EA6;\n",
              "    }\n",
              "\n",
              "    [theme=dark] .colab-df-convert {\n",
              "      background-color: #3B4455;\n",
              "      fill: #D2E3FC;\n",
              "    }\n",
              "\n",
              "    [theme=dark] .colab-df-convert:hover {\n",
              "      background-color: #434B5C;\n",
              "      box-shadow: 0px 1px 3px 1px rgba(0, 0, 0, 0.15);\n",
              "      filter: drop-shadow(0px 1px 2px rgba(0, 0, 0, 0.3));\n",
              "      fill: #FFFFFF;\n",
              "    }\n",
              "  </style>\n",
              "\n",
              "      <script>\n",
              "        const buttonEl =\n",
              "          document.querySelector('#df-24597bf0-34b1-411c-8965-8916cbff3dc7 button.colab-df-convert');\n",
              "        buttonEl.style.display =\n",
              "          google.colab.kernel.accessAllowed ? 'block' : 'none';\n",
              "\n",
              "        async function convertToInteractive(key) {\n",
              "          const element = document.querySelector('#df-24597bf0-34b1-411c-8965-8916cbff3dc7');\n",
              "          const dataTable =\n",
              "            await google.colab.kernel.invokeFunction('convertToInteractive',\n",
              "                                                     [key], {});\n",
              "          if (!dataTable) return;\n",
              "\n",
              "          const docLinkHtml = 'Like what you see? Visit the ' +\n",
              "            '<a target=\"_blank\" href=https://colab.research.google.com/notebooks/data_table.ipynb>data table notebook</a>'\n",
              "            + ' to learn more about interactive tables.';\n",
              "          element.innerHTML = '';\n",
              "          dataTable['output_type'] = 'display_data';\n",
              "          await google.colab.output.renderOutput(dataTable, element);\n",
              "          const docLink = document.createElement('div');\n",
              "          docLink.innerHTML = docLinkHtml;\n",
              "          element.appendChild(docLink);\n",
              "        }\n",
              "      </script>\n",
              "    </div>\n",
              "  </div>\n",
              "  "
            ],
            "text/plain": [
              "                                    Caller\n",
              "Assignment group Caller                   \n",
              "GRP_0            fumkcsji sarmtlhy     132\n",
              "                 rbozivdq gmlhrtvp      86\n",
              "                 olckhmvx pcqobjnd      54\n",
              "                 efbwiadp dicafxhv      45\n",
              "                 mfeyouli ndobtzpw      13\n",
              "GRP_1            bpctwhsn kzqsbmtp       6\n",
              "                 jloygrwh acvztedi       4\n",
              "                 jyoqwxhz clhxsoqy       3\n",
              "                 spxqmiry zpwgoqju       3\n",
              "                 kbnfxpsy gehxzayq       2\n",
              "GRP_10           bpctwhsn kzqsbmtp      60\n",
              "                 ihfkwzjd erbxoyqk       6\n",
              "                 dizquolf hlykecxa       5\n",
              "                 gnasmtvx cwxtsvkm       3\n",
              "                 hlrmufzx qcdzierm       3"
            ]
          },
          "metadata": {},
          "execution_count": 31
        }
      ]
    },
    {
      "cell_type": "code",
      "source": [
        "# Check if any caller appears to raise ticket for multiple groups\n",
        "multiple_caller = grp_caller[grp_caller.Caller.duplicated()]\n",
        "unique_caller = [idx[1] for idx in multiple_caller.index[multiple_caller.Caller.unique()]]\n",
        "print(f'\\033[1mFollowing {len(unique_caller)} callers happen to raise tickets for multiple groups:\\033[0m\\n')\n",
        "print(unique_caller)\n",
        "\n",
        "multiple_caller"
      ],
      "metadata": {
        "colab": {
          "base_uri": "https://localhost:8080/",
          "height": 527
        },
        "id": "pqwLfsM4y0ca",
        "outputId": "ee131e4e-a893-4e0f-c1f0-ec278f1eb1e5"
      },
      "execution_count": 32,
      "outputs": [
        {
          "output_type": "stream",
          "name": "stdout",
          "text": [
            "\u001b[1mFollowing 15 callers happen to raise tickets for multiple groups:\u001b[0m\n",
            "\n",
            "['hlrmufzx qcdzierm', 'fbgetczn jlsvxura', 'gnasmtvx cwxtsvkm', 'ihfkwzjd erbxoyqk', 'tqfnalpj qyoscnge', 'fmqubnvs kcxpeyiv', 'tghrloks jbgcvlmf', 'jwqyxbzs adpvilqu', 'nuhfwplj ojcwxser', 'oldrctiu bxurpsyi', 'vlymsnej whlqxcst', 'dkmcfreg anwmfvlg', 'bpctwhsn kzqsbmtp', 'spxqmiry zpwgoqju', 'obanjrhg rnafleys']\n"
          ]
        },
        {
          "output_type": "execute_result",
          "data": {
            "text/html": [
              "\n",
              "  <div id=\"df-0cc4fc0f-13f0-4906-8b58-a622fe1c7dce\">\n",
              "    <div class=\"colab-df-container\">\n",
              "      <div>\n",
              "<style scoped>\n",
              "    .dataframe tbody tr th:only-of-type {\n",
              "        vertical-align: middle;\n",
              "    }\n",
              "\n",
              "    .dataframe tbody tr th {\n",
              "        vertical-align: top;\n",
              "    }\n",
              "\n",
              "    .dataframe thead th {\n",
              "        text-align: right;\n",
              "    }\n",
              "</style>\n",
              "<table border=\"1\" class=\"dataframe\">\n",
              "  <thead>\n",
              "    <tr style=\"text-align: right;\">\n",
              "      <th></th>\n",
              "      <th></th>\n",
              "      <th>Caller</th>\n",
              "    </tr>\n",
              "    <tr>\n",
              "      <th>Assignment group</th>\n",
              "      <th>Caller</th>\n",
              "      <th></th>\n",
              "    </tr>\n",
              "  </thead>\n",
              "  <tbody>\n",
              "    <tr>\n",
              "      <th>GRP_1</th>\n",
              "      <th>spxqmiry zpwgoqju</th>\n",
              "      <td>3</td>\n",
              "    </tr>\n",
              "    <tr>\n",
              "      <th rowspan=\"3\" valign=\"top\">GRP_10</th>\n",
              "      <th>ihfkwzjd erbxoyqk</th>\n",
              "      <td>6</td>\n",
              "    </tr>\n",
              "    <tr>\n",
              "      <th>gnasmtvx cwxtsvkm</th>\n",
              "      <td>3</td>\n",
              "    </tr>\n",
              "    <tr>\n",
              "      <th>hlrmufzx qcdzierm</th>\n",
              "      <td>3</td>\n",
              "    </tr>\n",
              "    <tr>\n",
              "      <th>GRP_11</th>\n",
              "      <th>tghrloks jbgcvlmf</th>\n",
              "      <td>2</td>\n",
              "    </tr>\n",
              "    <tr>\n",
              "      <th>...</th>\n",
              "      <th>...</th>\n",
              "      <td>...</td>\n",
              "    </tr>\n",
              "    <tr>\n",
              "      <th>GRP_73</th>\n",
              "      <th>kcnosyae zlpmfxgs</th>\n",
              "      <td>1</td>\n",
              "    </tr>\n",
              "    <tr>\n",
              "      <th>GRP_8</th>\n",
              "      <th>ZkBogxib QsEJzdZO</th>\n",
              "      <td>54</td>\n",
              "    </tr>\n",
              "    <tr>\n",
              "      <th rowspan=\"3\" valign=\"top\">GRP_9</th>\n",
              "      <th>ctzykflo evzbhgru</th>\n",
              "      <td>3</td>\n",
              "    </tr>\n",
              "    <tr>\n",
              "      <th>sholvcmf bjtpomrl</th>\n",
              "      <td>3</td>\n",
              "    </tr>\n",
              "    <tr>\n",
              "      <th>urhpnlaf agmsfqil</th>\n",
              "      <td>3</td>\n",
              "    </tr>\n",
              "  </tbody>\n",
              "</table>\n",
              "<p>281 rows × 1 columns</p>\n",
              "</div>\n",
              "      <button class=\"colab-df-convert\" onclick=\"convertToInteractive('df-0cc4fc0f-13f0-4906-8b58-a622fe1c7dce')\"\n",
              "              title=\"Convert this dataframe to an interactive table.\"\n",
              "              style=\"display:none;\">\n",
              "        \n",
              "  <svg xmlns=\"http://www.w3.org/2000/svg\" height=\"24px\"viewBox=\"0 0 24 24\"\n",
              "       width=\"24px\">\n",
              "    <path d=\"M0 0h24v24H0V0z\" fill=\"none\"/>\n",
              "    <path d=\"M18.56 5.44l.94 2.06.94-2.06 2.06-.94-2.06-.94-.94-2.06-.94 2.06-2.06.94zm-11 1L8.5 8.5l.94-2.06 2.06-.94-2.06-.94L8.5 2.5l-.94 2.06-2.06.94zm10 10l.94 2.06.94-2.06 2.06-.94-2.06-.94-.94-2.06-.94 2.06-2.06.94z\"/><path d=\"M17.41 7.96l-1.37-1.37c-.4-.4-.92-.59-1.43-.59-.52 0-1.04.2-1.43.59L10.3 9.45l-7.72 7.72c-.78.78-.78 2.05 0 2.83L4 21.41c.39.39.9.59 1.41.59.51 0 1.02-.2 1.41-.59l7.78-7.78 2.81-2.81c.8-.78.8-2.07 0-2.86zM5.41 20L4 18.59l7.72-7.72 1.47 1.35L5.41 20z\"/>\n",
              "  </svg>\n",
              "      </button>\n",
              "      \n",
              "  <style>\n",
              "    .colab-df-container {\n",
              "      display:flex;\n",
              "      flex-wrap:wrap;\n",
              "      gap: 12px;\n",
              "    }\n",
              "\n",
              "    .colab-df-convert {\n",
              "      background-color: #E8F0FE;\n",
              "      border: none;\n",
              "      border-radius: 50%;\n",
              "      cursor: pointer;\n",
              "      display: none;\n",
              "      fill: #1967D2;\n",
              "      height: 32px;\n",
              "      padding: 0 0 0 0;\n",
              "      width: 32px;\n",
              "    }\n",
              "\n",
              "    .colab-df-convert:hover {\n",
              "      background-color: #E2EBFA;\n",
              "      box-shadow: 0px 1px 2px rgba(60, 64, 67, 0.3), 0px 1px 3px 1px rgba(60, 64, 67, 0.15);\n",
              "      fill: #174EA6;\n",
              "    }\n",
              "\n",
              "    [theme=dark] .colab-df-convert {\n",
              "      background-color: #3B4455;\n",
              "      fill: #D2E3FC;\n",
              "    }\n",
              "\n",
              "    [theme=dark] .colab-df-convert:hover {\n",
              "      background-color: #434B5C;\n",
              "      box-shadow: 0px 1px 3px 1px rgba(0, 0, 0, 0.15);\n",
              "      filter: drop-shadow(0px 1px 2px rgba(0, 0, 0, 0.3));\n",
              "      fill: #FFFFFF;\n",
              "    }\n",
              "  </style>\n",
              "\n",
              "      <script>\n",
              "        const buttonEl =\n",
              "          document.querySelector('#df-0cc4fc0f-13f0-4906-8b58-a622fe1c7dce button.colab-df-convert');\n",
              "        buttonEl.style.display =\n",
              "          google.colab.kernel.accessAllowed ? 'block' : 'none';\n",
              "\n",
              "        async function convertToInteractive(key) {\n",
              "          const element = document.querySelector('#df-0cc4fc0f-13f0-4906-8b58-a622fe1c7dce');\n",
              "          const dataTable =\n",
              "            await google.colab.kernel.invokeFunction('convertToInteractive',\n",
              "                                                     [key], {});\n",
              "          if (!dataTable) return;\n",
              "\n",
              "          const docLinkHtml = 'Like what you see? Visit the ' +\n",
              "            '<a target=\"_blank\" href=https://colab.research.google.com/notebooks/data_table.ipynb>data table notebook</a>'\n",
              "            + ' to learn more about interactive tables.';\n",
              "          element.innerHTML = '';\n",
              "          dataTable['output_type'] = 'display_data';\n",
              "          await google.colab.output.renderOutput(dataTable, element);\n",
              "          const docLink = document.createElement('div');\n",
              "          docLink.innerHTML = docLinkHtml;\n",
              "          element.appendChild(docLink);\n",
              "        }\n",
              "      </script>\n",
              "    </div>\n",
              "  </div>\n",
              "  "
            ],
            "text/plain": [
              "                                    Caller\n",
              "Assignment group Caller                   \n",
              "GRP_1            spxqmiry zpwgoqju       3\n",
              "GRP_10           ihfkwzjd erbxoyqk       6\n",
              "                 gnasmtvx cwxtsvkm       3\n",
              "                 hlrmufzx qcdzierm       3\n",
              "GRP_11           tghrloks jbgcvlmf       2\n",
              "...                                    ...\n",
              "GRP_73           kcnosyae zlpmfxgs       1\n",
              "GRP_8            ZkBogxib QsEJzdZO      54\n",
              "GRP_9            ctzykflo evzbhgru       3\n",
              "                 sholvcmf bjtpomrl       3\n",
              "                 urhpnlaf agmsfqil       3\n",
              "\n",
              "[281 rows x 1 columns]"
            ]
          },
          "metadata": {},
          "execution_count": 32
        }
      ]
    },
    {
      "cell_type": "code",
      "source": [
        "ticket_df.describe(percentiles=[0.1, .25, .5, .75, .95, .99]).transpose()"
      ],
      "metadata": {
        "colab": {
          "base_uri": "https://localhost:8080/",
          "height": 175
        },
        "id": "84wQTLGiNx3A",
        "outputId": "93ce767f-1735-4bb1-e56e-aed546c8179c"
      },
      "execution_count": 33,
      "outputs": [
        {
          "output_type": "execute_result",
          "data": {
            "text/html": [
              "\n",
              "  <div id=\"df-03f8b2f2-624d-416f-be4a-f7077650ddfa\">\n",
              "    <div class=\"colab-df-container\">\n",
              "      <div>\n",
              "<style scoped>\n",
              "    .dataframe tbody tr th:only-of-type {\n",
              "        vertical-align: middle;\n",
              "    }\n",
              "\n",
              "    .dataframe tbody tr th {\n",
              "        vertical-align: top;\n",
              "    }\n",
              "\n",
              "    .dataframe thead th {\n",
              "        text-align: right;\n",
              "    }\n",
              "</style>\n",
              "<table border=\"1\" class=\"dataframe\">\n",
              "  <thead>\n",
              "    <tr style=\"text-align: right;\">\n",
              "      <th></th>\n",
              "      <th>count</th>\n",
              "      <th>unique</th>\n",
              "      <th>top</th>\n",
              "      <th>freq</th>\n",
              "    </tr>\n",
              "  </thead>\n",
              "  <tbody>\n",
              "    <tr>\n",
              "      <th>Short description</th>\n",
              "      <td>8500</td>\n",
              "      <td>7482</td>\n",
              "      <td>password reset</td>\n",
              "      <td>38</td>\n",
              "    </tr>\n",
              "    <tr>\n",
              "      <th>Description</th>\n",
              "      <td>8500</td>\n",
              "      <td>7818</td>\n",
              "      <td>the</td>\n",
              "      <td>56</td>\n",
              "    </tr>\n",
              "    <tr>\n",
              "      <th>Caller</th>\n",
              "      <td>8500</td>\n",
              "      <td>2950</td>\n",
              "      <td>bpctwhsn kzqsbmtp</td>\n",
              "      <td>810</td>\n",
              "    </tr>\n",
              "    <tr>\n",
              "      <th>Assignment group</th>\n",
              "      <td>8500</td>\n",
              "      <td>74</td>\n",
              "      <td>GRP_0</td>\n",
              "      <td>3976</td>\n",
              "    </tr>\n",
              "  </tbody>\n",
              "</table>\n",
              "</div>\n",
              "      <button class=\"colab-df-convert\" onclick=\"convertToInteractive('df-03f8b2f2-624d-416f-be4a-f7077650ddfa')\"\n",
              "              title=\"Convert this dataframe to an interactive table.\"\n",
              "              style=\"display:none;\">\n",
              "        \n",
              "  <svg xmlns=\"http://www.w3.org/2000/svg\" height=\"24px\"viewBox=\"0 0 24 24\"\n",
              "       width=\"24px\">\n",
              "    <path d=\"M0 0h24v24H0V0z\" fill=\"none\"/>\n",
              "    <path d=\"M18.56 5.44l.94 2.06.94-2.06 2.06-.94-2.06-.94-.94-2.06-.94 2.06-2.06.94zm-11 1L8.5 8.5l.94-2.06 2.06-.94-2.06-.94L8.5 2.5l-.94 2.06-2.06.94zm10 10l.94 2.06.94-2.06 2.06-.94-2.06-.94-.94-2.06-.94 2.06-2.06.94z\"/><path d=\"M17.41 7.96l-1.37-1.37c-.4-.4-.92-.59-1.43-.59-.52 0-1.04.2-1.43.59L10.3 9.45l-7.72 7.72c-.78.78-.78 2.05 0 2.83L4 21.41c.39.39.9.59 1.41.59.51 0 1.02-.2 1.41-.59l7.78-7.78 2.81-2.81c.8-.78.8-2.07 0-2.86zM5.41 20L4 18.59l7.72-7.72 1.47 1.35L5.41 20z\"/>\n",
              "  </svg>\n",
              "      </button>\n",
              "      \n",
              "  <style>\n",
              "    .colab-df-container {\n",
              "      display:flex;\n",
              "      flex-wrap:wrap;\n",
              "      gap: 12px;\n",
              "    }\n",
              "\n",
              "    .colab-df-convert {\n",
              "      background-color: #E8F0FE;\n",
              "      border: none;\n",
              "      border-radius: 50%;\n",
              "      cursor: pointer;\n",
              "      display: none;\n",
              "      fill: #1967D2;\n",
              "      height: 32px;\n",
              "      padding: 0 0 0 0;\n",
              "      width: 32px;\n",
              "    }\n",
              "\n",
              "    .colab-df-convert:hover {\n",
              "      background-color: #E2EBFA;\n",
              "      box-shadow: 0px 1px 2px rgba(60, 64, 67, 0.3), 0px 1px 3px 1px rgba(60, 64, 67, 0.15);\n",
              "      fill: #174EA6;\n",
              "    }\n",
              "\n",
              "    [theme=dark] .colab-df-convert {\n",
              "      background-color: #3B4455;\n",
              "      fill: #D2E3FC;\n",
              "    }\n",
              "\n",
              "    [theme=dark] .colab-df-convert:hover {\n",
              "      background-color: #434B5C;\n",
              "      box-shadow: 0px 1px 3px 1px rgba(0, 0, 0, 0.15);\n",
              "      filter: drop-shadow(0px 1px 2px rgba(0, 0, 0, 0.3));\n",
              "      fill: #FFFFFF;\n",
              "    }\n",
              "  </style>\n",
              "\n",
              "      <script>\n",
              "        const buttonEl =\n",
              "          document.querySelector('#df-03f8b2f2-624d-416f-be4a-f7077650ddfa button.colab-df-convert');\n",
              "        buttonEl.style.display =\n",
              "          google.colab.kernel.accessAllowed ? 'block' : 'none';\n",
              "\n",
              "        async function convertToInteractive(key) {\n",
              "          const element = document.querySelector('#df-03f8b2f2-624d-416f-be4a-f7077650ddfa');\n",
              "          const dataTable =\n",
              "            await google.colab.kernel.invokeFunction('convertToInteractive',\n",
              "                                                     [key], {});\n",
              "          if (!dataTable) return;\n",
              "\n",
              "          const docLinkHtml = 'Like what you see? Visit the ' +\n",
              "            '<a target=\"_blank\" href=https://colab.research.google.com/notebooks/data_table.ipynb>data table notebook</a>'\n",
              "            + ' to learn more about interactive tables.';\n",
              "          element.innerHTML = '';\n",
              "          dataTable['output_type'] = 'display_data';\n",
              "          await google.colab.output.renderOutput(dataTable, element);\n",
              "          const docLink = document.createElement('div');\n",
              "          docLink.innerHTML = docLinkHtml;\n",
              "          element.appendChild(docLink);\n",
              "        }\n",
              "      </script>\n",
              "    </div>\n",
              "  </div>\n",
              "  "
            ],
            "text/plain": [
              "                  count unique                top  freq\n",
              "Short description  8500   7482     password reset    38\n",
              "Description        8500   7818                the    56\n",
              "Caller             8500   2950  bpctwhsn kzqsbmtp   810\n",
              "Assignment group   8500     74              GRP_0  3976"
            ]
          },
          "metadata": {},
          "execution_count": 33
        }
      ]
    },
    {
      "cell_type": "markdown",
      "source": [
        "# **Garbled Text Processing**"
      ],
      "metadata": {
        "id": "N-CBwrhDXH8b"
      }
    },
    {
      "cell_type": "code",
      "source": [
        "ticket_df_garbled = ticket_df.copy()"
      ],
      "metadata": {
        "id": "g7bjyYx2Fuy4"
      },
      "execution_count": 34,
      "outputs": []
    },
    {
      "cell_type": "code",
      "source": [
        "!pip install ftfy"
      ],
      "metadata": {
        "colab": {
          "base_uri": "https://localhost:8080/"
        },
        "id": "GbWuoctYXIXI",
        "outputId": "0b8785ab-2b89-48b1-90dd-7e2d1c390703"
      },
      "execution_count": 35,
      "outputs": [
        {
          "output_type": "stream",
          "name": "stdout",
          "text": [
            "Collecting ftfy\n",
            "  Downloading ftfy-6.0.3.tar.gz (64 kB)\n",
            "\u001b[?25l\r\u001b[K     |█████                           | 10 kB 25.1 MB/s eta 0:00:01\r\u001b[K     |██████████▏                     | 20 kB 12.0 MB/s eta 0:00:01\r\u001b[K     |███████████████▎                | 30 kB 9.7 MB/s eta 0:00:01\r\u001b[K     |████████████████████▍           | 40 kB 6.4 MB/s eta 0:00:01\r\u001b[K     |█████████████████████████▌      | 51 kB 5.3 MB/s eta 0:00:01\r\u001b[K     |██████████████████████████████▋ | 61 kB 5.9 MB/s eta 0:00:01\r\u001b[K     |████████████████████████████████| 64 kB 1.6 MB/s \n",
            "\u001b[?25hRequirement already satisfied: wcwidth in /usr/local/lib/python3.7/dist-packages (from ftfy) (0.2.5)\n",
            "Building wheels for collected packages: ftfy\n",
            "  Building wheel for ftfy (setup.py) ... \u001b[?25l\u001b[?25hdone\n",
            "  Created wheel for ftfy: filename=ftfy-6.0.3-py3-none-any.whl size=41933 sha256=9b0d6f750579736510540ce80d8e9f66857945b1f24405679baaaff22102369d\n",
            "  Stored in directory: /root/.cache/pip/wheels/19/f5/38/273eb3b5e76dfd850619312f693716ac4518b498f5ffb6f56d\n",
            "Successfully built ftfy\n",
            "Installing collected packages: ftfy\n",
            "Successfully installed ftfy-6.0.3\n"
          ]
        }
      ]
    },
    {
      "cell_type": "code",
      "source": [
        "from ftfy import fix_encoding, fix_text, badness"
      ],
      "metadata": {
        "id": "DnGlXCyKX1er"
      },
      "execution_count": 36,
      "outputs": []
    },
    {
      "cell_type": "code",
      "source": [
        "# Write a function to apply to the dataset to detect Mojibakes\n",
        "def is_garbled(text):\n",
        "    if not badness.sequence_weirdness(text):\n",
        "        # nothing weird, should be okay\n",
        "        return True\n",
        "    try:\n",
        "        text.encode('sloppy-windows-1252')\n",
        "    except UnicodeEncodeError:\n",
        "        # Not CP-1252 encodable, probably fine\n",
        "        return True\n",
        "    else:\n",
        "        # Encodable as CP-1252, Mojibake alert level high\n",
        "        return False"
      ],
      "metadata": {
        "id": "eo1aVwE7XOQa"
      },
      "execution_count": 37,
      "outputs": []
    },
    {
      "cell_type": "code",
      "source": [
        "ticket_df_garbled[~ticket_df_garbled.iloc[:,:-1].applymap(is_garbled).all(1)]"
      ],
      "metadata": {
        "colab": {
          "base_uri": "https://localhost:8080/",
          "height": 458
        },
        "id": "gqUpzFHjZtV5",
        "outputId": "9453fd9b-bc9f-427d-87f4-555583a6bfc4"
      },
      "execution_count": 38,
      "outputs": [
        {
          "output_type": "stream",
          "name": "stderr",
          "text": [
            "/usr/local/lib/python3.7/dist-packages/ftfy/badness.py:369: UserWarning: `sequence_weirdness()` is an old heuristic, and the current closest equivalent is `ftfy.badness.badness()`\n",
            "  \"`sequence_weirdness()` is an old heuristic, and the current \"\n"
          ]
        },
        {
          "output_type": "execute_result",
          "data": {
            "text/html": [
              "\n",
              "  <div id=\"df-f4236b8f-a378-4c71-9d03-eadb5369f989\">\n",
              "    <div class=\"colab-df-container\">\n",
              "      <div>\n",
              "<style scoped>\n",
              "    .dataframe tbody tr th:only-of-type {\n",
              "        vertical-align: middle;\n",
              "    }\n",
              "\n",
              "    .dataframe tbody tr th {\n",
              "        vertical-align: top;\n",
              "    }\n",
              "\n",
              "    .dataframe thead th {\n",
              "        text-align: right;\n",
              "    }\n",
              "</style>\n",
              "<table border=\"1\" class=\"dataframe\">\n",
              "  <thead>\n",
              "    <tr style=\"text-align: right;\">\n",
              "      <th></th>\n",
              "      <th>Short description</th>\n",
              "      <th>Description</th>\n",
              "      <th>Caller</th>\n",
              "      <th>Assignment group</th>\n",
              "    </tr>\n",
              "  </thead>\n",
              "  <tbody>\n",
              "    <tr>\n",
              "      <th>99</th>\n",
              "      <td>password expiry tomorrow</td>\n",
              "      <td>\\n\\nreceived from: ecprjbod.litmjwsy@gmail.com...</td>\n",
              "      <td>ecprjbod litmjwsy</td>\n",
              "      <td>GRP_0</td>\n",
              "    </tr>\n",
              "    <tr>\n",
              "      <th>116</th>\n",
              "      <td>server issues</td>\n",
              "      <td>\\r\\n\\r\\nreceived from: bgqpotek.cuxakvml@gmail...</td>\n",
              "      <td>bgqpotek cuxakvml</td>\n",
              "      <td>GRP_0</td>\n",
              "    </tr>\n",
              "    <tr>\n",
              "      <th>124</th>\n",
              "      <td>mobile device activation</td>\n",
              "      <td>from: tvcdfqgp nrbcqwgj \\nsent: friday, octobe...</td>\n",
              "      <td>tvcdfqgp nrbcqwgj</td>\n",
              "      <td>GRP_0</td>\n",
              "    </tr>\n",
              "    <tr>\n",
              "      <th>162</th>\n",
              "      <td>access to bex</td>\n",
              "      <td>\\r\\n\\r\\nreceived from: yfqoaepn.xnezhsit@gmail...</td>\n",
              "      <td>yfqoaepn xnezhsit</td>\n",
              "      <td>GRP_0</td>\n",
              "    </tr>\n",
              "    <tr>\n",
              "      <th>164</th>\n",
              "      <td>æ’¤å›ž: ticket_no1564867 -- comments added</td>\n",
              "      <td>\\n\\nreceived from: abcdri@company.com\\n\\nwindy...</td>\n",
              "      <td>tycludks cjofwigv</td>\n",
              "      <td>GRP_0</td>\n",
              "    </tr>\n",
              "    <tr>\n",
              "      <th>...</th>\n",
              "      <td>...</td>\n",
              "      <td>...</td>\n",
              "      <td>...</td>\n",
              "      <td>...</td>\n",
              "    </tr>\n",
              "    <tr>\n",
              "      <th>8470</th>\n",
              "      <td>please review your recent ticketing_tool ticke...</td>\n",
              "      <td>from: mikhghytr wafglhdrhjop \\nsent: thursday,...</td>\n",
              "      <td>azxhejvq fyemlavd</td>\n",
              "      <td>GRP_16</td>\n",
              "    </tr>\n",
              "    <tr>\n",
              "      <th>8471</th>\n",
              "      <td>ç”µè„‘å¼€æœºå¼€ä¸å‡ºæ¥</td>\n",
              "      <td>to å°è´ºï¼Œæ—©ä¸Šç”µè„‘å¼€æœºå¼€ä¸å‡ºæ¥</td>\n",
              "      <td>xqyjztnm onfusvlz</td>\n",
              "      <td>GRP_30</td>\n",
              "    </tr>\n",
              "    <tr>\n",
              "      <th>8480</th>\n",
              "      <td>customer group enhanced field</td>\n",
              "      <td>\\r\\n\\r\\nreceived from: nlearzwi.ukdzstwi@gmail...</td>\n",
              "      <td>nlearzwi ukdzstwi</td>\n",
              "      <td>GRP_9</td>\n",
              "    </tr>\n",
              "    <tr>\n",
              "      <th>8498</th>\n",
              "      <td>machine nÃ£o estÃ¡ funcionando</td>\n",
              "      <td>i am unable to access the machine utilities to...</td>\n",
              "      <td>ufawcgob aowhxjky</td>\n",
              "      <td>GRP_62</td>\n",
              "    </tr>\n",
              "    <tr>\n",
              "      <th>8499</th>\n",
              "      <td>an mehreren pc`s lassen sich verschiedene prgr...</td>\n",
              "      <td>an mehreren pc`s lassen sich verschiedene prgr...</td>\n",
              "      <td>kqvbrspl jyzoklfx</td>\n",
              "      <td>GRP_49</td>\n",
              "    </tr>\n",
              "  </tbody>\n",
              "</table>\n",
              "<p>853 rows × 4 columns</p>\n",
              "</div>\n",
              "      <button class=\"colab-df-convert\" onclick=\"convertToInteractive('df-f4236b8f-a378-4c71-9d03-eadb5369f989')\"\n",
              "              title=\"Convert this dataframe to an interactive table.\"\n",
              "              style=\"display:none;\">\n",
              "        \n",
              "  <svg xmlns=\"http://www.w3.org/2000/svg\" height=\"24px\"viewBox=\"0 0 24 24\"\n",
              "       width=\"24px\">\n",
              "    <path d=\"M0 0h24v24H0V0z\" fill=\"none\"/>\n",
              "    <path d=\"M18.56 5.44l.94 2.06.94-2.06 2.06-.94-2.06-.94-.94-2.06-.94 2.06-2.06.94zm-11 1L8.5 8.5l.94-2.06 2.06-.94-2.06-.94L8.5 2.5l-.94 2.06-2.06.94zm10 10l.94 2.06.94-2.06 2.06-.94-2.06-.94-.94-2.06-.94 2.06-2.06.94z\"/><path d=\"M17.41 7.96l-1.37-1.37c-.4-.4-.92-.59-1.43-.59-.52 0-1.04.2-1.43.59L10.3 9.45l-7.72 7.72c-.78.78-.78 2.05 0 2.83L4 21.41c.39.39.9.59 1.41.59.51 0 1.02-.2 1.41-.59l7.78-7.78 2.81-2.81c.8-.78.8-2.07 0-2.86zM5.41 20L4 18.59l7.72-7.72 1.47 1.35L5.41 20z\"/>\n",
              "  </svg>\n",
              "      </button>\n",
              "      \n",
              "  <style>\n",
              "    .colab-df-container {\n",
              "      display:flex;\n",
              "      flex-wrap:wrap;\n",
              "      gap: 12px;\n",
              "    }\n",
              "\n",
              "    .colab-df-convert {\n",
              "      background-color: #E8F0FE;\n",
              "      border: none;\n",
              "      border-radius: 50%;\n",
              "      cursor: pointer;\n",
              "      display: none;\n",
              "      fill: #1967D2;\n",
              "      height: 32px;\n",
              "      padding: 0 0 0 0;\n",
              "      width: 32px;\n",
              "    }\n",
              "\n",
              "    .colab-df-convert:hover {\n",
              "      background-color: #E2EBFA;\n",
              "      box-shadow: 0px 1px 2px rgba(60, 64, 67, 0.3), 0px 1px 3px 1px rgba(60, 64, 67, 0.15);\n",
              "      fill: #174EA6;\n",
              "    }\n",
              "\n",
              "    [theme=dark] .colab-df-convert {\n",
              "      background-color: #3B4455;\n",
              "      fill: #D2E3FC;\n",
              "    }\n",
              "\n",
              "    [theme=dark] .colab-df-convert:hover {\n",
              "      background-color: #434B5C;\n",
              "      box-shadow: 0px 1px 3px 1px rgba(0, 0, 0, 0.15);\n",
              "      filter: drop-shadow(0px 1px 2px rgba(0, 0, 0, 0.3));\n",
              "      fill: #FFFFFF;\n",
              "    }\n",
              "  </style>\n",
              "\n",
              "      <script>\n",
              "        const buttonEl =\n",
              "          document.querySelector('#df-f4236b8f-a378-4c71-9d03-eadb5369f989 button.colab-df-convert');\n",
              "        buttonEl.style.display =\n",
              "          google.colab.kernel.accessAllowed ? 'block' : 'none';\n",
              "\n",
              "        async function convertToInteractive(key) {\n",
              "          const element = document.querySelector('#df-f4236b8f-a378-4c71-9d03-eadb5369f989');\n",
              "          const dataTable =\n",
              "            await google.colab.kernel.invokeFunction('convertToInteractive',\n",
              "                                                     [key], {});\n",
              "          if (!dataTable) return;\n",
              "\n",
              "          const docLinkHtml = 'Like what you see? Visit the ' +\n",
              "            '<a target=\"_blank\" href=https://colab.research.google.com/notebooks/data_table.ipynb>data table notebook</a>'\n",
              "            + ' to learn more about interactive tables.';\n",
              "          element.innerHTML = '';\n",
              "          dataTable['output_type'] = 'display_data';\n",
              "          await google.colab.output.renderOutput(dataTable, element);\n",
              "          const docLink = document.createElement('div');\n",
              "          docLink.innerHTML = docLinkHtml;\n",
              "          element.appendChild(docLink);\n",
              "        }\n",
              "      </script>\n",
              "    </div>\n",
              "  </div>\n",
              "  "
            ],
            "text/plain": [
              "                                      Short description  ... Assignment group\n",
              "99                             password expiry tomorrow  ...            GRP_0\n",
              "116                                       server issues  ...            GRP_0\n",
              "124                            mobile device activation  ...            GRP_0\n",
              "162                                       access to bex  ...            GRP_0\n",
              "164          æ’¤å›ž: ticket_no1564867 -- comments added  ...            GRP_0\n",
              "...                                                 ...  ...              ...\n",
              "8470  please review your recent ticketing_tool ticke...  ...           GRP_16\n",
              "8471                           ç”µè„‘å¼€æœºå¼€ä¸å‡ºæ¥  ...           GRP_30\n",
              "8480                      customer group enhanced field  ...            GRP_9\n",
              "8498                     machine nÃ£o estÃ¡ funcionando  ...           GRP_62\n",
              "8499  an mehreren pc`s lassen sich verschiedene prgr...  ...           GRP_49\n",
              "\n",
              "[853 rows x 4 columns]"
            ]
          },
          "metadata": {},
          "execution_count": 38
        }
      ]
    },
    {
      "cell_type": "code",
      "source": [
        "# Take an example of row# 8471 Short Desc and fix it\n",
        "print('Grabled text: ', ticket_df_garbled['Short description'][8471])\n",
        "print('Fixed text: ', fix_text(ticket_df_garbled['Short description'][8471]))"
      ],
      "metadata": {
        "colab": {
          "base_uri": "https://localhost:8080/"
        },
        "id": "2fkbOBunZ16A",
        "outputId": "19b1be3c-8a76-4a4c-e370-dcc69e806032"
      },
      "execution_count": 39,
      "outputs": [
        {
          "output_type": "stream",
          "name": "stdout",
          "text": [
            "Grabled text:  ç”µè„‘å¼€æœºå¼€ä¸å‡ºæ¥\n",
            "Fixed text:  电脑开机开不出来\n"
          ]
        }
      ]
    },
    {
      "cell_type": "code",
      "source": [
        "ticket_df_garbled['Description'] = ticket_df_garbled['Description'].apply(fix_text)\n",
        "ticket_df_garbled['Short description'] = ticket_df_garbled['Short description'].apply(fix_text)"
      ],
      "metadata": {
        "id": "d4YmQzpLbilJ"
      },
      "execution_count": 40,
      "outputs": []
    },
    {
      "cell_type": "markdown",
      "source": [
        ""
      ],
      "metadata": {
        "id": "Q0nhB7SlN6hE"
      }
    },
    {
      "cell_type": "markdown",
      "source": [
        "# **Identify the Languages**"
      ],
      "metadata": {
        "id": "PW5pPQy-diIk"
      }
    },
    {
      "cell_type": "code",
      "source": [
        "!pip install langdetect"
      ],
      "metadata": {
        "colab": {
          "base_uri": "https://localhost:8080/"
        },
        "id": "Guz3C47kHaBK",
        "outputId": "f6598b15-6fbb-45bf-d444-b9d763a76ae7"
      },
      "execution_count": 41,
      "outputs": [
        {
          "output_type": "stream",
          "name": "stdout",
          "text": [
            "Collecting langdetect\n",
            "  Downloading langdetect-1.0.9.tar.gz (981 kB)\n",
            "\u001b[?25l\r\u001b[K     |▍                               | 10 kB 17.0 MB/s eta 0:00:01\r\u001b[K     |▊                               | 20 kB 12.1 MB/s eta 0:00:01\r\u001b[K     |█                               | 30 kB 9.3 MB/s eta 0:00:01\r\u001b[K     |█▍                              | 40 kB 8.2 MB/s eta 0:00:01\r\u001b[K     |█▊                              | 51 kB 5.6 MB/s eta 0:00:01\r\u001b[K     |██                              | 61 kB 5.8 MB/s eta 0:00:01\r\u001b[K     |██▍                             | 71 kB 5.5 MB/s eta 0:00:01\r\u001b[K     |██▊                             | 81 kB 6.1 MB/s eta 0:00:01\r\u001b[K     |███                             | 92 kB 6.2 MB/s eta 0:00:01\r\u001b[K     |███▍                            | 102 kB 5.4 MB/s eta 0:00:01\r\u001b[K     |███▊                            | 112 kB 5.4 MB/s eta 0:00:01\r\u001b[K     |████                            | 122 kB 5.4 MB/s eta 0:00:01\r\u001b[K     |████▍                           | 133 kB 5.4 MB/s eta 0:00:01\r\u001b[K     |████▊                           | 143 kB 5.4 MB/s eta 0:00:01\r\u001b[K     |█████                           | 153 kB 5.4 MB/s eta 0:00:01\r\u001b[K     |█████▍                          | 163 kB 5.4 MB/s eta 0:00:01\r\u001b[K     |█████▊                          | 174 kB 5.4 MB/s eta 0:00:01\r\u001b[K     |██████                          | 184 kB 5.4 MB/s eta 0:00:01\r\u001b[K     |██████▍                         | 194 kB 5.4 MB/s eta 0:00:01\r\u001b[K     |██████▊                         | 204 kB 5.4 MB/s eta 0:00:01\r\u001b[K     |███████                         | 215 kB 5.4 MB/s eta 0:00:01\r\u001b[K     |███████▍                        | 225 kB 5.4 MB/s eta 0:00:01\r\u001b[K     |███████▊                        | 235 kB 5.4 MB/s eta 0:00:01\r\u001b[K     |████████                        | 245 kB 5.4 MB/s eta 0:00:01\r\u001b[K     |████████▍                       | 256 kB 5.4 MB/s eta 0:00:01\r\u001b[K     |████████▊                       | 266 kB 5.4 MB/s eta 0:00:01\r\u001b[K     |█████████                       | 276 kB 5.4 MB/s eta 0:00:01\r\u001b[K     |█████████▍                      | 286 kB 5.4 MB/s eta 0:00:01\r\u001b[K     |█████████▊                      | 296 kB 5.4 MB/s eta 0:00:01\r\u001b[K     |██████████                      | 307 kB 5.4 MB/s eta 0:00:01\r\u001b[K     |██████████▍                     | 317 kB 5.4 MB/s eta 0:00:01\r\u001b[K     |██████████▊                     | 327 kB 5.4 MB/s eta 0:00:01\r\u001b[K     |███████████                     | 337 kB 5.4 MB/s eta 0:00:01\r\u001b[K     |███████████▍                    | 348 kB 5.4 MB/s eta 0:00:01\r\u001b[K     |███████████▊                    | 358 kB 5.4 MB/s eta 0:00:01\r\u001b[K     |████████████                    | 368 kB 5.4 MB/s eta 0:00:01\r\u001b[K     |████████████▍                   | 378 kB 5.4 MB/s eta 0:00:01\r\u001b[K     |████████████▊                   | 389 kB 5.4 MB/s eta 0:00:01\r\u001b[K     |█████████████                   | 399 kB 5.4 MB/s eta 0:00:01\r\u001b[K     |█████████████▍                  | 409 kB 5.4 MB/s eta 0:00:01\r\u001b[K     |█████████████▊                  | 419 kB 5.4 MB/s eta 0:00:01\r\u001b[K     |██████████████                  | 430 kB 5.4 MB/s eta 0:00:01\r\u001b[K     |██████████████▍                 | 440 kB 5.4 MB/s eta 0:00:01\r\u001b[K     |██████████████▊                 | 450 kB 5.4 MB/s eta 0:00:01\r\u001b[K     |███████████████                 | 460 kB 5.4 MB/s eta 0:00:01\r\u001b[K     |███████████████▍                | 471 kB 5.4 MB/s eta 0:00:01\r\u001b[K     |███████████████▊                | 481 kB 5.4 MB/s eta 0:00:01\r\u001b[K     |████████████████                | 491 kB 5.4 MB/s eta 0:00:01\r\u001b[K     |████████████████▍               | 501 kB 5.4 MB/s eta 0:00:01\r\u001b[K     |████████████████▊               | 512 kB 5.4 MB/s eta 0:00:01\r\u001b[K     |█████████████████               | 522 kB 5.4 MB/s eta 0:00:01\r\u001b[K     |█████████████████▍              | 532 kB 5.4 MB/s eta 0:00:01\r\u001b[K     |█████████████████▊              | 542 kB 5.4 MB/s eta 0:00:01\r\u001b[K     |██████████████████              | 552 kB 5.4 MB/s eta 0:00:01\r\u001b[K     |██████████████████▍             | 563 kB 5.4 MB/s eta 0:00:01\r\u001b[K     |██████████████████▊             | 573 kB 5.4 MB/s eta 0:00:01\r\u001b[K     |███████████████████             | 583 kB 5.4 MB/s eta 0:00:01\r\u001b[K     |███████████████████▍            | 593 kB 5.4 MB/s eta 0:00:01\r\u001b[K     |███████████████████▊            | 604 kB 5.4 MB/s eta 0:00:01\r\u001b[K     |████████████████████            | 614 kB 5.4 MB/s eta 0:00:01\r\u001b[K     |████████████████████▍           | 624 kB 5.4 MB/s eta 0:00:01\r\u001b[K     |████████████████████▊           | 634 kB 5.4 MB/s eta 0:00:01\r\u001b[K     |█████████████████████           | 645 kB 5.4 MB/s eta 0:00:01\r\u001b[K     |█████████████████████▍          | 655 kB 5.4 MB/s eta 0:00:01\r\u001b[K     |█████████████████████▊          | 665 kB 5.4 MB/s eta 0:00:01\r\u001b[K     |██████████████████████          | 675 kB 5.4 MB/s eta 0:00:01\r\u001b[K     |██████████████████████▍         | 686 kB 5.4 MB/s eta 0:00:01\r\u001b[K     |██████████████████████▊         | 696 kB 5.4 MB/s eta 0:00:01\r\u001b[K     |███████████████████████         | 706 kB 5.4 MB/s eta 0:00:01\r\u001b[K     |███████████████████████▍        | 716 kB 5.4 MB/s eta 0:00:01\r\u001b[K     |███████████████████████▊        | 727 kB 5.4 MB/s eta 0:00:01\r\u001b[K     |████████████████████████        | 737 kB 5.4 MB/s eta 0:00:01\r\u001b[K     |████████████████████████▍       | 747 kB 5.4 MB/s eta 0:00:01\r\u001b[K     |████████████████████████▊       | 757 kB 5.4 MB/s eta 0:00:01\r\u001b[K     |█████████████████████████       | 768 kB 5.4 MB/s eta 0:00:01\r\u001b[K     |█████████████████████████▍      | 778 kB 5.4 MB/s eta 0:00:01\r\u001b[K     |█████████████████████████▊      | 788 kB 5.4 MB/s eta 0:00:01\r\u001b[K     |██████████████████████████      | 798 kB 5.4 MB/s eta 0:00:01\r\u001b[K     |██████████████████████████▍     | 808 kB 5.4 MB/s eta 0:00:01\r\u001b[K     |██████████████████████████▊     | 819 kB 5.4 MB/s eta 0:00:01\r\u001b[K     |███████████████████████████     | 829 kB 5.4 MB/s eta 0:00:01\r\u001b[K     |███████████████████████████▍    | 839 kB 5.4 MB/s eta 0:00:01\r\u001b[K     |███████████████████████████▊    | 849 kB 5.4 MB/s eta 0:00:01\r\u001b[K     |████████████████████████████    | 860 kB 5.4 MB/s eta 0:00:01\r\u001b[K     |████████████████████████████▍   | 870 kB 5.4 MB/s eta 0:00:01\r\u001b[K     |████████████████████████████▊   | 880 kB 5.4 MB/s eta 0:00:01\r\u001b[K     |█████████████████████████████   | 890 kB 5.4 MB/s eta 0:00:01\r\u001b[K     |█████████████████████████████▍  | 901 kB 5.4 MB/s eta 0:00:01\r\u001b[K     |█████████████████████████████▊  | 911 kB 5.4 MB/s eta 0:00:01\r\u001b[K     |██████████████████████████████  | 921 kB 5.4 MB/s eta 0:00:01\r\u001b[K     |██████████████████████████████▍ | 931 kB 5.4 MB/s eta 0:00:01\r\u001b[K     |██████████████████████████████▊ | 942 kB 5.4 MB/s eta 0:00:01\r\u001b[K     |███████████████████████████████ | 952 kB 5.4 MB/s eta 0:00:01\r\u001b[K     |███████████████████████████████▍| 962 kB 5.4 MB/s eta 0:00:01\r\u001b[K     |███████████████████████████████▊| 972 kB 5.4 MB/s eta 0:00:01\r\u001b[K     |████████████████████████████████| 981 kB 5.4 MB/s \n",
            "\u001b[?25hRequirement already satisfied: six in /usr/local/lib/python3.7/dist-packages (from langdetect) (1.15.0)\n",
            "Building wheels for collected packages: langdetect\n",
            "  Building wheel for langdetect (setup.py) ... \u001b[?25l\u001b[?25hdone\n",
            "  Created wheel for langdetect: filename=langdetect-1.0.9-py3-none-any.whl size=993242 sha256=2addbf7e0797f59b05d335b1c72a3a1cf9fa5f7ec0083899a663a22d564ae2fd\n",
            "  Stored in directory: /root/.cache/pip/wheels/c5/96/8a/f90c59ed25d75e50a8c10a1b1c2d4c402e4dacfa87f3aff36a\n",
            "Successfully built langdetect\n",
            "Installing collected packages: langdetect\n",
            "Successfully installed langdetect-1.0.9\n"
          ]
        }
      ]
    },
    {
      "cell_type": "code",
      "source": [
        "from langdetect import detect\n",
        "from langdetect import DetectorFactory\n",
        "DetectorFactory.seed = 0\n",
        "\n",
        "def detectLang(value):\n",
        "    try:\n",
        "        return detect(value)\n",
        "    except (Exception):\n",
        "        return \"NotDetected\""
      ],
      "metadata": {
        "id": "u1uzKRUWHPML"
      },
      "execution_count": 42,
      "outputs": []
    },
    {
      "cell_type": "code",
      "source": [
        "ticket_df_garbled['lang'] = ticket_df_garbled['Description'].apply(lambda v: detectLang(v))\n",
        "ticket_df_garbled['lang'].unique()"
      ],
      "metadata": {
        "colab": {
          "base_uri": "https://localhost:8080/"
        },
        "id": "kj2pRcheHg2x",
        "outputId": "2a0bd7f2-bd7c-4c38-f72b-e392c3307458"
      },
      "execution_count": 43,
      "outputs": [
        {
          "output_type": "execute_result",
          "data": {
            "text/plain": [
              "array(['en', 'no', 'fr', 'it', 'es', 'af', 'ca', 'sv', 'nl', 'fi', 'de',\n",
              "       'sl', 'cy', 'id', 'et', 'pt', 'zh-cn', 'pl', 'da', 'ko', 'ro',\n",
              "       'tl', 'hr', 'sq', 'sw', 'so', 'sk', 'tr', 'vi', 'lt',\n",
              "       'NotDetected', 'cs', 'lv'], dtype=object)"
            ]
          },
          "metadata": {},
          "execution_count": 43
        }
      ]
    },
    {
      "cell_type": "code",
      "source": [
        "plt.subplots(figsize = (15,5))\n",
        "sns.countplot(x='lang', data=ticket_df_garbled,order = ticket_df_garbled['lang'].value_counts().index)\n",
        "plt.xlabel('Languages') \n",
        "plt.ylabel('Count') \n",
        "plt.xticks(rotation=90)\n",
        "plt.title('Tickets Distribution by languge')\n",
        "plt.show()"
      ],
      "metadata": {
        "colab": {
          "base_uri": "https://localhost:8080/",
          "height": 403
        },
        "id": "hYPZNK1td9Yn",
        "outputId": "b71064c8-8876-4f64-aac3-c4fa575a81af"
      },
      "execution_count": 44,
      "outputs": [
        {
          "output_type": "display_data",
          "data": {
            "image/png": "[encoded data removed]",
            "text/plain": [
              "<Figure size 1080x360 with 1 Axes>"
            ]
          },
          "metadata": {
            "needs_background": "light"
          }
        }
      ]
    },
    {
      "cell_type": "markdown",
      "source": [
        "Since we are dealing with data with multiple languages, we need to perform the language translation"
      ],
      "metadata": {
        "id": "NJFhBClHeW-U"
      }
    },
    {
      "cell_type": "code",
      "source": [
        "plt.figure(figsize=(10, 10))\n",
        "ax = ticket_df_garbled['lang'].value_counts().plot(kind='pie')\n",
        "ax.set_title(\"Distribution of Tickets By Languages\")\n",
        "plt.plot()"
      ],
      "metadata": {
        "colab": {
          "base_uri": "https://localhost:8080/",
          "height": 608
        },
        "id": "z38rLFiYdnKa",
        "outputId": "37515c67-aa0b-445e-de3a-4d545361ae3a"
      },
      "execution_count": 45,
      "outputs": [
        {
          "output_type": "execute_result",
          "data": {
            "text/plain": [
              "[]"
            ]
          },
          "metadata": {},
          "execution_count": 45
        },
        {
          "output_type": "display_data",
          "data": {
            "image/png": "[encoded data removed]",
            "text/plain": [
              "<Figure size 720x720 with 1 Axes>"
            ]
          },
          "metadata": {}
        }
      ]
    },
    {
      "cell_type": "markdown",
      "source": [
        "# **Translation**"
      ],
      "metadata": {
        "id": "Z90qZ1jZGKCZ"
      }
    },
    {
      "cell_type": "markdown",
      "source": [
        "**Approach 1**"
      ],
      "metadata": {
        "id": "xFPl-O9rGovo"
      }
    },
    {
      "cell_type": "code",
      "source": [
        "ticket_df_trans = ticket_df_garbled.copy()"
      ],
      "metadata": {
        "id": "dlsjBD5dGS0g"
      },
      "execution_count": 46,
      "outputs": []
    },
    {
      "cell_type": "code",
      "source": [
        "!pip install fasttext"
      ],
      "metadata": {
        "colab": {
          "base_uri": "https://localhost:8080/"
        },
        "id": "9OYK2ygVJjdc",
        "outputId": "0464a090-6423-4ec6-b0e8-180aa04da41b"
      },
      "execution_count": 47,
      "outputs": [
        {
          "output_type": "stream",
          "name": "stdout",
          "text": [
            "Collecting fasttext\n",
            "  Downloading fasttext-0.9.2.tar.gz (68 kB)\n",
            "\u001b[?25l\r\u001b[K     |████▊                           | 10 kB 16.2 MB/s eta 0:00:01\r\u001b[K     |█████████▌                      | 20 kB 13.3 MB/s eta 0:00:01\r\u001b[K     |██████████████▎                 | 30 kB 10.3 MB/s eta 0:00:01\r\u001b[K     |███████████████████             | 40 kB 8.9 MB/s eta 0:00:01\r\u001b[K     |███████████████████████▉        | 51 kB 5.4 MB/s eta 0:00:01\r\u001b[K     |████████████████████████████▋   | 61 kB 5.5 MB/s eta 0:00:01\r\u001b[K     |████████████████████████████████| 68 kB 3.3 MB/s \n",
            "\u001b[?25hCollecting pybind11>=2.2\n",
            "  Using cached pybind11-2.9.0-py2.py3-none-any.whl (210 kB)\n",
            "Requirement already satisfied: setuptools>=0.7.0 in /usr/local/lib/python3.7/dist-packages (from fasttext) (57.4.0)\n",
            "Requirement already satisfied: numpy in /usr/local/lib/python3.7/dist-packages (from fasttext) (1.19.5)\n",
            "Building wheels for collected packages: fasttext\n",
            "  Building wheel for fasttext (setup.py) ... \u001b[?25l\u001b[?25hdone\n",
            "  Created wheel for fasttext: filename=fasttext-0.9.2-cp37-cp37m-linux_x86_64.whl size=3126679 sha256=34c77a8c383ebc27ef6a3c152ce227cf6380da24ec90762952798f3e29302471\n",
            "  Stored in directory: /root/.cache/pip/wheels/4e/ca/bf/b020d2be95f7641801a6597a29c8f4f19e38f9c02a345bab9b\n",
            "Successfully built fasttext\n",
            "Installing collected packages: pybind11, fasttext\n",
            "Successfully installed fasttext-0.9.2 pybind11-2.9.0\n"
          ]
        }
      ]
    },
    {
      "cell_type": "code",
      "source": [
        "!wget -O /tmp/lid.176.bin https://dl.fbaipublicfiles.com/fasttext/supervised-models/lid.176.bin"
      ],
      "metadata": {
        "colab": {
          "base_uri": "https://localhost:8080/"
        },
        "id": "CrdLp3EvJf6P",
        "outputId": "5811ff56-a489-42ae-c7c1-062dd28cb0d2"
      },
      "execution_count": 48,
      "outputs": [
        {
          "output_type": "stream",
          "name": "stdout",
          "text": [
            "--2022-01-28 12:57:52--  https://dl.fbaipublicfiles.com/fasttext/supervised-models/lid.176.bin\n",
            "Resolving dl.fbaipublicfiles.com (dl.fbaipublicfiles.com)... 172.67.9.4, 104.22.74.142, 104.22.75.142, ...\n",
            "Connecting to dl.fbaipublicfiles.com (dl.fbaipublicfiles.com)|172.67.9.4|:443... connected.\n",
            "HTTP request sent, awaiting response... 200 OK\n",
            "Length: 131266198 (125M) [application/octet-stream]\n",
            "Saving to: ‘/tmp/lid.176.bin’\n",
            "\n",
            "/tmp/lid.176.bin    100%[===================>] 125.18M  49.6MB/s    in 2.5s    \n",
            "\n",
            "2022-01-28 12:57:55 (49.6 MB/s) - ‘/tmp/lid.176.bin’ saved [131266198/131266198]\n",
            "\n"
          ]
        }
      ]
    },
    {
      "cell_type": "code",
      "source": [
        "import re\n",
        "#This library require the statement in one line, so converting data into single line \n",
        "def remove_newline(text):\n",
        "  text = re.sub(r'\\n',' ',text)\n",
        "  return text\n",
        "ticket_df_trans['Description'] = ticket_df_trans['Description'].apply(remove_newline)"
      ],
      "metadata": {
        "id": "8PRDuQ1bIdmq"
      },
      "execution_count": 49,
      "outputs": []
    },
    {
      "cell_type": "code",
      "source": [
        "#Ref :: https://amitness.com/2019/07/identify-text-language-python/\n",
        "\n",
        "import fasttext\n",
        "\n",
        "# pretrained model from :: https://dl.fbaipublicfiles.com/fasttext/supervised-models/lid.176.bin\n",
        "PRETRAINED_MODEL_PATH = '/tmp/lid.176.bin'\n",
        "lang_detect_model = fasttext.load_model(PRETRAINED_MODEL_PATH)\n",
        "\n",
        "def predict_lang(sentence):\n",
        "    detected_lang = lang_detect_model.predict(sentence)[0]\n",
        "    detected_lang = detected_lang[0].replace('__label__', '')\n",
        "    return detected_lang;\n",
        "\n",
        "ticket_df_trans['lang_predict'] = ticket_df_trans['Description'].apply(lambda v: predict_lang(v))\n",
        "ticket_df_trans.head()"
      ],
      "metadata": {
        "colab": {
          "base_uri": "https://localhost:8080/",
          "height": 224
        },
        "id": "cauEtG9IJbVA",
        "outputId": "46302b6d-7318-41c3-fb34-e3033dd97eb6"
      },
      "execution_count": 50,
      "outputs": [
        {
          "output_type": "stream",
          "name": "stderr",
          "text": [
            "Warning : `load_model` does not return WordVectorModel or SupervisedModel any more, but a `FastText` object which is very similar.\n"
          ]
        },
        {
          "output_type": "execute_result",
          "data": {
            "text/html": [
              "\n",
              "  <div id=\"df-ac9ca8ca-fe08-4a8e-b663-0e0b5480af92\">\n",
              "    <div class=\"colab-df-container\">\n",
              "      <div>\n",
              "<style scoped>\n",
              "    .dataframe tbody tr th:only-of-type {\n",
              "        vertical-align: middle;\n",
              "    }\n",
              "\n",
              "    .dataframe tbody tr th {\n",
              "        vertical-align: top;\n",
              "    }\n",
              "\n",
              "    .dataframe thead th {\n",
              "        text-align: right;\n",
              "    }\n",
              "</style>\n",
              "<table border=\"1\" class=\"dataframe\">\n",
              "  <thead>\n",
              "    <tr style=\"text-align: right;\">\n",
              "      <th></th>\n",
              "      <th>Short description</th>\n",
              "      <th>Description</th>\n",
              "      <th>Caller</th>\n",
              "      <th>Assignment group</th>\n",
              "      <th>lang</th>\n",
              "      <th>lang_predict</th>\n",
              "    </tr>\n",
              "  </thead>\n",
              "  <tbody>\n",
              "    <tr>\n",
              "      <th>0</th>\n",
              "      <td>login issue</td>\n",
              "      <td>-verified user details.(employee# &amp; manager na...</td>\n",
              "      <td>spxjnwir pjlcoqds</td>\n",
              "      <td>GRP_0</td>\n",
              "      <td>en</td>\n",
              "      <td>en</td>\n",
              "    </tr>\n",
              "    <tr>\n",
              "      <th>1</th>\n",
              "      <td>outlook</td>\n",
              "      <td>received from: hmjdrvpb.komuaywn@gmail.com  ...</td>\n",
              "      <td>hmjdrvpb komuaywn</td>\n",
              "      <td>GRP_0</td>\n",
              "      <td>en</td>\n",
              "      <td>en</td>\n",
              "    </tr>\n",
              "    <tr>\n",
              "      <th>2</th>\n",
              "      <td>cant log in to vpn</td>\n",
              "      <td>received from: eylqgodm.ybqkwiam@gmail.com  ...</td>\n",
              "      <td>eylqgodm ybqkwiam</td>\n",
              "      <td>GRP_0</td>\n",
              "      <td>en</td>\n",
              "      <td>en</td>\n",
              "    </tr>\n",
              "    <tr>\n",
              "      <th>3</th>\n",
              "      <td>unable to access hr_tool page</td>\n",
              "      <td>unable to access hr_tool page</td>\n",
              "      <td>xbkucsvz gcpydteq</td>\n",
              "      <td>GRP_0</td>\n",
              "      <td>en</td>\n",
              "      <td>en</td>\n",
              "    </tr>\n",
              "    <tr>\n",
              "      <th>4</th>\n",
              "      <td>skype error</td>\n",
              "      <td>skype error</td>\n",
              "      <td>owlgqjme qhcozdfx</td>\n",
              "      <td>GRP_0</td>\n",
              "      <td>no</td>\n",
              "      <td>ja</td>\n",
              "    </tr>\n",
              "  </tbody>\n",
              "</table>\n",
              "</div>\n",
              "      <button class=\"colab-df-convert\" onclick=\"convertToInteractive('df-ac9ca8ca-fe08-4a8e-b663-0e0b5480af92')\"\n",
              "              title=\"Convert this dataframe to an interactive table.\"\n",
              "              style=\"display:none;\">\n",
              "        \n",
              "  <svg xmlns=\"http://www.w3.org/2000/svg\" height=\"24px\"viewBox=\"0 0 24 24\"\n",
              "       width=\"24px\">\n",
              "    <path d=\"M0 0h24v24H0V0z\" fill=\"none\"/>\n",
              "    <path d=\"M18.56 5.44l.94 2.06.94-2.06 2.06-.94-2.06-.94-.94-2.06-.94 2.06-2.06.94zm-11 1L8.5 8.5l.94-2.06 2.06-.94-2.06-.94L8.5 2.5l-.94 2.06-2.06.94zm10 10l.94 2.06.94-2.06 2.06-.94-2.06-.94-.94-2.06-.94 2.06-2.06.94z\"/><path d=\"M17.41 7.96l-1.37-1.37c-.4-.4-.92-.59-1.43-.59-.52 0-1.04.2-1.43.59L10.3 9.45l-7.72 7.72c-.78.78-.78 2.05 0 2.83L4 21.41c.39.39.9.59 1.41.59.51 0 1.02-.2 1.41-.59l7.78-7.78 2.81-2.81c.8-.78.8-2.07 0-2.86zM5.41 20L4 18.59l7.72-7.72 1.47 1.35L5.41 20z\"/>\n",
              "  </svg>\n",
              "      </button>\n",
              "      \n",
              "  <style>\n",
              "    .colab-df-container {\n",
              "      display:flex;\n",
              "      flex-wrap:wrap;\n",
              "      gap: 12px;\n",
              "    }\n",
              "\n",
              "    .colab-df-convert {\n",
              "      background-color: #E8F0FE;\n",
              "      border: none;\n",
              "      border-radius: 50%;\n",
              "      cursor: pointer;\n",
              "      display: none;\n",
              "      fill: #1967D2;\n",
              "      height: 32px;\n",
              "      padding: 0 0 0 0;\n",
              "      width: 32px;\n",
              "    }\n",
              "\n",
              "    .colab-df-convert:hover {\n",
              "      background-color: #E2EBFA;\n",
              "      box-shadow: 0px 1px 2px rgba(60, 64, 67, 0.3), 0px 1px 3px 1px rgba(60, 64, 67, 0.15);\n",
              "      fill: #174EA6;\n",
              "    }\n",
              "\n",
              "    [theme=dark] .colab-df-convert {\n",
              "      background-color: #3B4455;\n",
              "      fill: #D2E3FC;\n",
              "    }\n",
              "\n",
              "    [theme=dark] .colab-df-convert:hover {\n",
              "      background-color: #434B5C;\n",
              "      box-shadow: 0px 1px 3px 1px rgba(0, 0, 0, 0.15);\n",
              "      filter: drop-shadow(0px 1px 2px rgba(0, 0, 0, 0.3));\n",
              "      fill: #FFFFFF;\n",
              "    }\n",
              "  </style>\n",
              "\n",
              "      <script>\n",
              "        const buttonEl =\n",
              "          document.querySelector('#df-ac9ca8ca-fe08-4a8e-b663-0e0b5480af92 button.colab-df-convert');\n",
              "        buttonEl.style.display =\n",
              "          google.colab.kernel.accessAllowed ? 'block' : 'none';\n",
              "\n",
              "        async function convertToInteractive(key) {\n",
              "          const element = document.querySelector('#df-ac9ca8ca-fe08-4a8e-b663-0e0b5480af92');\n",
              "          const dataTable =\n",
              "            await google.colab.kernel.invokeFunction('convertToInteractive',\n",
              "                                                     [key], {});\n",
              "          if (!dataTable) return;\n",
              "\n",
              "          const docLinkHtml = 'Like what you see? Visit the ' +\n",
              "            '<a target=\"_blank\" href=https://colab.research.google.com/notebooks/data_table.ipynb>data table notebook</a>'\n",
              "            + ' to learn more about interactive tables.';\n",
              "          element.innerHTML = '';\n",
              "          dataTable['output_type'] = 'display_data';\n",
              "          await google.colab.output.renderOutput(dataTable, element);\n",
              "          const docLink = document.createElement('div');\n",
              "          docLink.innerHTML = docLinkHtml;\n",
              "          element.appendChild(docLink);\n",
              "        }\n",
              "      </script>\n",
              "    </div>\n",
              "  </div>\n",
              "  "
            ],
            "text/plain": [
              "               Short description  ... lang_predict\n",
              "0                    login issue  ...           en\n",
              "1                        outlook  ...           en\n",
              "2             cant log in to vpn  ...           en\n",
              "3  unable to access hr_tool page  ...           en\n",
              "4                   skype error   ...           ja\n",
              "\n",
              "[5 rows x 6 columns]"
            ]
          },
          "metadata": {},
          "execution_count": 50
        }
      ]
    },
    {
      "cell_type": "code",
      "source": [
        "ticket_df_trans['lang_predict'].unique()"
      ],
      "metadata": {
        "colab": {
          "base_uri": "https://localhost:8080/"
        },
        "id": "jubdY7C2dZoa",
        "outputId": "ecc08986-9726-4e97-cd2e-036ef5b27fa5"
      },
      "execution_count": 51,
      "outputs": [
        {
          "output_type": "execute_result",
          "data": {
            "text/plain": [
              "array(['en', 'ja', 'eo', 'ko', 'zh', 'uk', 'de', 'es', 'fi', 'pt', 'hu',\n",
              "       'fr', 'hr', 'nl', 'lb', 'it', 'pl', 'tr', 'id', 'sv', 'da', 'tt',\n",
              "       'yue', 'war', 'sl', 'si', 'ru', 'kn'], dtype=object)"
            ]
          },
          "metadata": {},
          "execution_count": 51
        }
      ]
    },
    {
      "cell_type": "code",
      "source": [
        "ticket_df_trans[ticket_df_trans['lang'] != 'en']"
      ],
      "metadata": {
        "colab": {
          "base_uri": "https://localhost:8080/",
          "height": 424
        },
        "id": "UC1_qvfrJ1dx",
        "outputId": "eafdc821-41df-4156-cf74-25f9def53402"
      },
      "execution_count": 52,
      "outputs": [
        {
          "output_type": "execute_result",
          "data": {
            "text/html": [
              "\n",
              "  <div id=\"df-24610a50-8526-4e0a-acdd-9babebb8469e\">\n",
              "    <div class=\"colab-df-container\">\n",
              "      <div>\n",
              "<style scoped>\n",
              "    .dataframe tbody tr th:only-of-type {\n",
              "        vertical-align: middle;\n",
              "    }\n",
              "\n",
              "    .dataframe tbody tr th {\n",
              "        vertical-align: top;\n",
              "    }\n",
              "\n",
              "    .dataframe thead th {\n",
              "        text-align: right;\n",
              "    }\n",
              "</style>\n",
              "<table border=\"1\" class=\"dataframe\">\n",
              "  <thead>\n",
              "    <tr style=\"text-align: right;\">\n",
              "      <th></th>\n",
              "      <th>Short description</th>\n",
              "      <th>Description</th>\n",
              "      <th>Caller</th>\n",
              "      <th>Assignment group</th>\n",
              "      <th>lang</th>\n",
              "      <th>lang_predict</th>\n",
              "    </tr>\n",
              "  </thead>\n",
              "  <tbody>\n",
              "    <tr>\n",
              "      <th>4</th>\n",
              "      <td>skype error</td>\n",
              "      <td>skype error</td>\n",
              "      <td>owlgqjme qhcozdfx</td>\n",
              "      <td>GRP_0</td>\n",
              "      <td>no</td>\n",
              "      <td>ja</td>\n",
              "    </tr>\n",
              "    <tr>\n",
              "      <th>14</th>\n",
              "      <td>unable to open payslips</td>\n",
              "      <td>unable to open payslips</td>\n",
              "      <td>epwyvjsz najukwho</td>\n",
              "      <td>GRP_0</td>\n",
              "      <td>fr</td>\n",
              "      <td>en</td>\n",
              "    </tr>\n",
              "    <tr>\n",
              "      <th>19</th>\n",
              "      <td>unable to sign into vpn</td>\n",
              "      <td>unable to sign into vpn</td>\n",
              "      <td>ftsqkvre bqzrupic</td>\n",
              "      <td>GRP_0</td>\n",
              "      <td>it</td>\n",
              "      <td>en</td>\n",
              "    </tr>\n",
              "    <tr>\n",
              "      <th>20</th>\n",
              "      <td>unable to check payslips</td>\n",
              "      <td>unable to check payslips</td>\n",
              "      <td>mrzgjdal whnldmef</td>\n",
              "      <td>GRP_0</td>\n",
              "      <td>fr</td>\n",
              "      <td>en</td>\n",
              "    </tr>\n",
              "    <tr>\n",
              "      <th>22</th>\n",
              "      <td>unable to connect to vpn</td>\n",
              "      <td>unable to connect to vpn</td>\n",
              "      <td>pfmcnahv ofzlusri</td>\n",
              "      <td>GRP_0</td>\n",
              "      <td>es</td>\n",
              "      <td>en</td>\n",
              "    </tr>\n",
              "    <tr>\n",
              "      <th>...</th>\n",
              "      <td>...</td>\n",
              "      <td>...</td>\n",
              "      <td>...</td>\n",
              "      <td>...</td>\n",
              "      <td>...</td>\n",
              "      <td>...</td>\n",
              "    </tr>\n",
              "    <tr>\n",
              "      <th>8465</th>\n",
              "      <td>vpn 连接不上</td>\n",
              "      <td>vpn连不上,请转给 贺正平 atcbvglq.bdvmuszt@gmail.com</td>\n",
              "      <td>fcvqezmn frzyjknu</td>\n",
              "      <td>GRP_30</td>\n",
              "      <td>ko</td>\n",
              "      <td>hu</td>\n",
              "    </tr>\n",
              "    <tr>\n",
              "      <th>8471</th>\n",
              "      <td>电脑开机开不出来</td>\n",
              "      <td>to 小贺,早上电脑开机开不出来</td>\n",
              "      <td>xqyjztnm onfusvlz</td>\n",
              "      <td>GRP_30</td>\n",
              "      <td>zh-cn</td>\n",
              "      <td>zh</td>\n",
              "    </tr>\n",
              "    <tr>\n",
              "      <th>8475</th>\n",
              "      <td>etime- time card update information.</td>\n",
              "      <td>etime- time card update information.</td>\n",
              "      <td>tmopbken ibzougsd</td>\n",
              "      <td>GRP_0</td>\n",
              "      <td>it</td>\n",
              "      <td>en</td>\n",
              "    </tr>\n",
              "    <tr>\n",
              "      <th>8486</th>\n",
              "      <td>ticket update on ticket_no0427635</td>\n",
              "      <td>ticket update on ticket_no0427635</td>\n",
              "      <td>fumkcsji sarmtlhy</td>\n",
              "      <td>GRP_0</td>\n",
              "      <td>sv</td>\n",
              "      <td>en</td>\n",
              "    </tr>\n",
              "    <tr>\n",
              "      <th>8499</th>\n",
              "      <td>an mehreren pc`s lassen sich verschiedene prgr...</td>\n",
              "      <td>an mehreren pc`s lassen sich verschiedene prgr...</td>\n",
              "      <td>kqvbrspl jyzoklfx</td>\n",
              "      <td>GRP_49</td>\n",
              "      <td>de</td>\n",
              "      <td>de</td>\n",
              "    </tr>\n",
              "  </tbody>\n",
              "</table>\n",
              "<p>1482 rows × 6 columns</p>\n",
              "</div>\n",
              "      <button class=\"colab-df-convert\" onclick=\"convertToInteractive('df-24610a50-8526-4e0a-acdd-9babebb8469e')\"\n",
              "              title=\"Convert this dataframe to an interactive table.\"\n",
              "              style=\"display:none;\">\n",
              "        \n",
              "  <svg xmlns=\"http://www.w3.org/2000/svg\" height=\"24px\"viewBox=\"0 0 24 24\"\n",
              "       width=\"24px\">\n",
              "    <path d=\"M0 0h24v24H0V0z\" fill=\"none\"/>\n",
              "    <path d=\"M18.56 5.44l.94 2.06.94-2.06 2.06-.94-2.06-.94-.94-2.06-.94 2.06-2.06.94zm-11 1L8.5 8.5l.94-2.06 2.06-.94-2.06-.94L8.5 2.5l-.94 2.06-2.06.94zm10 10l.94 2.06.94-2.06 2.06-.94-2.06-.94-.94-2.06-.94 2.06-2.06.94z\"/><path d=\"M17.41 7.96l-1.37-1.37c-.4-.4-.92-.59-1.43-.59-.52 0-1.04.2-1.43.59L10.3 9.45l-7.72 7.72c-.78.78-.78 2.05 0 2.83L4 21.41c.39.39.9.59 1.41.59.51 0 1.02-.2 1.41-.59l7.78-7.78 2.81-2.81c.8-.78.8-2.07 0-2.86zM5.41 20L4 18.59l7.72-7.72 1.47 1.35L5.41 20z\"/>\n",
              "  </svg>\n",
              "      </button>\n",
              "      \n",
              "  <style>\n",
              "    .colab-df-container {\n",
              "      display:flex;\n",
              "      flex-wrap:wrap;\n",
              "      gap: 12px;\n",
              "    }\n",
              "\n",
              "    .colab-df-convert {\n",
              "      background-color: #E8F0FE;\n",
              "      border: none;\n",
              "      border-radius: 50%;\n",
              "      cursor: pointer;\n",
              "      display: none;\n",
              "      fill: #1967D2;\n",
              "      height: 32px;\n",
              "      padding: 0 0 0 0;\n",
              "      width: 32px;\n",
              "    }\n",
              "\n",
              "    .colab-df-convert:hover {\n",
              "      background-color: #E2EBFA;\n",
              "      box-shadow: 0px 1px 2px rgba(60, 64, 67, 0.3), 0px 1px 3px 1px rgba(60, 64, 67, 0.15);\n",
              "      fill: #174EA6;\n",
              "    }\n",
              "\n",
              "    [theme=dark] .colab-df-convert {\n",
              "      background-color: #3B4455;\n",
              "      fill: #D2E3FC;\n",
              "    }\n",
              "\n",
              "    [theme=dark] .colab-df-convert:hover {\n",
              "      background-color: #434B5C;\n",
              "      box-shadow: 0px 1px 3px 1px rgba(0, 0, 0, 0.15);\n",
              "      filter: drop-shadow(0px 1px 2px rgba(0, 0, 0, 0.3));\n",
              "      fill: #FFFFFF;\n",
              "    }\n",
              "  </style>\n",
              "\n",
              "      <script>\n",
              "        const buttonEl =\n",
              "          document.querySelector('#df-24610a50-8526-4e0a-acdd-9babebb8469e button.colab-df-convert');\n",
              "        buttonEl.style.display =\n",
              "          google.colab.kernel.accessAllowed ? 'block' : 'none';\n",
              "\n",
              "        async function convertToInteractive(key) {\n",
              "          const element = document.querySelector('#df-24610a50-8526-4e0a-acdd-9babebb8469e');\n",
              "          const dataTable =\n",
              "            await google.colab.kernel.invokeFunction('convertToInteractive',\n",
              "                                                     [key], {});\n",
              "          if (!dataTable) return;\n",
              "\n",
              "          const docLinkHtml = 'Like what you see? Visit the ' +\n",
              "            '<a target=\"_blank\" href=https://colab.research.google.com/notebooks/data_table.ipynb>data table notebook</a>'\n",
              "            + ' to learn more about interactive tables.';\n",
              "          element.innerHTML = '';\n",
              "          dataTable['output_type'] = 'display_data';\n",
              "          await google.colab.output.renderOutput(dataTable, element);\n",
              "          const docLink = document.createElement('div');\n",
              "          docLink.innerHTML = docLinkHtml;\n",
              "          element.appendChild(docLink);\n",
              "        }\n",
              "      </script>\n",
              "    </div>\n",
              "  </div>\n",
              "  "
            ],
            "text/plain": [
              "                                      Short description  ... lang_predict\n",
              "4                                          skype error   ...           ja\n",
              "14                             unable to open payslips   ...           en\n",
              "19                              unable to sign into vpn  ...           en\n",
              "20                             unable to check payslips  ...           en\n",
              "22                             unable to connect to vpn  ...           en\n",
              "...                                                 ...  ...          ...\n",
              "8465                                           vpn 连接不上  ...           hu\n",
              "8471                                           电脑开机开不出来  ...           zh\n",
              "8475               etime- time card update information.  ...           en\n",
              "8486                  ticket update on ticket_no0427635  ...           en\n",
              "8499  an mehreren pc`s lassen sich verschiedene prgr...  ...           de\n",
              "\n",
              "[1482 rows x 6 columns]"
            ]
          },
          "metadata": {},
          "execution_count": 52
        }
      ]
    },
    {
      "cell_type": "code",
      "source": [
        "!pip install deep-translator"
      ],
      "metadata": {
        "colab": {
          "base_uri": "https://localhost:8080/"
        },
        "id": "_3v97RCJKPEo",
        "outputId": "4deed8d4-9066-45a1-c405-c818dc04247e"
      },
      "execution_count": 53,
      "outputs": [
        {
          "output_type": "stream",
          "name": "stdout",
          "text": [
            "Collecting deep-translator\n",
            "  Downloading deep_translator-1.6.1-py3-none-any.whl (32 kB)\n",
            "Requirement already satisfied: requests<3.0.0,>=2.23.0 in /usr/local/lib/python3.7/dist-packages (from deep-translator) (2.23.0)\n",
            "Collecting beautifulsoup4<5.0.0,>=4.9.1\n",
            "  Downloading beautifulsoup4-4.10.0-py3-none-any.whl (97 kB)\n",
            "\u001b[K     |████████████████████████████████| 97 kB 3.7 MB/s \n",
            "\u001b[?25hCollecting click<9.0.0,>=8.0.1\n",
            "  Downloading click-8.0.3-py3-none-any.whl (97 kB)\n",
            "\u001b[K     |████████████████████████████████| 97 kB 5.9 MB/s \n",
            "\u001b[?25hCollecting soupsieve>1.2\n",
            "  Downloading soupsieve-2.3.1-py3-none-any.whl (37 kB)\n",
            "Requirement already satisfied: importlib-metadata in /usr/local/lib/python3.7/dist-packages (from click<9.0.0,>=8.0.1->deep-translator) (4.10.1)\n",
            "Requirement already satisfied: idna<3,>=2.5 in /usr/local/lib/python3.7/dist-packages (from requests<3.0.0,>=2.23.0->deep-translator) (2.10)\n",
            "Requirement already satisfied: urllib3!=1.25.0,!=1.25.1,<1.26,>=1.21.1 in /usr/local/lib/python3.7/dist-packages (from requests<3.0.0,>=2.23.0->deep-translator) (1.24.3)\n",
            "Requirement already satisfied: certifi>=2017.4.17 in /usr/local/lib/python3.7/dist-packages (from requests<3.0.0,>=2.23.0->deep-translator) (2021.10.8)\n",
            "Requirement already satisfied: chardet<4,>=3.0.2 in /usr/local/lib/python3.7/dist-packages (from requests<3.0.0,>=2.23.0->deep-translator) (3.0.4)\n",
            "Requirement already satisfied: zipp>=0.5 in /usr/local/lib/python3.7/dist-packages (from importlib-metadata->click<9.0.0,>=8.0.1->deep-translator) (3.7.0)\n",
            "Requirement already satisfied: typing-extensions>=3.6.4 in /usr/local/lib/python3.7/dist-packages (from importlib-metadata->click<9.0.0,>=8.0.1->deep-translator) (3.10.0.2)\n",
            "Installing collected packages: soupsieve, click, beautifulsoup4, deep-translator\n",
            "  Attempting uninstall: click\n",
            "    Found existing installation: click 7.1.2\n",
            "    Uninstalling click-7.1.2:\n",
            "      Successfully uninstalled click-7.1.2\n",
            "  Attempting uninstall: beautifulsoup4\n",
            "    Found existing installation: beautifulsoup4 4.6.3\n",
            "    Uninstalling beautifulsoup4-4.6.3:\n",
            "      Successfully uninstalled beautifulsoup4-4.6.3\n",
            "\u001b[31mERROR: pip's dependency resolver does not currently take into account all the packages that are installed. This behaviour is the source of the following dependency conflicts.\n",
            "flask 1.1.4 requires click<8.0,>=5.1, but you have click 8.0.3 which is incompatible.\u001b[0m\n",
            "Successfully installed beautifulsoup4-4.10.0 click-8.0.3 deep-translator-1.6.1 soupsieve-2.3.1\n"
          ]
        }
      ]
    },
    {
      "cell_type": "code",
      "source": [
        "from deep_translator import GoogleTranslator\n",
        "\n",
        "def translate_lang_en(to_translate, source_lang):\n",
        "  if source_lang == 'en':\n",
        "    return to_translate\n",
        "  try:\n",
        "    return GoogleTranslator(source=source_lang, target='en').translate(to_translate)\n",
        "  except:\n",
        "    return \"\""
      ],
      "metadata": {
        "id": "uptF954BKiJy"
      },
      "execution_count": 54,
      "outputs": []
    },
    {
      "cell_type": "code",
      "source": [
        "ticket_df_trans['Description_en'] = ticket_df_trans.apply(lambda x: translate_lang_en(x.Description, x.lang_predict), axis=1)"
      ],
      "metadata": {
        "id": "lSxj8trkKl7J"
      },
      "execution_count": null,
      "outputs": []
    },
    {
      "cell_type": "code",
      "source": [
        "ticket_df_trans['short_description_en'] = ticket_df_trans.apply(lambda x: translate_lang_en(x['Short description'], x.lang_predict), axis=1)"
      ],
      "metadata": {
        "id": "LOON4jPlSCM1"
      },
      "execution_count": null,
      "outputs": []
    },
    {
      "cell_type": "code",
      "source": [
        "ticket_df_trans[ticket_df_trans['lang_predict'] != 'en'].head(10)"
      ],
      "metadata": {
        "id": "eK7yZoHCMWYU"
      },
      "execution_count": null,
      "outputs": []
    },
    {
      "cell_type": "markdown",
      "source": [
        "**Approach 2**"
      ],
      "metadata": {
        "id": "FDCUmp5fG-iX"
      }
    },
    {
      "cell_type": "code",
      "source": [
        "!pip install google_trans_new"
      ],
      "metadata": {
        "id": "Ut4-LTlvScyA"
      },
      "execution_count": null,
      "outputs": []
    },
    {
      "cell_type": "code",
      "source": [
        "from langdetect import detect\n",
        "from google_trans_new import google_translator  \n",
        "\n",
        "#simple function to detect and translate text \n",
        "def detect_and_translate(text,target_lang):\n",
        "    \n",
        "    if target_lang == 'en':\n",
        "      return text\n",
        "    try:\n",
        "      result_lang = detect(text)\n",
        "    except:\n",
        "      print(f'Error in detection: {text}')\n",
        "      return text\n",
        "    \n",
        "    if result_lang == target_lang:\n",
        "        return text    \n",
        "    else:\n",
        "        translator = google_translator()\n",
        "        translate_text = translator.translate(text,lang_src=result_lang,lang_tgt=target_lang)\n",
        "        return translate_text "
      ],
      "metadata": {
        "id": "AWi8z927Sbof"
      },
      "execution_count": null,
      "outputs": []
    },
    {
      "cell_type": "code",
      "source": [
        "ticket_df_trans['Description_en_1'] = ticket_df_trans.apply(lambda x: detect_and_translate(x.Description, x.lang), axis=1)"
      ],
      "metadata": {
        "id": "PGAJ_fYESxep"
      },
      "execution_count": null,
      "outputs": []
    },
    {
      "cell_type": "code",
      "source": [
        "ticket_df_trans['short_description_en_1'] = ticket_df_trans.apply(lambda x: translate_lang_en(x['Short description'], x.lang_predict), axis=1)"
      ],
      "metadata": {
        "id": "ZkKrjQT1Sdyv"
      },
      "execution_count": null,
      "outputs": []
    },
    {
      "cell_type": "code",
      "source": [
        "ticket_df_trans[ticket_df_trans['lang_predict'] != 'en'].head(5)"
      ],
      "metadata": {
        "id": "77yLuELSUpcy"
      },
      "execution_count": null,
      "outputs": []
    },
    {
      "cell_type": "markdown",
      "source": [
        "**Approach 3** <br>\n",
        "There is limit to convert the word so this is not being used"
      ],
      "metadata": {
        "id": "bWjAlUPgPpDX"
      }
    },
    {
      "cell_type": "code",
      "source": [
        "# Define and construct the service urls\n",
        "svc_domains = ['.com','.com.au','.com.ar','.co.kr','.co.in','.co.jp','.at','.de','.ru','.ch','.fr','.es','.ae']\n",
        "svc_urls = ['http://translate.google' + domain for domain in svc_domains]"
      ],
      "metadata": {
        "id": "qACg_XwfNVDI"
      },
      "execution_count": null,
      "outputs": []
    },
    {
      "cell_type": "code",
      "source": [
        "# List of column data to consider for translation\n",
        "#trans_cols = ['Short description','Description']\n",
        "\n",
        "# Add a new column to store the detected language\n",
        "ticket_df.insert(loc=2, column='Language', value=np.nan, allow_duplicates=True)\n",
        "\n",
        "#for idx in range(ticket_df.shape[0]):\n",
        "    # Instantiate Goslate class in each iteration\n",
        "#    gs = Goslate(service_urls=svc_urls)\n",
        "#    lang = gs.detect(' '.join(ticket_df.loc[idx, trans_cols].tolist()))\n",
        "#    row_iter = gs.translate(ticket_df.loc[idx, trans_cols].tolist(), \n",
        "#                            target_language='en', \n",
        "#                            source_language='auto')\n",
        "#    ticket_df.loc[idx, trans_cols] = list(row_iter)\n",
        "    \n",
        "#ticket_df.Language = lang\n",
        "#ticket_df.head()"
      ],
      "metadata": {
        "id": "xh7BjV2xNfmc"
      },
      "execution_count": null,
      "outputs": []
    },
    {
      "cell_type": "markdown",
      "source": [
        "# **Text Preprocessing**"
      ],
      "metadata": {
        "id": "HsIRzsB_GBo2"
      }
    },
    {
      "cell_type": "code",
      "source": [
        "ticket_df_processing = ticket_df_trans.copy()"
      ],
      "metadata": {
        "id": "_RMbAn9KEFKb"
      },
      "execution_count": null,
      "outputs": []
    },
    {
      "cell_type": "code",
      "source": [
        "from dateutil import parser\n",
        "import re\n",
        "import string\n",
        "\n",
        "def lower_case(text):\n",
        "  return text.lower()\n",
        "def is_valid_date(date_str):\n",
        "    try:\n",
        "        parser.parse(date_str)\n",
        "        return True\n",
        "    except:\n",
        "        return False\n",
        "def remove_email(text):\n",
        "  text = re.sub(r'\\S*@\\S*\\s?', '', text)\n",
        "  return text\n",
        "def remove_number(text):\n",
        "  text = re.sub(r'\\d+','' ,text)\n",
        "  return text\n",
        "def remove_newline(text):\n",
        "  text = re.sub(r'\\n',' ',text)\n",
        "  return text\n",
        "def remove_special(text):\n",
        "  text = re.sub(r'#','', text)\n",
        "  text = text.translate(str.maketrans('', '', string.punctuation))\n",
        "  text = re.sub(r'\\s+', ' ', text)\n",
        "  return text\n",
        "def remove_hyperlink(text):\n",
        "  text = re.sub(r'https?:\\/\\/.*\\/\\w*', '', text)\n",
        "  return text\n",
        "def extract_email(text):\n",
        "  email_dict = get_email(text)\n",
        "  for key in email_dict.keys():\n",
        "    text = text.replace(email_dict[key], key)\n",
        "  return text, email_dict\n",
        "def add_email(text, email_dict):\n",
        "  for key in email_dict.keys():\n",
        "    text = text.replace(key, email_dict[key])\n",
        "  return text\n",
        "def get_email(text):\n",
        "    # Replaces the email addresses with custom key word and \n",
        "    # save them into a dictionary for future use\n",
        "    EMAIL_PATTERN = r\"([\\w.+-]+@[a-z\\d-]+\\.[a-z\\d.-]+)\"\n",
        "    unique_emailid = set(re.findall(EMAIL_PATTERN, text))\n",
        "    email_replacement = dict()\n",
        "    for idx, email in enumerate(unique_emailid):\n",
        "        email_replacement[f'RetainedEmailId{idx}'] = email\n",
        "    return email_replacement\n",
        "def clean_text(text):\n",
        "  text = lower_case(text)\n",
        "  text, email_dict = extract_email(text)\n",
        "  text = ' '.join([w for w in text.split() if not is_valid_date(w)])\n",
        "  #text = remove_email(text)\n",
        "  text = remove_newline(text)\n",
        "  text = remove_special(text)\n",
        "  text = remove_hyperlink(text)\n",
        "  text = add_email(text, email_dict)\n",
        "  text = remove_number(text)\n",
        "  return text.strip()"
      ],
      "metadata": {
        "id": "HKSTy9GQ8wzO"
      },
      "execution_count": null,
      "outputs": []
    },
    {
      "cell_type": "code",
      "source": [
        "print(ticket_df_processing['Description'][32])"
      ],
      "metadata": {
        "id": "M3Hwbr5XA1OR"
      },
      "execution_count": null,
      "outputs": []
    },
    {
      "cell_type": "code",
      "source": [
        "ticket_df_processing['Description'] = ticket_df_processing['Description'].apply(clean_text)\n",
        "ticket_df_processing['Description_en'] = ticket_df_processing['Description_en'].apply(clean_text)\n",
        "ticket_df_processing['Description_en_1'] = ticket_df_processing['Description_en_1'].apply(clean_text)"
      ],
      "metadata": {
        "id": "9Npg3htMGQrF"
      },
      "execution_count": null,
      "outputs": []
    },
    {
      "cell_type": "code",
      "source": [
        "ticket_df_processing['Short description'] =  ticket_df_processing['Short description'].apply(clean_text)\n",
        "ticket_df_processing['short_description_en'] =  ticket_df_processing['short_description_en'].apply(clean_text)\n",
        "ticket_df_processing['short_description_en_1'] =  ticket_df_processing['short_description_en_1'].apply(clean_text)"
      ],
      "metadata": {
        "id": "2_rjoIKVE0UZ"
      },
      "execution_count": null,
      "outputs": []
    },
    {
      "cell_type": "code",
      "source": [
        "print(ticket_df_processing['Description_en_1'][32])"
      ],
      "metadata": {
        "id": "1pee0bfrDKcT"
      },
      "execution_count": null,
      "outputs": []
    },
    {
      "cell_type": "markdown",
      "source": [
        "We have performed the data clearning activity"
      ],
      "metadata": {
        "id": "lexhzfUHFBND"
      }
    },
    {
      "cell_type": "markdown",
      "source": [
        "# **Stemming & Lemmatization**"
      ],
      "metadata": {
        "id": "Xa6fdpZCFAW2"
      }
    },
    {
      "cell_type": "code",
      "source": [
        "ticket_df_slt = ticket_df_processing.copy()"
      ],
      "metadata": {
        "id": "pWvXRtSKOlQa"
      },
      "execution_count": null,
      "outputs": []
    },
    {
      "cell_type": "code",
      "source": [
        "!pip install spacy"
      ],
      "metadata": {
        "id": "joSDNKWmO6eY"
      },
      "execution_count": null,
      "outputs": []
    },
    {
      "cell_type": "markdown",
      "source": [
        "**Combine Description and Short Description**"
      ],
      "metadata": {
        "id": "xikkZbI8QwSs"
      }
    },
    {
      "cell_type": "markdown",
      "source": [
        "Approach 1 has given better translation, so we will use the same columm for further processing"
      ],
      "metadata": {
        "id": "pMQwnJijWDLr"
      }
    },
    {
      "cell_type": "code",
      "source": [
        "ticket_df_slt['combine_description']=ticket_df_slt['short_description_en'].astype(str) + ' ' +ticket_df_slt['Description_en'].astype(str)"
      ],
      "metadata": {
        "id": "NeOoh39-O8Ys"
      },
      "execution_count": null,
      "outputs": []
    },
    {
      "cell_type": "code",
      "source": [
        "ticket_df_slt[ticket_df_slt['lang'] != 'en'].tail(10)"
      ],
      "metadata": {
        "id": "f1Te-jRTRxG3"
      },
      "execution_count": null,
      "outputs": []
    },
    {
      "cell_type": "code",
      "source": [
        "ticket_df_slt.iloc[8499]['combine_description']"
      ],
      "metadata": {
        "id": "QU5OlUOpO-Oi"
      },
      "execution_count": null,
      "outputs": []
    },
    {
      "cell_type": "code",
      "source": [
        "import spacy\n",
        "from nltk.corpus import stopwords\n",
        "import nltk\n",
        "nltk.download('wordnet')\n",
        "nltk.download('punkt')\n",
        "nltk.download('stopwords')\n",
        "nltk.download('averaged_perceptron_tagger') \n",
        "\n",
        "stopwords_eng = stopwords.words('english')\n",
        "for i,text in enumerate(ticket_df_slt['combine_description']):\n",
        "  ticket_df_slt['combine_description'][i]=\" \".join(word for word in text.split(' ') if word not in stopwords_eng)\n",
        " \n",
        "\n",
        "nlp = spacy.load('en', disable=['parser', 'ner'])\n",
        "allowed_postags=['NOUN', 'ADJ', 'VERB', 'ADV']\n",
        "def lemmatize_text(text):\n",
        "    doc = nlp(text)\n",
        "    return ' '.join([token.lemma_ for token in doc])"
      ],
      "metadata": {
        "id": "gK7KXnQWXEgk"
      },
      "execution_count": null,
      "outputs": []
    },
    {
      "cell_type": "code",
      "source": [
        "ticket_df_slt['combine_description'] = ticket_df_slt['combine_description'].apply(lemmatize_text)"
      ],
      "metadata": {
        "id": "KpuhIQZpXuWj"
      },
      "execution_count": null,
      "outputs": []
    },
    {
      "cell_type": "code",
      "source": [
        "ticket_df_slt['combine_description'][8499]"
      ],
      "metadata": {
        "id": "RvXKm2KXZK9-"
      },
      "execution_count": null,
      "outputs": []
    },
    {
      "cell_type": "markdown",
      "source": [
        "# **NGram**"
      ],
      "metadata": {
        "id": "EvvZfBuLLEWr"
      }
    },
    {
      "cell_type": "code",
      "source": [
        "ticket_df_ngram = ticket_df_slt.copy()"
      ],
      "metadata": {
        "id": "uTMt_6IK1I59"
      },
      "execution_count": null,
      "outputs": []
    },
    {
      "cell_type": "code",
      "source": [
        "from sklearn.feature_extraction.text import CountVectorizer, TfidfVectorizer, TfidfTransformer"
      ],
      "metadata": {
        "id": "5XhICv56z7kN"
      },
      "execution_count": null,
      "outputs": []
    },
    {
      "cell_type": "code",
      "source": [
        "def get_top_n_ngrams(corpus, top_n=None, ngram_range=(1,1), stopwords=None):\n",
        "    vec = CountVectorizer(ngram_range=ngram_range, \n",
        "                          stop_words=stopwords).fit(corpus)\n",
        "    bag_of_words = vec.transform(corpus)\n",
        "    sum_words = bag_of_words.sum(axis=0) \n",
        "    words_freq = [(word, sum_words[0, idx]) for word, idx in vec.vocabulary_.items()]\n",
        "    words_freq = sorted(words_freq, key = lambda x: x[1], reverse=True)\n",
        "    return words_freq[:top_n]"
      ],
      "metadata": {
        "id": "PFeduH891vjb"
      },
      "execution_count": null,
      "outputs": []
    },
    {
      "cell_type": "markdown",
      "source": [
        "**Unigrams**"
      ],
      "metadata": {
        "id": "fXOt2u5V9R08"
      }
    },
    {
      "cell_type": "code",
      "source": [
        "top_n = 50\n",
        "ngram_range = (1,1)\n",
        "uni_grams = get_top_n_ngrams(ticket_df_ngram.combine_description, top_n, ngram_range, stopwords=stopwords_eng)\n",
        "\n",
        "unigram_df = pd.DataFrame(uni_grams, columns = ['words' , 'count'])\n",
        "uni_top = unigram_df.head(10)\n",
        "uni_top.head()"
      ],
      "metadata": {
        "id": "yo0hxTw31ipf"
      },
      "execution_count": null,
      "outputs": []
    },
    {
      "cell_type": "markdown",
      "source": [
        "**BiGram**"
      ],
      "metadata": {
        "id": "aOGfzLnD9V9G"
      }
    },
    {
      "cell_type": "code",
      "source": [
        "top_n = 50\n",
        "bigram_range = (2,2)\n",
        "bi_grams = get_top_n_ngrams(ticket_df_ngram.combine_description, top_n, bigram_range, stopwords=stopwords_eng)\n",
        "\n",
        "bigram_df = pd.DataFrame(bi_grams, columns = ['words' , 'count'])\n",
        "bi_top = bigram_df.head(10)\n",
        "bi_top.head()"
      ],
      "metadata": {
        "id": "A5Xn1HTl9Vaa"
      },
      "execution_count": null,
      "outputs": []
    },
    {
      "cell_type": "markdown",
      "source": [
        "**TriGram**"
      ],
      "metadata": {
        "id": "Yp0nSyeh9xBz"
      }
    },
    {
      "cell_type": "code",
      "source": [
        "top_n = 50\n",
        "trigram_range = (3,3)\n",
        "tri_grams = get_top_n_ngrams(ticket_df_ngram.combine_description, top_n, trigram_range, stopwords=stopwords_eng)\n",
        "\n",
        "trigram_df = pd.DataFrame(tri_grams, columns = ['words' , 'count'])\n",
        "tri_top = trigram_df.head(10)\n",
        "tri_top.head()"
      ],
      "metadata": {
        "id": "eaj0fS2g9wK4"
      },
      "execution_count": null,
      "outputs": []
    },
    {
      "cell_type": "code",
      "source": [
        "fig, axes = plt.subplots(2, 2, figsize=(18, 10))\n",
        "\n",
        "axes[0, 0].set_title('Top unigram words')\n",
        "#sns.histplot(ticket_df_eda['sd_len'], ax=axes[0, 0])\n",
        "uni_top.groupby('words').sum()['count'].sort_values(ascending=False).plot(kind='bar',color='green', ax=axes[0, 0])\n",
        "\n",
        "bi_top.groupby('words').sum()['count'].sort_values(ascending=False).plot(kind='bar',color='blue', ax=axes[0, 1])\n",
        "axes[0, 1].set_title('Distribution of Short Description Word Count')\n",
        "\n",
        "tri_top.groupby('words').sum()['count'].sort_values(ascending=False).plot(kind='bar',color='red', ax=axes[1, 0])\n",
        "axes[1, 0].set_title('Distribution of Description Length')\n",
        "\n",
        "plt.show()"
      ],
      "metadata": {
        "id": "G2vgatmMKObF"
      },
      "execution_count": null,
      "outputs": []
    },
    {
      "cell_type": "markdown",
      "source": [
        "# **WordCloud**"
      ],
      "metadata": {
        "id": "1qiN76snMMLE"
      }
    },
    {
      "cell_type": "code",
      "source": [
        "from wordcloud import WordCloud, STOPWORDS, ImageColorGenerator\n",
        "def generate_word_clod(corpus):\n",
        "    # mask = np.array(Image.open('cloud2.png'))\n",
        "    # Instantiate the wordcloud object\n",
        "    wordcloud = WordCloud(width = 800, height = 800, \n",
        "                    background_color ='white', \n",
        "                    stopwords=stopwords_eng,\n",
        "                    # mask=mask,\n",
        "                    min_font_size = 10).generate(corpus)\n",
        "\n",
        "    # plot the WordCloud image                        \n",
        "    plt.figure(figsize = (12, 12), facecolor = None) \n",
        "    plt.imshow(wordcloud) \n",
        "    plt.axis(\"off\") \n",
        "    plt.tight_layout(pad = 0) \n",
        "\n",
        "    plt.show()"
      ],
      "metadata": {
        "id": "ozyFrNWcIKTU"
      },
      "execution_count": null,
      "outputs": []
    },
    {
      "cell_type": "code",
      "source": [
        "generate_word_clod(' '.join(ticket_df_ngram[ticket_df_ngram['Assignment group'] == 'GRP_0'].combine_description.str.strip()))"
      ],
      "metadata": {
        "id": "EylCHcLNILy0"
      },
      "execution_count": null,
      "outputs": []
    },
    {
      "cell_type": "code",
      "source": [
        "# Generate wordcloud for ticket Short description\n",
        "generate_word_clod(' '.join(ticket_df_ngram['Short description'].str.strip()))"
      ],
      "metadata": {
        "id": "5GTMvPeJJCa9"
      },
      "execution_count": null,
      "outputs": []
    },
    {
      "cell_type": "code",
      "source": [
        "generate_word_clod(' '.join(ticket_df_ngram.Description.str.strip()))"
      ],
      "metadata": {
        "id": "2RQmk62gJTJG"
      },
      "execution_count": null,
      "outputs": []
    },
    {
      "cell_type": "code",
      "source": [
        "# Generate wordcloud for combine description\n",
        "generate_word_clod(' '.join(ticket_df_ngram.combine_description.str.strip()))"
      ],
      "metadata": {
        "id": "tkzPlOCjJeWN"
      },
      "execution_count": null,
      "outputs": []
    },
    {
      "cell_type": "code",
      "source": [
        "ticket_df_ngram.describe()"
      ],
      "metadata": {
        "id": "5O9FzXEu6Fbf"
      },
      "execution_count": null,
      "outputs": []
    },
    {
      "cell_type": "markdown",
      "source": [
        "Word count by bin"
      ],
      "metadata": {
        "id": "e6m5P3iC93A0"
      }
    },
    {
      "cell_type": "code",
      "source": [
        "ticket_df_count = ticket_df_eda.copy()"
      ],
      "metadata": {
        "id": "gR6iHP7E96Xz"
      },
      "execution_count": null,
      "outputs": []
    },
    {
      "cell_type": "code",
      "source": [
        "data = pd.DataFrame()\n",
        "bins=[0,50,75, np.inf]\n",
        "data['bins']=pd.cut(ticket_df_count.sd_word_count, bins=[0,100,300,500,800, np.inf], labels=['0-100', '100-300', '300-500','500-800' ,'>800'])\n",
        "word_distribution = data.groupby('bins').size().reset_index().rename(columns={0:'counts'})\n",
        "word_distribution"
      ],
      "metadata": {
        "id": "3p8Y7HAa9-ib"
      },
      "execution_count": null,
      "outputs": []
    },
    {
      "cell_type": "code",
      "source": [
        "plt.figure(figsize=(8, 8))\n",
        "sns.barplot(x='bins', y='counts', data=word_distribution).set_title(\"Word distribution per bin\")\n",
        "plt.show()"
      ],
      "metadata": {
        "id": "6pSPqtc--RaG"
      },
      "execution_count": null,
      "outputs": []
    },
    {
      "cell_type": "markdown",
      "source": [
        "Label Encoding"
      ],
      "metadata": {
        "id": "x0Ti4bnZ-ZMM"
      }
    },
    {
      "cell_type": "code",
      "source": [
        "ticket_df_resample = ticket_df_ngram.copy()"
      ],
      "metadata": {
        "id": "L_rTTZc3-Rm5"
      },
      "execution_count": null,
      "outputs": []
    },
    {
      "cell_type": "code",
      "source": [
        "from sklearn import preprocessing\n",
        "label_encoder = preprocessing.LabelEncoder() \n",
        "dataframe= label_encoder.fit_transform(ticket_df_resample['Assignment group'])\n",
        "grp_mapping = dict(zip(label_encoder.transform(label_encoder.classes_), label_encoder.classes_))"
      ],
      "metadata": {
        "id": "UUCPwEzD-RzP"
      },
      "execution_count": null,
      "outputs": []
    },
    {
      "cell_type": "code",
      "source": [
        "dataframe"
      ],
      "metadata": {
        "id": "5vsPzCNO-R8S"
      },
      "execution_count": null,
      "outputs": []
    },
    {
      "cell_type": "markdown",
      "source": [
        "Handle Imbalance Data\n",
        "\n",
        "We can use multiple strategies, here we are using resample class from sklearn"
      ],
      "metadata": {
        "id": "L2PzZjEm-oP0"
      }
    },
    {
      "cell_type": "code",
      "source": [
        "from sklearn.utils import resample\n",
        "max = ticket_df_resample['Assignment group'].value_counts().max()"
      ],
      "metadata": {
        "id": "hF4ana3e-SFK"
      },
      "execution_count": null,
      "outputs": []
    },
    {
      "cell_type": "code",
      "source": [
        "descending_order = ticket_df_resample['Assignment group'].value_counts().sort_values(ascending=False).index\n",
        "plt.subplots(figsize=(22,5))\n",
        "#add code to rotate the labels\n",
        "ax=sns.countplot(x='Assignment group', data=ticket_df_resample, color='royalblue',order=descending_order)\n",
        "ax.set_xticklabels(ax.get_xticklabels(), rotation=45, ha=\"right\")\n",
        "plt.tight_layout()\n",
        "plt.show()"
      ],
      "metadata": {
        "id": "ls35Ge-3-SOB"
      },
      "execution_count": null,
      "outputs": []
    },
    {
      "cell_type": "code",
      "source": [
        "ticket_df_resample_after = ticket_df_resample[0:0]\n",
        "for grp in ticket_df_resample['Assignment group'].unique():\n",
        "    ticket_df_grp = ticket_df_resample[ticket_df_resample['Assignment group'] == grp]\n",
        "    resampled = resample(ticket_df_grp, replace=True, n_samples=max, random_state=123)\n",
        "    ticket_df_resample_after = ticket_df_resample_after.append(resampled)\n",
        "\n",
        "\n",
        "descending_order = ticket_df_resample_after['Assignment group'].value_counts().sort_values(ascending=False).index\n",
        "plt.subplots(figsize=(22,5))\n",
        "#add code to rotate the labels\n",
        "ax=sns.countplot(x='Assignment group', data=ticket_df_resample_after, color='royalblue')\n",
        "ax.set_xticklabels(ax.get_xticklabels(), rotation=45, ha=\"right\")\n",
        "plt.tight_layout()\n",
        "plt.show()"
      ],
      "metadata": {
        "id": "-TCrQL2R-4el"
      },
      "execution_count": null,
      "outputs": []
    },
    {
      "cell_type": "code",
      "source": [
        "ticket_df_final = ticket_df_resample_after.copy()"
      ],
      "metadata": {
        "id": "o5V4R97poOwC"
      },
      "execution_count": null,
      "outputs": []
    },
    {
      "cell_type": "code",
      "source": [
        "# Create a target categorical column\n",
        "#ticket_df_final['target'] = ticket_df_final['Assignment group'].astype('category').cat.codes\n",
        "#ticket_df_final.info()"
      ],
      "metadata": {
        "id": "7sRDnTqRnU9s"
      },
      "execution_count": null,
      "outputs": []
    },
    {
      "cell_type": "markdown",
      "source": [
        "Delete unwanted columns"
      ],
      "metadata": {
        "id": "oansFKOCN9q9"
      }
    },
    {
      "cell_type": "code",
      "source": [
        "ticket_df_final = ticket_df_final.drop(['Short description','Description','Caller','lang','lang_predict','Description_en','short_description_en','Description_en_1','short_description_en_1'], axis = 1)"
      ],
      "metadata": {
        "id": "Rf78yLQGN7_f"
      },
      "execution_count": null,
      "outputs": []
    },
    {
      "cell_type": "code",
      "source": [
        "ticket_df_final.info()"
      ],
      "metadata": {
        "id": "dXmmK9B1PBAm"
      },
      "execution_count": null,
      "outputs": []
    },
    {
      "cell_type": "code",
      "source": [
        "# A class that logs the time\n",
        "class Timer():\n",
        "    '''\n",
        "    A generic class to log the time\n",
        "    '''\n",
        "    def __init__(self):\n",
        "        self.start_ts = None\n",
        "    def start(self):\n",
        "        self.start_ts = time()\n",
        "    def stop(self):\n",
        "        return 'Time taken: %2fs' % (time()-self.start_ts)\n",
        "    \n",
        "timer = Timer()\n",
        "\n",
        "# A method that plots the Precision-Recall curve\n",
        "def plot_prec_recall_vs_thresh(precisions, recalls, thresholds):\n",
        "    plt.figure(figsize=(10,5))\n",
        "    plt.plot(thresholds, precisions[:-1], 'b--', label='precision')\n",
        "    plt.plot(thresholds, recalls[:-1], 'g--', label = 'recall')\n",
        "    plt.xlabel('Threshold')\n",
        "    plt.legend()\n",
        "\n",
        "# A method to train and test the model\n",
        "def run_classification(estimator, X_train, X_test, y_train, y_test, arch_name=None, pipelineRequired=True, isDeepModel=False):\n",
        "    timer.start()\n",
        "    # train the model\n",
        "    clf = estimator\n",
        "\n",
        "    if pipelineRequired :\n",
        "        clf = Pipeline([('vect', CountVectorizer()),\n",
        "                     ('tfidf', TfidfTransformer()),\n",
        "                     ('clf', estimator),\n",
        "                     ])\n",
        "      \n",
        "    if isDeepModel :\n",
        "        clf.fit(X_train, y_train, validation_data=(X_test, y_test),epochs=10, batch_size=128,verbose=1,callbacks=call_backs(arch_name))\n",
        "        # predict from the claffier\n",
        "        y_pred = clf.predict(X_test)\n",
        "        y_pred = np.argmax(y_pred, axis=1)\n",
        "        y_train_pred = clf.predict(X_train)\n",
        "        y_train_pred = np.argmax(y_train_pred, axis=1)\n",
        "    else :\n",
        "        clf.fit(X_train, y_train)\n",
        "        # predict from the claffier\n",
        "        y_pred = clf.predict(X_test)\n",
        "        y_train_pred = clf.predict(X_train)\n",
        "    \n",
        "    print('Estimator:', clf)\n",
        "    print('='*80)\n",
        "    print('Training accuracy: %.2f%%' % (accuracy_score(y_train,y_train_pred) * 100))\n",
        "    print('Testing accuracy: %.2f%%' % (accuracy_score(y_test, y_pred) * 100))\n",
        "    print('='*80)\n",
        "    print('Confusion matrix:\\n %s' % (confusion_matrix(y_test, y_pred)))\n",
        "    print('='*80)\n",
        "    print('Classification report:\\n %s' % (classification_report(y_test, y_pred)))\n",
        "    print(timer.stop(), 'to run the model')"
      ],
      "metadata": {
        "id": "C3K_M02jnpmD"
      },
      "execution_count": null,
      "outputs": []
    },
    {
      "cell_type": "code",
      "source": [
        "# Create training and test datasets with 80:20 ratio\n",
        "X_train, X_test, y_train, y_test = train_test_split(ticket_df_final.combine_description, \n",
        "                                                    ticket_df_final['Assignment group'], \n",
        "                                                    test_size=0.20, \n",
        "                                                    random_state=42)\n",
        "print('\\033[1mShape of the training set:\\033[0m', X_train.shape, y_train.shape)\n",
        "print('\\033[1mShape of the test set:\\033[0m', X_test.shape, y_test.shape)"
      ],
      "metadata": {
        "id": "ILtFaQrboxmv"
      },
      "execution_count": null,
      "outputs": []
    },
    {
      "cell_type": "code",
      "source": [
        "run_classification(MultinomialNB(), X_train, X_test, y_train, y_test)"
      ],
      "metadata": {
        "id": "SN3OoLxVplnt"
      },
      "execution_count": null,
      "outputs": []
    },
    {
      "cell_type": "code",
      "source": [
        "run_classification(KNeighborsClassifier(), X_train, X_test, y_train, y_test)"
      ],
      "metadata": {
        "id": "fKRPlY4MqIMp"
      },
      "execution_count": null,
      "outputs": []
    },
    {
      "cell_type": "code",
      "source": [
        "# SVM with Linear kernel\n",
        "run_classification(LinearSVC(), X_train, X_test, y_train, y_test)"
      ],
      "metadata": {
        "id": "Nabw2N7orDFf"
      },
      "execution_count": null,
      "outputs": []
    },
    {
      "cell_type": "code",
      "source": [
        "# SVM with RBF kernel\n",
        "run_classification(SVC(kernel='rbf'), X_train, X_test, y_train, y_test)"
      ],
      "metadata": {
        "id": "D5sHcQU3reGW"
      },
      "execution_count": null,
      "outputs": []
    },
    {
      "cell_type": "code",
      "source": [
        "run_classification(DecisionTreeClassifier(), X_train, X_test, y_train, y_test)"
      ],
      "metadata": {
        "id": "E8zfaa4Gr8bI"
      },
      "execution_count": null,
      "outputs": []
    },
    {
      "cell_type": "code",
      "source": [
        "run_classification(RandomForestClassifier(n_estimators=100), X_train, X_test, y_train, y_test)"
      ],
      "metadata": {
        "id": "3cKX4YsjsL6G"
      },
      "execution_count": null,
      "outputs": []
    },
    {
      "cell_type": "code",
      "source": [
        ""
      ],
      "metadata": {
        "id": "-_eoXTjmsUoA"
      },
      "execution_count": null,
      "outputs": []
    }
  ],
  "metadata": {
    "colab": {
      "collapsed_sections": [
        "tLMbrRBo85N6"
      ],
      "name": "AUTOMATIC_TICKET_ASSIGNMENT-sudip.ipynb",
      "provenance": []
    },
    "kernelspec": {
      "display_name": "Python 3 (ipykernel)",
      "language": "python",
      "name": "python3"
    },
    "language_info": {
      "codemirror_mode": {
        "name": "ipython",
        "version": 3
      },
      "file_extension": ".py",
      "mimetype": "text/x-python",
      "name": "python",
      "nbconvert_exporter": "python",
      "pygments_lexer": "ipython3",
      "version": "3.7.11"
    }
  },
  "nbformat": 4,
  "nbformat_minor": 0
}